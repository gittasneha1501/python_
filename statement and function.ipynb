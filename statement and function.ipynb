{
  "nbformat": 4,
  "nbformat_minor": 0,
  "metadata": {
    "colab": {
      "provenance": []
    },
    "kernelspec": {
      "name": "python3",
      "display_name": "Python 3"
    },
    "language_info": {
      "name": "python"
    }
  },
  "cells": [
    {
      "cell_type": "markdown",
      "source": [
        "#condition statement"
      ],
      "metadata": {
        "id": "dkOPpjsEOLEN"
      }
    },
    {
      "cell_type": "markdown",
      "source": [
        "##if condition"
      ],
      "metadata": {
        "id": "qpcVSsbxP0ja"
      }
    },
    {
      "cell_type": "code",
      "execution_count": 1,
      "metadata": {
        "colab": {
          "base_uri": "https://localhost:8080/"
        },
        "id": "p_UQaWCyOIBg",
        "outputId": "418a5f14-8f5f-4aa9-c667-086ab2549556"
      },
      "outputs": [
        {
          "output_type": "stream",
          "name": "stdout",
          "text": [
            "number is positive\n",
            "number is positive\n",
            "number is negative\n",
            "number is negative\n"
          ]
        }
      ],
      "source": [
        "a=32\n",
        "b=43\n",
        "c=95                   #if statement\n",
        "d=-37\n",
        "e=-5\n",
        "if a>0:\n",
        "  print('number is positive')\n",
        "if b<0:\n",
        "  print('number is positive')   #skipped bcz false statement\n",
        "if c>0:\n",
        "  print('number is positive')\n",
        "if d<0:\n",
        "  print('number is negative')\n",
        "if e<0:\n",
        "  print('number is negative')\n",
        "\n"
      ]
    },
    {
      "cell_type": "markdown",
      "source": [
        "##else condition"
      ],
      "metadata": {
        "id": "QPg6eMV-P3dJ"
      }
    },
    {
      "cell_type": "code",
      "source": [
        "a=32\n",
        "b=43\n",
        "c=-15\n",
        "d=-37\n",
        "e=-5\n",
        "if a>0:\n",
        "  print('number is positive')\n",
        "else:\n",
        "  print('number is negative')\n",
        "if b<0:\n",
        "  print('number is positive')\n",
        "else:\n",
        "  print('number is negative')\n",
        "if c>0:\n",
        "  print('number is positive')\n",
        "else:\n",
        "  print('number is negative')\n",
        "if d<0:\n",
        "  print('number is negative')\n",
        "else:\n",
        "  print('number is positive')\n",
        "if e>0:\n",
        "  print('number is negative')\n",
        "else:\n",
        "  print('number is positive')\n",
        "\n"
      ],
      "metadata": {
        "colab": {
          "base_uri": "https://localhost:8080/"
        },
        "id": "Rv1uR1JBPVDh",
        "outputId": "59b6f814-daad-4b33-9126-8307a9eeca65"
      },
      "execution_count": 3,
      "outputs": [
        {
          "output_type": "stream",
          "name": "stdout",
          "text": [
            "number is positive\n",
            "number is negative\n",
            "number is negative\n",
            "number is negative\n",
            "number is positive\n"
          ]
        }
      ]
    },
    {
      "cell_type": "markdown",
      "source": [
        "##elif condition"
      ],
      "metadata": {
        "id": "ToTUON65Q1AH"
      }
    },
    {
      "cell_type": "code",
      "source": [
        "a=32\n",
        "b=43\n",
        "c=0\n",
        "d=-37\n",
        "e=-5\n",
        "if a>0:\n",
        "  print('number is positive')\n",
        "elif a<0:\n",
        "  print('number is negative')\n",
        "else:\n",
        "  print('zero')\n",
        "if b<0:\n",
        "  print('number is positive')\n",
        "elif b>0:\n",
        "  print('number is negative')\n",
        "else:\n",
        "  print('zero')\n",
        "if c>0:\n",
        "  print('number is positive')\n",
        "elif c<0:\n",
        "  print('number is negative')\n",
        "else:\n",
        "  print('zero')\n",
        "if d<0:\n",
        "  print('number is negative')\n",
        "elif d>0:\n",
        "  print('number is positive')\n",
        "else:\n",
        "  print('zero')\n",
        "if e>0:\n",
        "  print('number is negative')\n",
        "elif e<0:\n",
        "  print('number is positive')\n",
        "else:\n",
        "  print('zero')\n",
        "\n"
      ],
      "metadata": {
        "colab": {
          "base_uri": "https://localhost:8080/"
        },
        "id": "kzYBrJ0NQsQm",
        "outputId": "18087b17-aec0-4db5-f5a9-413e7d65e3ae"
      },
      "execution_count": 4,
      "outputs": [
        {
          "output_type": "stream",
          "name": "stdout",
          "text": [
            "number is positive\n",
            "number is negative\n",
            "zero\n",
            "number is negative\n",
            "number is positive\n"
          ]
        }
      ]
    },
    {
      "cell_type": "markdown",
      "source": [
        "#loop statements"
      ],
      "metadata": {
        "id": "rgbiLsIOSAgP"
      }
    },
    {
      "cell_type": "markdown",
      "source": [
        "##while loop"
      ],
      "metadata": {
        "id": "J_E9ufWuSC1R"
      }
    },
    {
      "cell_type": "code",
      "source": [
        "i=1\n",
        "while i<=4:\n",
        "   print(i)\n",
        "   i=i+1\n"
      ],
      "metadata": {
        "colab": {
          "base_uri": "https://localhost:8080/"
        },
        "id": "bzjD7MMOR3yN",
        "outputId": "199991a3-f93d-444c-a7c8-4a76e43d9cbf"
      },
      "execution_count": 11,
      "outputs": [
        {
          "output_type": "stream",
          "name": "stdout",
          "text": [
            "1\n",
            "2\n",
            "3\n",
            "4\n"
          ]
        }
      ]
    },
    {
      "cell_type": "code",
      "source": [
        "j=2\n",
        "while j<=15:\n",
        "  print(j)\n",
        "  j=j+2"
      ],
      "metadata": {
        "colab": {
          "base_uri": "https://localhost:8080/"
        },
        "id": "b8Cm9jXMSkxW",
        "outputId": "e0dfdd3f-8d5e-4848-848f-d08ab2a0e0c3"
      },
      "execution_count": 12,
      "outputs": [
        {
          "output_type": "stream",
          "name": "stdout",
          "text": [
            "2\n",
            "4\n",
            "6\n",
            "8\n",
            "10\n",
            "12\n",
            "14\n"
          ]
        }
      ]
    },
    {
      "cell_type": "code",
      "source": [
        "k=5\n",
        "while k<=14:\n",
        " print(k)\n",
        " k=k+3\n"
      ],
      "metadata": {
        "colab": {
          "base_uri": "https://localhost:8080/"
        },
        "id": "dlLx8mcuS_p9",
        "outputId": "f45bf701-f65e-43bd-e776-168e4cadacbc"
      },
      "execution_count": 16,
      "outputs": [
        {
          "output_type": "stream",
          "name": "stdout",
          "text": [
            "5\n",
            "8\n",
            "11\n",
            "14\n"
          ]
        }
      ]
    },
    {
      "cell_type": "code",
      "source": [
        "l=2\n",
        "while l<=8:\n",
        "  print(l)\n",
        "  l+=1\n",
        "\n",
        ""
      ],
      "metadata": {
        "colab": {
          "base_uri": "https://localhost:8080/"
        },
        "id": "xblMH3q-TLm6",
        "outputId": "74837e95-8b8a-4f9a-ed51-d87f31761b04"
      },
      "execution_count": 18,
      "outputs": [
        {
          "output_type": "stream",
          "name": "stdout",
          "text": [
            "2\n",
            "3\n",
            "4\n",
            "5\n",
            "6\n",
            "7\n",
            "8\n"
          ]
        }
      ]
    },
    {
      "cell_type": "markdown",
      "source": [
        "##for loop"
      ],
      "metadata": {
        "id": "AT0MhaxpT7kc"
      }
    },
    {
      "cell_type": "code",
      "source": [
        "name='sneha'\n",
        "for x in name:\n",
        "  print(x)"
      ],
      "metadata": {
        "colab": {
          "base_uri": "https://localhost:8080/"
        },
        "id": "7k7yjyjJTpgB",
        "outputId": "44c71bf4-c4f9-4733-e26c-3cd4bb159627"
      },
      "execution_count": 19,
      "outputs": [
        {
          "output_type": "stream",
          "name": "stdout",
          "text": [
            "s\n",
            "n\n",
            "e\n",
            "h\n",
            "a\n"
          ]
        }
      ]
    },
    {
      "cell_type": "code",
      "source": [
        "profile={'name:sneha','age:22','gender:female','qulaification:btech'}\n",
        "for data in profile:\n",
        "  print(data)"
      ],
      "metadata": {
        "colab": {
          "base_uri": "https://localhost:8080/"
        },
        "id": "Dokx1L81UNZ8",
        "outputId": "34fdff85-cd1f-47d6-8c97-f1e6415d3c3c"
      },
      "execution_count": 21,
      "outputs": [
        {
          "output_type": "stream",
          "name": "stdout",
          "text": [
            "name:sneha\n",
            "age:22\n",
            "qulaification:btech\n",
            "gender:female\n"
          ]
        }
      ]
    },
    {
      "cell_type": "code",
      "source": [
        "pets=['dog','rabbit','hen','cock','pigeon']\n",
        "for pet in pets:\n",
        "  print(pet)"
      ],
      "metadata": {
        "colab": {
          "base_uri": "https://localhost:8080/"
        },
        "id": "mhBxu2b-UpB2",
        "outputId": "d51af039-492a-4347-a458-14d24c44d500"
      },
      "execution_count": 23,
      "outputs": [
        {
          "output_type": "stream",
          "name": "stdout",
          "text": [
            "dog\n",
            "rabbit\n",
            "hen\n",
            "cock\n",
            "pigeon\n"
          ]
        }
      ]
    },
    {
      "cell_type": "code",
      "source": [
        "digits={1,2,3,4,5,6,7,8}\n",
        "for digit in digits:\n",
        "  print(digit)"
      ],
      "metadata": {
        "colab": {
          "base_uri": "https://localhost:8080/"
        },
        "id": "RRh-IpKUVIt3",
        "outputId": "4f476f4f-e216-45b6-e006-4d97f59bc1ac"
      },
      "execution_count": 24,
      "outputs": [
        {
          "output_type": "stream",
          "name": "stdout",
          "text": [
            "1\n",
            "2\n",
            "3\n",
            "4\n",
            "5\n",
            "6\n",
            "7\n",
            "8\n"
          ]
        }
      ]
    },
    {
      "cell_type": "code",
      "source": [
        "family=('ravinder','latha','sneha','sindhu')\n",
        "for name in family:\n",
        "  print(name)"
      ],
      "metadata": {
        "colab": {
          "base_uri": "https://localhost:8080/"
        },
        "id": "Tn9PgDidVURQ",
        "outputId": "3c08059d-61a3-4ebf-bbbf-0acb18ffb06c"
      },
      "execution_count": 25,
      "outputs": [
        {
          "output_type": "stream",
          "name": "stdout",
          "text": [
            "ravinder\n",
            "latha\n",
            "sneha\n",
            "sindhu\n"
          ]
        }
      ]
    },
    {
      "cell_type": "markdown",
      "source": [
        "#control statements"
      ],
      "metadata": {
        "id": "ueG1Se-_VrI0"
      }
    },
    {
      "cell_type": "markdown",
      "source": [
        "##pass"
      ],
      "metadata": {
        "id": "TkP3KpHHVwbA"
      }
    },
    {
      "cell_type": "code",
      "source": [
        "for i in range(5):\n",
        "  if i==3:        #no action\n",
        "    pass\n",
        "  else:\n",
        "    print(i)\n",
        "\n",
        ""
      ],
      "metadata": {
        "colab": {
          "base_uri": "https://localhost:8080/"
        },
        "id": "Actk0P0OVj05",
        "outputId": "abb2c392-13e4-4499-9df4-96efceb1b986"
      },
      "execution_count": 28,
      "outputs": [
        {
          "output_type": "stream",
          "name": "stdout",
          "text": [
            "0\n",
            "1\n",
            "2\n",
            "4\n"
          ]
        }
      ]
    },
    {
      "cell_type": "code",
      "source": [
        "data=input('enter your data: ')\n",
        "profile={'name:sneha','age:22','gender:female','qulaification:btech'}\n",
        "for data in profile:\n",
        "  if (data=='age:22'):\n",
        "     print('true')\n",
        "     pass\n",
        "  else:\n",
        "    print('false')\n",
        "\n"
      ],
      "metadata": {
        "colab": {
          "base_uri": "https://localhost:8080/"
        },
        "id": "U4CigEv7XC1G",
        "outputId": "d7a8a02f-47ba-4cae-ef75-fd54c6d72ae0"
      },
      "execution_count": 51,
      "outputs": [
        {
          "output_type": "stream",
          "name": "stdout",
          "text": [
            "enter your data: age:22\n",
            "false\n",
            "true\n",
            "false\n",
            "false\n"
          ]
        }
      ]
    },
    {
      "cell_type": "code",
      "source": [
        "fruits=['apple','banana','mango','grapes']\n",
        "for fruit in fruits:\n",
        "  if fruit=='banana':\n",
        "    print('true')\n",
        "  else:\n",
        "    print('false')"
      ],
      "metadata": {
        "colab": {
          "base_uri": "https://localhost:8080/"
        },
        "id": "lVP0jD0SYkKx",
        "outputId": "56140f7a-c29e-4c5f-ac28-c07b10cf15cd"
      },
      "execution_count": 46,
      "outputs": [
        {
          "output_type": "stream",
          "name": "stdout",
          "text": [
            "false\n",
            "true\n",
            "false\n",
            "false\n"
          ]
        }
      ]
    },
    {
      "cell_type": "markdown",
      "source": [
        "##break"
      ],
      "metadata": {
        "id": "rLwJNFJ_bFht"
      }
    },
    {
      "cell_type": "code",
      "source": [
        "for i in range(9):\n",
        "  if i==5:        #exit a loop\n",
        "    break\n",
        "  print(i)\n",
        "\n",
        ""
      ],
      "metadata": {
        "colab": {
          "base_uri": "https://localhost:8080/"
        },
        "id": "75NjoEwCa2R9",
        "outputId": "e29a085b-09ca-49e2-bd07-4bc115386423"
      },
      "execution_count": 50,
      "outputs": [
        {
          "output_type": "stream",
          "name": "stdout",
          "text": [
            "0\n",
            "1\n",
            "2\n",
            "3\n",
            "4\n"
          ]
        }
      ]
    },
    {
      "cell_type": "code",
      "source": [
        "profile={'name:sneha','age:22','gender:female','qulaification:btech'}\n",
        "for data in profile:\n",
        "  if data=='gender:female':\n",
        "    break\n",
        "  print(data)\n",
        "\n",
        "\n",
        "\n",
        "\n"
      ],
      "metadata": {
        "colab": {
          "base_uri": "https://localhost:8080/"
        },
        "id": "RfDUtUFnbhKf",
        "outputId": "b913627f-cee6-47ab-eb9c-3b3cb9f1e0ff"
      },
      "execution_count": 69,
      "outputs": [
        {
          "output_type": "stream",
          "name": "stdout",
          "text": [
            "name:sneha\n",
            "age:22\n",
            "qulaification:btech\n"
          ]
        }
      ]
    },
    {
      "cell_type": "code",
      "source": [
        " fruits=['apple','banana','mango','grapes']\n",
        "for fruit in fruits:\n",
        "  if fruit=='mango':\n",
        "    break\n",
        "  print(fruit)\n"
      ],
      "metadata": {
        "colab": {
          "base_uri": "https://localhost:8080/"
        },
        "id": "k0sIWNs7cHzq",
        "outputId": "ea68b0dc-0a14-4d7b-ccab-4fc0dce35c09"
      },
      "execution_count": 75,
      "outputs": [
        {
          "output_type": "stream",
          "name": "stdout",
          "text": [
            "apple\n",
            "banana\n"
          ]
        }
      ]
    },
    {
      "cell_type": "markdown",
      "source": [
        "##continue"
      ],
      "metadata": {
        "id": "Pay7eBZ8d2L1"
      }
    },
    {
      "cell_type": "code",
      "source": [
        "for i in range(7):\n",
        "  if i==4:        #skip the current itteration\n",
        "    continue\n",
        "  else:\n",
        "    print(i)"
      ],
      "metadata": {
        "colab": {
          "base_uri": "https://localhost:8080/"
        },
        "id": "lx4uTvHYdpP8",
        "outputId": "3d6d374a-9ed0-4a94-90b5-a610e9ac24fd"
      },
      "execution_count": 78,
      "outputs": [
        {
          "output_type": "stream",
          "name": "stdout",
          "text": [
            "0\n",
            "1\n",
            "2\n",
            "3\n",
            "5\n",
            "6\n"
          ]
        }
      ]
    },
    {
      "cell_type": "code",
      "source": [
        "profile={'name:sneha','age:22','gender:female','qulaification:btech'}\n",
        "for data in profile:\n",
        "  if data=='gender:female':\n",
        "    continue\n",
        "  else:\n",
        "    print(data)\n",
        "\n",
        "\n",
        "\n"
      ],
      "metadata": {
        "colab": {
          "base_uri": "https://localhost:8080/"
        },
        "id": "UpZjPvUveIRT",
        "outputId": "aab48d15-f896-4a21-ccc1-5366f4961d03"
      },
      "execution_count": 79,
      "outputs": [
        {
          "output_type": "stream",
          "name": "stdout",
          "text": [
            "name:sneha\n",
            "age:22\n",
            "qulaification:btech\n"
          ]
        }
      ]
    },
    {
      "cell_type": "code",
      "source": [
        "fruits=['apple','banana','mango','grapes']\n",
        "for fruit in fruits:\n",
        "  if fruit=='apple':\n",
        "    continue\n",
        "  else:\n",
        "     print(fruit)\n"
      ],
      "metadata": {
        "colab": {
          "base_uri": "https://localhost:8080/"
        },
        "id": "8LmKc9k8ea7n",
        "outputId": "973e4f9e-148c-4c77-ddc9-56f57d342ed2"
      },
      "execution_count": 80,
      "outputs": [
        {
          "output_type": "stream",
          "name": "stdout",
          "text": [
            "banana\n",
            "mango\n",
            "grapes\n"
          ]
        }
      ]
    },
    {
      "cell_type": "markdown",
      "source": [
        "#functions"
      ],
      "metadata": {
        "id": "r9OlCDN5e9GG"
      }
    },
    {
      "cell_type": "markdown",
      "source": [
        "#standard function\n"
      ],
      "metadata": {
        "id": "WCbSk73Ue_a3"
      }
    },
    {
      "cell_type": "code",
      "source": [
        "import math\n",
        "a=math.sqrt(64)\n",
        "b=math.pow(3,3)\n",
        "c=math.sqrt(36)\n",
        "d=math.pow(6,5)\n",
        "e=math.pow(2,4)\n",
        "print('square root of 64 is',a)\n",
        "print('3 to the powerof 3',b)\n",
        "print('square root of 36 is',c)\n",
        "print('6 to the powerof 5',d)\n",
        "print('2 to the powerof 4',e)"
      ],
      "metadata": {
        "colab": {
          "base_uri": "https://localhost:8080/"
        },
        "id": "D-R1ejitelld",
        "outputId": "46fa4314-72ba-4b7d-d10c-c5afb364c55f"
      },
      "execution_count": 84,
      "outputs": [
        {
          "output_type": "stream",
          "name": "stdout",
          "text": [
            "square root of 64 is 8.0\n",
            "3 to the powerof 3 27.0\n",
            "square root of 36 is 6.0\n",
            "6 to the powerof 5 7776.0\n",
            "2 to the powerof 4 16.0\n"
          ]
        }
      ]
    },
    {
      "cell_type": "markdown",
      "source": [
        "##user defined function"
      ],
      "metadata": {
        "id": "HQrWjHtngVbR"
      }
    },
    {
      "cell_type": "code",
      "source": [
        "def a(name):\n",
        "  print(f'hi,{name}!')   #calling function\n",
        "a('sneha')\n"
      ],
      "metadata": {
        "colab": {
          "base_uri": "https://localhost:8080/"
        },
        "id": "uLaSBRmqfaUz",
        "outputId": "82ce8a20-02d4-4d0c-abef-2513c86cc4bf"
      },
      "execution_count": 86,
      "outputs": [
        {
          "output_type": "stream",
          "name": "stdout",
          "text": [
            "hi,sneha!\n"
          ]
        }
      ]
    },
    {
      "cell_type": "code",
      "source": [
        "def profile(name,age,qualification):   #no.of arguements\n",
        "  print(f'my name is {name},iam {age} years old,i pursued {qualification}')\n",
        "profile('sneha','22','btech')\n"
      ],
      "metadata": {
        "colab": {
          "base_uri": "https://localhost:8080/"
        },
        "id": "_LwKBUsshB_1",
        "outputId": "e4b1572b-6252-4385-e985-92fc57396cfc"
      },
      "execution_count": 87,
      "outputs": [
        {
          "output_type": "stream",
          "name": "stdout",
          "text": [
            "my name is sneha,iam 22 years old,i pursued btech\n"
          ]
        }
      ]
    },
    {
      "cell_type": "code",
      "source": [
        "def address(_1,_2,_3):\n",
        "  print(f'village:{_1},mandal:{_2},district:{_3}')  #return stmt\n",
        "  return\n",
        "address('madikonda','kazipet','warangal')"
      ],
      "metadata": {
        "colab": {
          "base_uri": "https://localhost:8080/"
        },
        "id": "_fK4EGjlh-ve",
        "outputId": "d2b36740-6602-4ec2-9428-d39970a60da6"
      },
      "execution_count": 101,
      "outputs": [
        {
          "output_type": "stream",
          "name": "stdout",
          "text": [
            "village:madikonda,mandal:kazipet,district:warangal\n"
          ]
        }
      ]
    },
    {
      "cell_type": "markdown",
      "source": [
        "##lambda function"
      ],
      "metadata": {
        "id": "nxQDo8opkNrn"
      }
    },
    {
      "cell_type": "code",
      "source": [
        "x=lambda a:a+50   #no.of arguements 1 expression\n",
        "y=lambda p,q:p+50-q\n",
        "z=lambda a,b,c:a*2+b-c\n",
        "print(x(4))\n",
        "print(y(34,43))\n",
        "print(z(23,76,45))"
      ],
      "metadata": {
        "colab": {
          "base_uri": "https://localhost:8080/"
        },
        "id": "DNee3zPBiwLu",
        "outputId": "99f737fd-1ed6-466c-c951-ccabb8334aaf"
      },
      "execution_count": 105,
      "outputs": [
        {
          "output_type": "stream",
          "name": "stdout",
          "text": [
            "54\n",
            "41\n",
            "77\n"
          ]
        }
      ]
    },
    {
      "cell_type": "code",
      "source": [
        "def func(n):\n",
        "  return lambda a:a*n\n",
        "mult=func(3)\n",
        "print(mult(7))"
      ],
      "metadata": {
        "colab": {
          "base_uri": "https://localhost:8080/"
        },
        "id": "INlMf8kvkqL8",
        "outputId": "b66b10b2-af21-455f-fe33-2c0d7a227087"
      },
      "execution_count": 106,
      "outputs": [
        {
          "output_type": "stream",
          "name": "stdout",
          "text": [
            "21\n"
          ]
        }
      ]
    },
    {
      "cell_type": "markdown",
      "source": [
        "#global variables & local variables\n"
      ],
      "metadata": {
        "id": "2sku2fuymXu6"
      }
    },
    {
      "cell_type": "code",
      "source": [
        "#local variable\n",
        "def f(data):\n",
        "  a='my name is sneha'\n",
        "  b='iam 22 yrs old'\n",
        "  c='i am from madikonda'\n",
        "  d='pursued btech'\n",
        "  print(a)\n",
        "  print(b)     #only inside\n",
        "  print(c)\n",
        "  print(d)\n",
        "f(data)\n"
      ],
      "metadata": {
        "colab": {
          "base_uri": "https://localhost:8080/"
        },
        "id": "hh5VVoDOmJva",
        "outputId": "e4688861-7abb-455c-c727-bb2616af19ee"
      },
      "execution_count": 121,
      "outputs": [
        {
          "output_type": "stream",
          "name": "stdout",
          "text": [
            "my name is sneha\n",
            "iam 22 yrs old\n",
            "i am from madikonda\n",
            "pursued btech\n"
          ]
        }
      ]
    },
    {
      "cell_type": "code",
      "source": [
        "#global variable\n",
        "a='my name is sneha'\n",
        "b='iam 22 yrs old'\n",
        "c='i am from madikonda'\n",
        "d='pursued btech'\n",
        "def f(data):\n",
        "  print(a)   #inside\n",
        "  print(b)\n",
        "f(data)\n",
        "print(c)     #outside\n",
        "print(d)\n",
        "\n",
        "\n",
        "\n"
      ],
      "metadata": {
        "colab": {
          "base_uri": "https://localhost:8080/"
        },
        "id": "LHVv7s5rnAFn",
        "outputId": "1a05eafe-c10c-489d-930a-d3352ad474db"
      },
      "execution_count": 125,
      "outputs": [
        {
          "output_type": "stream",
          "name": "stdout",
          "text": [
            "my name is sneha\n",
            "iam 22 yrs old\n",
            "i am from madikonda\n",
            "pursued btech\n"
          ]
        }
      ]
    },
    {
      "cell_type": "code",
      "source": [],
      "metadata": {
        "id": "z23wR-aRpg59"
      },
      "execution_count": null,
      "outputs": []
    }
  ]
}