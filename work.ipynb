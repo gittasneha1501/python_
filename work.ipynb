{
  "nbformat": 4,
  "nbformat_minor": 0,
  "metadata": {
    "colab": {
      "provenance": []
    },
    "kernelspec": {
      "name": "python3",
      "display_name": "Python 3"
    },
    "language_info": {
      "name": "python"
    }
  },
  "cells": [
    {
      "cell_type": "code",
      "source": [
        "a=int(input('enter num1: '))\n",
        "b=int(input('enter num2: '))\n",
        "c=int(input('enter num3: '))        #greatest number\n",
        "if a>=b and a>c:\n",
        "  print('a is greatest')\n",
        "elif b>a and b>c:\n",
        "  print('b is greatest')\n",
        "else:\n",
        "  print('c is greatest')\n"
      ],
      "metadata": {
        "colab": {
          "base_uri": "https://localhost:8080/"
        },
        "id": "liS1urvN461i",
        "outputId": "d891ebf2-c5de-4a20-bda9-92a7a4eb9ff9"
      },
      "execution_count": null,
      "outputs": [
        {
          "output_type": "stream",
          "name": "stdout",
          "text": [
            "enter num1: 22\n",
            "enter num2: 45\n",
            "enter num3: 35\n",
            "b is greatest\n"
          ]
        }
      ]
    },
    {
      "cell_type": "code",
      "source": [
        "print('voting system')\n",
        "age=int(input('enter age'))               #voting\n",
        "if age>18:\n",
        "  print('you are eligible for voting')\n",
        "else:\n",
        "  print('you are not eligible for voting')"
      ],
      "metadata": {
        "colab": {
          "base_uri": "https://localhost:8080/"
        },
        "id": "9eu4zN6J6Wtu",
        "outputId": "9fcca285-cea3-428c-a630-8ff01824d18c"
      },
      "execution_count": null,
      "outputs": [
        {
          "output_type": "stream",
          "name": "stdout",
          "text": [
            "voting system\n",
            "enter age22\n",
            "you are eligible for voting\n"
          ]
        }
      ]
    },
    {
      "cell_type": "code",
      "source": [
        "\n",
        "def prime(num):\n",
        "num=int(input('enter number: '))       #prime number\n",
        "for i in range(2,n//2+1):\n",
        "  if(num/i)==0:\n",
        "   print('it is not a prime number')\n",
        "   break\n",
        "  else:\n",
        "   print('it is a prime number')\n",
        "   break\n",
        "\n",
        "\n",
        "\n"
      ],
      "metadata": {
        "colab": {
          "base_uri": "https://localhost:8080/"
        },
        "id": "Dw2RUpSv8txt",
        "outputId": "5583f693-0bce-48fb-b8df-42d9ae3ac1ea"
      },
      "execution_count": null,
      "outputs": [
        {
          "output_type": "stream",
          "name": "stdout",
          "text": [
            "enter number: 11\n",
            "it is a prime number\n"
          ]
        }
      ]
    },
    {
      "cell_type": "code",
      "source": [
        "message=input('enter message: ')\n",
        "for vowel in message:\n",
        "  if vowel in 'aeiou':                   #vowel\n",
        "    print(vowel)"
      ],
      "metadata": {
        "colab": {
          "base_uri": "https://localhost:8080/"
        },
        "id": "g9qxo-Mc_do5",
        "outputId": "838bb2ef-cf48-45c6-d68a-80b8c7195ffb"
      },
      "execution_count": null,
      "outputs": [
        {
          "output_type": "stream",
          "name": "stdout",
          "text": [
            "enter message: i am good\n",
            "i\n",
            "a\n",
            "o\n",
            "o\n"
          ]
        }
      ]
    },
    {
      "cell_type": "code",
      "source": [
        "message=input('enter message: ')\n",
        "for consonants in message:\n",
        "  if consonants not in 'aeiou':       #consonants\n",
        "    print(consonants)"
      ],
      "metadata": {
        "colab": {
          "base_uri": "https://localhost:8080/"
        },
        "id": "LjJAMYLFL6_U",
        "outputId": "ba4a824c-39ba-4a94-e6ba-2177ef8addf5"
      },
      "execution_count": null,
      "outputs": [
        {
          "output_type": "stream",
          "name": "stdout",
          "text": [
            "enter message: this is sneha\n",
            "t\n",
            "h\n",
            "s\n",
            " \n",
            "s\n",
            " \n",
            "s\n",
            "n\n",
            "h\n"
          ]
        }
      ]
    },
    {
      "cell_type": "code",
      "source": [
        "message=input('enter message: ')\n",
        "print(message.count('a'))            #occurrance\n"
      ],
      "metadata": {
        "colab": {
          "base_uri": "https://localhost:8080/"
        },
        "id": "p8zuigvINliV",
        "outputId": "86815e19-80fe-4636-c8c4-5d098ca7c556"
      },
      "execution_count": null,
      "outputs": [
        {
          "output_type": "stream",
          "name": "stdout",
          "text": [
            "enter message: i am from madikonda\n",
            "3\n"
          ]
        }
      ]
    },
    {
      "cell_type": "code",
      "source": [],
      "metadata": {
        "id": "i6Kx4oPHNzfe"
      },
      "execution_count": null,
      "outputs": []
    }
  ]
}