{
  "nbformat": 4,
  "nbformat_minor": 0,
  "metadata": {
    "colab": {
      "provenance": []
    },
    "kernelspec": {
      "name": "python3",
      "display_name": "Python 3"
    },
    "language_info": {
      "name": "python"
    }
  },
  "cells": [
    {
      "cell_type": "markdown",
      "source": [
        "#LIST DATATYPE\n",
        "\n",
        "##python list              \n"
      ],
      "metadata": {
        "id": "9F4rYpboF3Hi"
      }
    },
    {
      "cell_type": "code",
      "source": [
        "a=[1,2,3,4,5]\n",
        "b=[5,6,7,8,9] #mutable\n",
        "print(a+b) #prints both elements present in variable\n"
      ],
      "metadata": {
        "colab": {
          "base_uri": "https://localhost:8080/"
        },
        "id": "8abu_lOkGO8-",
        "outputId": "b0d89402-6bfc-412b-e3e7-aa09451f03bd"
      },
      "execution_count": null,
      "outputs": [
        {
          "output_type": "stream",
          "name": "stdout",
          "text": [
            "[1, 2, 3, 4, 5, 5, 6, 7, 8, 9]\n"
          ]
        }
      ]
    },
    {
      "cell_type": "code",
      "source": [],
      "metadata": {
        "id": "ixXKmC6vT4mz"
      },
      "execution_count": null,
      "outputs": []
    },
    {
      "cell_type": "code",
      "source": [
        "c=['apple','orange','grapes']\n",
        "d=[22,33,44,55,66]\n",
        "x=c+d\n",
        "print(x)"
      ],
      "metadata": {
        "colab": {
          "base_uri": "https://localhost:8080/"
        },
        "id": "NQ9JKDuwGepP",
        "outputId": "cdc3f81b-9508-4912-a9cb-f5e91dbc06ef"
      },
      "execution_count": null,
      "outputs": [
        {
          "output_type": "stream",
          "name": "stdout",
          "text": [
            "['apple', 'orange', 'grapes', 22, 33, 44, 55, 66]\n"
          ]
        }
      ]
    },
    {
      "cell_type": "code",
      "source": [
        "p=['ravinder','latha','sneha','sindhu']\n",
        "q=['ramesh','nirmala','anusha','arun']\n",
        "r=['swetha','akhila','swathi','praharsha','lavanya']\n",
        "s=p+q+r\n",
        "print(s)\n",
        "print(type(s))"
      ],
      "metadata": {
        "colab": {
          "base_uri": "https://localhost:8080/"
        },
        "id": "3oHG-tP_HKSC",
        "outputId": "e3a1b6a5-0867-48f5-c8ba-6616fa9b754d"
      },
      "execution_count": null,
      "outputs": [
        {
          "output_type": "stream",
          "name": "stdout",
          "text": [
            "['ravinder', 'latha', 'sneha', 'sindhu', 'ramesh', 'nirmala', 'anusha', 'arun', 'swetha', 'akhila', 'swathi', 'praharsha', 'lavanya']\n",
            "<class 'list'>\n"
          ]
        }
      ]
    },
    {
      "cell_type": "code",
      "source": [
        "u=[12,23,34,45,56]\n",
        "v=['w','a','r','a','n','g','a','l']\n",
        "w=u+v\n",
        "print(w)\n"
      ],
      "metadata": {
        "colab": {
          "base_uri": "https://localhost:8080/"
        },
        "id": "Zc9FzDR8H8kA",
        "outputId": "6d0adce2-dbc9-4c97-bad7-beae58a3cfb6"
      },
      "execution_count": null,
      "outputs": [
        {
          "output_type": "stream",
          "name": "stdout",
          "text": [
            "[12, 23, 34, 45, 56, 'w', 'a', 'r', 'a', 'n', 'g', 'a', 'l']\n"
          ]
        }
      ]
    },
    {
      "cell_type": "code",
      "source": [
        "fruits=['water melon','papaya','musk melon','pine apple']\n",
        "vegetables=['mirchi','tomato','potato']\n",
        "print(fruits)\n",
        "print(type(vegetables))"
      ],
      "metadata": {
        "colab": {
          "base_uri": "https://localhost:8080/"
        },
        "id": "Oc9wdlBDIioy",
        "outputId": "b2e5e5ef-bbfe-462c-933f-b3d494a69390"
      },
      "execution_count": null,
      "outputs": [
        {
          "output_type": "stream",
          "name": "stdout",
          "text": [
            "['water melon', 'papaya', 'musk melon', 'pine apple']\n",
            "<class 'list'>\n"
          ]
        }
      ]
    },
    {
      "cell_type": "markdown",
      "source": [
        "###Access index"
      ],
      "metadata": {
        "id": "hcsVCsDAKvAv"
      }
    },
    {
      "cell_type": "code",
      "source": [
        "#positive index\n",
        "a=[9,8,7,6]\n",
        "b=[5,4,3,2,1]\n",
        "print(a[3],b[4]) #'+' index starts with '0' right to left\n",
        "print(b[2])\n",
        "\n"
      ],
      "metadata": {
        "colab": {
          "base_uri": "https://localhost:8080/"
        },
        "id": "aPDiLOwRJltA",
        "outputId": "46da4e9c-0e1e-4f19-a13f-f6ae9e75848a"
      },
      "execution_count": null,
      "outputs": [
        {
          "output_type": "stream",
          "name": "stdout",
          "text": [
            "6 1\n",
            "3\n"
          ]
        }
      ]
    },
    {
      "cell_type": "code",
      "source": [
        "c=['telangana','warangal','kazipet','madikonda']\n",
        "print(c[1])"
      ],
      "metadata": {
        "colab": {
          "base_uri": "https://localhost:8080/"
        },
        "id": "Bi9gdfr6JuDU",
        "outputId": "67a56501-9bba-4bf9-99d1-75f22b31abb4"
      },
      "execution_count": null,
      "outputs": [
        {
          "output_type": "stream",
          "name": "stdout",
          "text": [
            "warangal\n"
          ]
        }
      ]
    },
    {
      "cell_type": "code",
      "source": [
        "p=[10,29,38,47,56]\n",
        "q=['k','r','i','s','h','n','a']\n",
        "print(p[3],p[4])\n",
        "print(q[0],q[1],q[2],q[3],q[4],q[5],q[6])"
      ],
      "metadata": {
        "colab": {
          "base_uri": "https://localhost:8080/"
        },
        "id": "dXdPWEd-Kalq",
        "outputId": "38191ded-72d4-48ee-a923-aedaec0323d3"
      },
      "execution_count": null,
      "outputs": [
        {
          "output_type": "stream",
          "name": "stdout",
          "text": [
            "47 56\n",
            "k r i s h n a\n"
          ]
        }
      ]
    },
    {
      "cell_type": "code",
      "source": [
        "Languages_1=['python','java','c','c++']\n",
        "Languages_2=['telugu','hindi','english']\n",
        "print(Languages_1[3])\n",
        "print(type(Languages_2))"
      ],
      "metadata": {
        "colab": {
          "base_uri": "https://localhost:8080/"
        },
        "id": "pnT0RPqILqHs",
        "outputId": "0d5a2c83-dddb-4edf-f458-658366be6c67"
      },
      "execution_count": null,
      "outputs": [
        {
          "output_type": "stream",
          "name": "stdout",
          "text": [
            "c++\n",
            "<class 'list'>\n"
          ]
        }
      ]
    },
    {
      "cell_type": "code",
      "source": [
        "#negative index\n",
        "a=[7,6,5,4,3,2,1,0]\n",
        "print(a[-5]) #satrts with -1 left to right\n",
        "print(type(a))"
      ],
      "metadata": {
        "colab": {
          "base_uri": "https://localhost:8080/"
        },
        "id": "Cs40WojrNgIw",
        "outputId": "ff9bd168-cdcc-4b9d-958c-35b97a085198"
      },
      "execution_count": null,
      "outputs": [
        {
          "output_type": "stream",
          "name": "stdout",
          "text": [
            "4\n",
            "<class 'list'>\n"
          ]
        }
      ]
    },
    {
      "cell_type": "code",
      "source": [
        "veg=['fruits','vegetables']\n",
        "non_veg=['chicken','meat','eggs']\n",
        "print(veg[-2],non_veg[-3])"
      ],
      "metadata": {
        "colab": {
          "base_uri": "https://localhost:8080/"
        },
        "id": "2Tp6cvG2NyNM",
        "outputId": "050ea170-08bc-4584-f0c6-020007111c9d"
      },
      "execution_count": null,
      "outputs": [
        {
          "output_type": "stream",
          "name": "stdout",
          "text": [
            "fruits chicken\n"
          ]
        }
      ]
    },
    {
      "cell_type": "code",
      "source": [
        "name=['s','n','e','h','a']\n",
        "mobile=[8,3,2,8,2,3,9,9,5,4]\n",
        "print(name[-3])\n",
        "print(mobile[-9])"
      ],
      "metadata": {
        "colab": {
          "base_uri": "https://localhost:8080/"
        },
        "id": "hns_fCnQOon-",
        "outputId": "ae5ea510-6935-418f-fcb5-e9d05e296e25"
      },
      "execution_count": null,
      "outputs": [
        {
          "output_type": "stream",
          "name": "stdout",
          "text": [
            "e\n",
            "3\n"
          ]
        }
      ]
    },
    {
      "cell_type": "code",
      "source": [
        "_108=['a','m','b','u','l','a','n','c','e']\n",
        "print(_108[-7])\n",
        "print(type(_108))"
      ],
      "metadata": {
        "colab": {
          "base_uri": "https://localhost:8080/"
        },
        "id": "FVwqY_gQPSLu",
        "outputId": "9115e1a1-a5b6-41a4-bc56-1450059254ad"
      },
      "execution_count": null,
      "outputs": [
        {
          "output_type": "stream",
          "name": "stdout",
          "text": [
            "b\n",
            "<class 'list'>\n"
          ]
        }
      ]
    },
    {
      "cell_type": "markdown",
      "source": [
        "###Slicing of alist"
      ],
      "metadata": {
        "id": "N9xyXQF0QB0L"
      }
    },
    {
      "cell_type": "code",
      "source": [
        "ph=[7,3,8,6,3,9,2,3,3,0]\n",
        "print(ph[0:10]) #starts value:end value.....n-1 is end value and 0 is starting value"
      ],
      "metadata": {
        "colab": {
          "base_uri": "https://localhost:8080/"
        },
        "id": "Ivjbt3xFP_i0",
        "outputId": "49348fb9-0f05-471f-e85a-da40961b2a6b"
      },
      "execution_count": null,
      "outputs": [
        {
          "output_type": "stream",
          "name": "stdout",
          "text": [
            "[7, 3, 8, 6, 3, 9, 2, 3, 3, 0]\n"
          ]
        }
      ]
    },
    {
      "cell_type": "code",
      "source": [
        "domain=['python','excel','sql','power_bi','tablue']\n",
        "print(domain[1:])"
      ],
      "metadata": {
        "colab": {
          "base_uri": "https://localhost:8080/"
        },
        "id": "V7oXXXy0QxDt",
        "outputId": "43b0a754-5b6c-41d5-aaca-f0d55ee0702f"
      },
      "execution_count": null,
      "outputs": [
        {
          "output_type": "stream",
          "name": "stdout",
          "text": [
            "['excel', 'sql', 'power_bi', 'tablue']\n"
          ]
        }
      ]
    },
    {
      "cell_type": "code",
      "source": [
        "colors=['red','pink','black','white','purple','green','yellow']\n",
        "print(colors[:5])"
      ],
      "metadata": {
        "colab": {
          "base_uri": "https://localhost:8080/"
        },
        "id": "D5UR5dTnRszq",
        "outputId": "b80241f5-bc79-49ea-8c93-56aadff1bce2"
      },
      "execution_count": null,
      "outputs": [
        {
          "output_type": "stream",
          "name": "stdout",
          "text": [
            "['red', 'pink', 'black', 'white', 'purple']\n"
          ]
        }
      ]
    },
    {
      "cell_type": "code",
      "source": [
        "_abc=['vivo','samsung','iphone','realme','redmi']\n",
        "print(_abc[:])"
      ],
      "metadata": {
        "colab": {
          "base_uri": "https://localhost:8080/"
        },
        "id": "2stdfNiOSL1v",
        "outputId": "e1979485-ea27-40b0-ddb2-03d6856ea026"
      },
      "execution_count": null,
      "outputs": [
        {
          "output_type": "stream",
          "name": "stdout",
          "text": [
            "['vivo', 'samsung', 'iphone', 'realme', 'redmi']\n"
          ]
        }
      ]
    },
    {
      "cell_type": "code",
      "source": [
        "_numbers=[0,1,2,3,4,5,6,7,8,9]\n",
        "print(_numbers[5:9])\n",
        "print(type(_numbers))"
      ],
      "metadata": {
        "colab": {
          "base_uri": "https://localhost:8080/"
        },
        "id": "URc62gapSo0H",
        "outputId": "5d57d8e7-69e3-420d-8e68-a4f6b2cad748"
      },
      "execution_count": null,
      "outputs": [
        {
          "output_type": "stream",
          "name": "stdout",
          "text": [
            "[5, 6, 7, 8]\n",
            "<class 'list'>\n"
          ]
        }
      ]
    },
    {
      "cell_type": "markdown",
      "source": [
        "###List operations\n",
        "\n"
      ],
      "metadata": {
        "id": "5dY0vgV5TKtN"
      }
    },
    {
      "cell_type": "code",
      "source": [
        "#concatenation\n",
        "a=[3,5,7,88]\n",
        "b=[2,68,5,8,4]\n",
        "c=a+b\n",
        "print(c) #combonation of 2 lists @union\n"
      ],
      "metadata": {
        "colab": {
          "base_uri": "https://localhost:8080/"
        },
        "id": "MWEd4pkVTFuU",
        "outputId": "13ead26a-63c6-4fae-9284-195b185daae6"
      },
      "execution_count": null,
      "outputs": [
        {
          "output_type": "stream",
          "name": "stdout",
          "text": [
            "[3, 5, 7, 88, 2, 68, 5, 8, 4]\n"
          ]
        }
      ]
    },
    {
      "cell_type": "code",
      "source": [
        "C=['I','N','D','I','A']\n",
        "D=['W','O','R','L','D']\n",
        "print(C+D)"
      ],
      "metadata": {
        "colab": {
          "base_uri": "https://localhost:8080/"
        },
        "id": "m4K4GOF2UlhJ",
        "outputId": "d2b096f7-cdba-45a8-d6d7-7282ad653cba"
      },
      "execution_count": null,
      "outputs": [
        {
          "output_type": "stream",
          "name": "stdout",
          "text": [
            "['I', 'N', 'D', 'I', 'A', 'W', 'O', 'R', 'L', 'D']\n"
          ]
        }
      ]
    },
    {
      "cell_type": "code",
      "source": [
        "u=[2,4,6,8]\n",
        "v=[3,6,9]\n",
        "w=u+v\n",
        "print(w)"
      ],
      "metadata": {
        "colab": {
          "base_uri": "https://localhost:8080/"
        },
        "id": "MAFt1n-4VERC",
        "outputId": "8bfe0fad-5ad1-4bca-a2f1-3307bbbdb945"
      },
      "execution_count": null,
      "outputs": [
        {
          "output_type": "stream",
          "name": "stdout",
          "text": [
            "[2, 4, 6, 8, 3, 6, 9]\n"
          ]
        }
      ]
    },
    {
      "cell_type": "code",
      "source": [
        "x=[86,96,76,66]\n",
        "y=[12,13,14,15,16,17]\n",
        "z=x+y\n",
        "print(z)\n",
        "print(type(z))"
      ],
      "metadata": {
        "colab": {
          "base_uri": "https://localhost:8080/"
        },
        "id": "_MdblfEvViS-",
        "outputId": "dc9e4fbd-8318-4dbd-d84d-33061ea9b2d1"
      },
      "execution_count": null,
      "outputs": [
        {
          "output_type": "stream",
          "name": "stdout",
          "text": [
            "[86, 96, 76, 66, 12, 13, 14, 15, 16, 17]\n",
            "<class 'list'>\n"
          ]
        }
      ]
    },
    {
      "cell_type": "code",
      "source": [
        "#repetition\n",
        "fruits=['apple','mango','banana']\n",
        "print(fruits*3)  #repitation of list in n times i.e 3"
      ],
      "metadata": {
        "colab": {
          "base_uri": "https://localhost:8080/"
        },
        "id": "5VDIi910WCES",
        "outputId": "e4e9c9b8-622b-48e7-a800-13c91903d5cc"
      },
      "execution_count": null,
      "outputs": [
        {
          "output_type": "stream",
          "name": "stdout",
          "text": [
            "['apple', 'mango', 'banana', 'apple', 'mango', 'banana', 'apple', 'mango', 'banana']\n"
          ]
        }
      ]
    },
    {
      "cell_type": "code",
      "source": [
        "_101=['fire_station']\n",
        "print(_101*7)\n",
        "print(type(_101))"
      ],
      "metadata": {
        "colab": {
          "base_uri": "https://localhost:8080/"
        },
        "id": "UoDQWnvXWh1w",
        "outputId": "bf220e92-e829-4005-acb0-844f0c47d349"
      },
      "execution_count": null,
      "outputs": [
        {
          "output_type": "stream",
          "name": "stdout",
          "text": [
            "['fire_station', 'fire_station', 'fire_station', 'fire_station', 'fire_station', 'fire_station', 'fire_station']\n",
            "<class 'list'>\n"
          ]
        }
      ]
    },
    {
      "cell_type": "code",
      "source": [
        "x=['s','w','e','t','h','a']\n",
        "print(x*0)\n",
        "print(x*4)"
      ],
      "metadata": {
        "colab": {
          "base_uri": "https://localhost:8080/"
        },
        "id": "XX_qvF5oXAj2",
        "outputId": "bf25f784-7b58-49b0-8512-79e04f49cb45"
      },
      "execution_count": null,
      "outputs": [
        {
          "output_type": "stream",
          "name": "stdout",
          "text": [
            "[]\n",
            "['s', 'w', 'e', 't', 'h', 'a', 's', 'w', 'e', 't', 'h', 'a', 's', 'w', 'e', 't', 'h', 'a', 's', 'w', 'e', 't', 'h', 'a']\n"
          ]
        }
      ]
    },
    {
      "cell_type": "markdown",
      "source": [
        "##Change list items\n"
      ],
      "metadata": {
        "id": "WA_3fLwujM4B"
      }
    },
    {
      "cell_type": "code",
      "source": [
        "a=[1,2,3,4]\n",
        "b=['s','n','e','h','a']\n",
        "c=[108,'ambulance','helpline']\n",
        "d=[45,65,'p','h','mobile']\n",
        "e=['sneha','swetha','akhila','swathi','lavanya']\n",
        "a[3]=0                                  #change the value of a specific item\n",
        "b[0]='g'\n",
        "c[-1]='emergency'\n",
        "d[-3]=85\n",
        "e[-1]='potti'\n",
        "print(a)\n",
        "print(b)\n",
        "print(c)\n",
        "print(d)\n",
        "print(e)\n",
        "\n",
        "print()\n",
        "\n",
        "print('////////////////')\n",
        "\n",
        "print()\n",
        "\n",
        "p=[1,2,3,4,5,6,7]\n",
        "q=['s','n','e','h','a','g','i','t','t','a']\n",
        "r=[108,'ambulance','helpline']\n",
        "s=[7,3,8,6,3,9,2,3,3,0,'mobile']\n",
        "t=['sneha','swetha','akhila','swathi','lavanya']\n",
        "p[0:6]=[13,12,11,10,9,8]                      #change a range of item values\n",
        "q[-5:]=['.','r','a','v','i']\n",
        "r[0:2]=[101,'fire_station']\n",
        "s[0:10]=[8,3,2,8,2,3,9,9,5,4]\n",
        "t[:]='friends'\n",
        "print(p)\n",
        "print(q)\n",
        "print(r)\n",
        "print(s)\n",
        "print(t)\n",
        "\n",
        "\n",
        "\n",
        "\n",
        "\n"
      ],
      "metadata": {
        "id": "oeU0HZF9XhsC",
        "colab": {
          "base_uri": "https://localhost:8080/"
        },
        "outputId": "bf148c71-5f7e-44eb-ce59-732002094243"
      },
      "execution_count": 19,
      "outputs": [
        {
          "output_type": "stream",
          "name": "stdout",
          "text": [
            "[1, 2, 3, 0]\n",
            "['g', 'n', 'e', 'h', 'a']\n",
            "[108, 'ambulance', 'emergency']\n",
            "[45, 65, 85, 'h', 'mobile']\n",
            "['sneha', 'swetha', 'akhila', 'swathi', 'potti']\n",
            "\n",
            "////////////////\n",
            "\n",
            "[13, 12, 11, 10, 9, 8, 7]\n",
            "['s', 'n', 'e', 'h', 'a', '.', 'r', 'a', 'v', 'i']\n",
            "[101, 'fire_station', 'helpline']\n",
            "[8, 3, 2, 8, 2, 3, 9, 9, 5, 4, 'mobile']\n",
            "['f', 'r', 'i', 'e', 'n', 'd', 's']\n"
          ]
        }
      ]
    },
    {
      "cell_type": "markdown",
      "source": [
        "##List methods"
      ],
      "metadata": {
        "id": "PtQ7DWbiqf5m"
      }
    },
    {
      "cell_type": "code",
      "source": [
        "#append()\n",
        "\n",
        "a=[22,33,44,55,66]\n",
        "fruits=['apple','banana','mango']\n",
        "datatypes=['list','tuple','string','integers']\n",
        "_506142=['m','a','d','i','k','o','n','d','a']\n",
        "mix=[99,'pine_apple','complex']                   #adds element at the end\n",
        "a.append(77)\n",
        "fruits.append('grapes')\n",
        "datatypes.append('float')\n",
        "_506142.append('pin_code')\n",
        "mix.append('g')\n",
        "print(a)\n",
        "print(fruits)\n",
        "print(datatypes)\n",
        "print(_506142)\n",
        "print(mix)"
      ],
      "metadata": {
        "colab": {
          "base_uri": "https://localhost:8080/"
        },
        "id": "3RAMwenul0vf",
        "outputId": "79a99ace-4aa3-4bd1-c58d-7514f7f11ebc"
      },
      "execution_count": 21,
      "outputs": [
        {
          "output_type": "stream",
          "name": "stdout",
          "text": [
            "[22, 33, 44, 55, 66, 77]\n",
            "['apple', 'banana', 'mango', 'grapes']\n",
            "['list', 'tuple', 'string', 'integers', 'float']\n",
            "['m', 'a', 'd', 'i', 'k', 'o', 'n', 'd', 'a', 'pin_code']\n",
            "[99, 'pine_apple', 'complex', 'g']\n"
          ]
        }
      ]
    },
    {
      "cell_type": "code",
      "source": [
        "#extend()\n",
        "\n",
        "a=[22,33,44,55,66]\n",
        "fruits=['apple','banana','mango','grapes']\n",
        "datatypes=['list','tuple','string',]\n",
        "_506142=['k','o','n','d','a']\n",
        "mix=[99,'apple','complain']\n",
        "_b=['#','$','%','!']\n",
        "\n",
        "                #appends elememt for another iterable to the end\n",
        "a.extend(_b)\n",
        "fruits.extend(mix)\n",
        "_506142.extend(a)\n",
        "datatypes.extend(mix)\n",
        "mix.extend(fruits)\n",
        "print(a)\n",
        "print(fruits)\n",
        "print(datatypes)\n",
        "print(_506142)\n",
        "print(mix)"
      ],
      "metadata": {
        "colab": {
          "base_uri": "https://localhost:8080/"
        },
        "id": "26TltK8bsrAG",
        "outputId": "2c7eca68-55ae-456b-9eb1-352240c118ff"
      },
      "execution_count": 25,
      "outputs": [
        {
          "output_type": "stream",
          "name": "stdout",
          "text": [
            "[22, 33, 44, 55, 66, '#', '$', '%', '!']\n",
            "['apple', 'banana', 'mango', 'grapes', 99, 'apple', 'complain']\n",
            "['list', 'tuple', 'string', 99, 'apple', 'complain']\n",
            "['k', 'o', 'n', 'd', 'a', 22, 33, 44, 55, 66, '#', '$', '%', '!']\n",
            "[99, 'apple', 'complain', 'apple', 'banana', 'mango', 'grapes', 99, 'apple', 'complain']\n"
          ]
        }
      ]
    },
    {
      "cell_type": "code",
      "source": [
        "#insert()\n",
        "friends=['sneha','swetha','akhila','swathi']\n",
        "numbers=[4,5,6,7,8]\n",
        "_15factors=[1,3,5]\n",
        "list=[34,'h','45']\n",
        "event=['mehandi','haldi','muhurtham']\n",
        "             #inserts an ekement in a specific portion\n",
        "friends.insert(3,'lavanya')\n",
        "numbers.insert(0,2)\n",
        "_15factors.insert(-1,15)\n",
        "event.insert(-1,'reception')\n",
        "list.insert(2,40)\n",
        "print(friends)\n",
        "print(numbers)\n",
        "print(_15factors)\n",
        "print(event)\n",
        "print(list)\n",
        "\n",
        "\n"
      ],
      "metadata": {
        "colab": {
          "base_uri": "https://localhost:8080/"
        },
        "id": "UeEVryYZuwWf",
        "outputId": "8abc82f4-c980-484d-f087-ad950dceb9f9"
      },
      "execution_count": 30,
      "outputs": [
        {
          "output_type": "stream",
          "name": "stdout",
          "text": [
            "['sneha', 'swetha', 'akhila', 'lavanya', 'swathi']\n",
            "[2, 4, 5, 6, 7, 8]\n",
            "[1, 3, 15, 5]\n",
            "['mehandi', 'haldi', 'reception', 'muhurtham']\n",
            "[34, 'h', 40, '45']\n"
          ]
        }
      ]
    },
    {
      "cell_type": "code",
      "source": [
        "#remove()\n",
        "\n",
        "a=[1,2,3,4,3,2,1,3]\n",
        "c=[44,66,56,22,44,77]\n",
        "set=['apples','banana','apple','grapes','apple']\n",
        "language=['m','a','l','a','y','a','l','a','m']\n",
        "cities=['hyderabad','warangal','hanamkonda','kazipet','warangal']\n",
        "friends=['sneha','swetha','akhila','swathi','akhila']\n",
        "a.remove(3)         #removes the first occurence value\n",
        "language.remove('a')\n",
        "c.remove(44)\n",
        "set.remove('apple')\n",
        "cities.remove('warangal')\n",
        "friends.remove('akhila')\n",
        "print(a)\n",
        "print(c)\n",
        "print(set)\n",
        "print(language)\n",
        "print(cities)\n",
        "print(friends)\n",
        "\n",
        "\n"
      ],
      "metadata": {
        "colab": {
          "base_uri": "https://localhost:8080/"
        },
        "id": "kHL0TnZyxZeJ",
        "outputId": "0cffd444-e0cf-485e-8f2f-c24fb67516d2"
      },
      "execution_count": 34,
      "outputs": [
        {
          "output_type": "stream",
          "name": "stdout",
          "text": [
            "[1, 2, 4, 3, 2, 1, 3]\n",
            "[66, 56, 22, 44, 77]\n",
            "['apples', 'banana', 'grapes', 'apple']\n",
            "['m', 'l', 'a', 'y', 'a', 'l', 'a', 'm']\n",
            "['hyderabad', 'hanamkonda', 'kazipet', 'warangal']\n",
            "['sneha', 'swetha', 'swathi', 'akhila']\n"
          ]
        }
      ]
    },
    {
      "cell_type": "code",
      "source": [
        "#pop()\n",
        "\n",
        "A=[1,2,3,4]\n",
        "B=['s','n','e','h','a']\n",
        "C=[108,'ambulance','helpline']\n",
        "D=[45,65,'p','h','mobile']\n",
        "E=['sneha','swetha','akhila','swathi','lavanya']\n",
        "a=A.pop(3)       #removes & returnd the element of an index\n",
        "b=B.pop(-3)\n",
        "c=C.pop(-1)\n",
        "d=D.pop(4)\n",
        "e=E.pop(1)\n",
        "print(A)\n",
        "print(B)\n",
        "print(C)\n",
        "print(D)\n",
        "print(E)\n"
      ],
      "metadata": {
        "colab": {
          "base_uri": "https://localhost:8080/"
        },
        "id": "oWUCJbZJyvj2",
        "outputId": "60020b25-b503-4718-9593-a2c6e4ec1641"
      },
      "execution_count": 38,
      "outputs": [
        {
          "output_type": "stream",
          "name": "stdout",
          "text": [
            "[1, 2, 3]\n",
            "['s', 'n', 'h', 'a']\n",
            "[108, 'ambulance']\n",
            "[45, 65, 'p', 'h']\n",
            "['sneha', 'akhila', 'swathi', 'lavanya']\n"
          ]
        }
      ]
    },
    {
      "cell_type": "code",
      "source": [
        "#index()\n",
        "\n",
        "a=[22,33,44,55,66]\n",
        "fruits=['apple','banana','mango']\n",
        "datatypes=['list','tuple','string','integers']\n",
        "_506142=['m','a','d','i','k','o','n','d','a']\n",
        "mix=[99,'pine_apple','complex']\n",
        "_1=a.index(33)       #returns the index of a 1st occurance value\n",
        "_2=fruits.index('mango')\n",
        "_3=datatypes.index('string')\n",
        "_4=_506142.index('k')\n",
        "_5=mix.index(99)\n",
        "print(_1)\n",
        "print(_2)\n",
        "print(_3)\n",
        "print(_4)\n",
        "print(_5)\n"
      ],
      "metadata": {
        "colab": {
          "base_uri": "https://localhost:8080/"
        },
        "id": "CL0YyvEcE95V",
        "outputId": "bd73c0d7-df84-4489-8408-56fe2faf7013"
      },
      "execution_count": 39,
      "outputs": [
        {
          "output_type": "stream",
          "name": "stdout",
          "text": [
            "1\n",
            "2\n",
            "2\n",
            "4\n",
            "0\n"
          ]
        }
      ]
    },
    {
      "cell_type": "code",
      "source": [
        "#count()\n",
        "\n",
        "a=[22,33,44,55,66]\n",
        "f=['apple','banana','mango','grapes']\n",
        "d=['list','tuple','string','list']\n",
        "_5=['k','o','n','d','a','n','o','n']\n",
        "m=[99,'apple','complain']\n",
        "_b=['#','$','%','!','$','#','#']\n",
        "s=a.count(33)\n",
        "t=f.count('mango')\n",
        "u=d.count('list')\n",
        "v=_5.count('n')\n",
        "w=m.count(99)\n",
        "x=_b.count('#')\n",
        "print(s)\n",
        "print(t)\n",
        "print(u)\n",
        "print(v)\n",
        "print(w)\n",
        "print(x)\n",
        "\n",
        "\n"
      ],
      "metadata": {
        "colab": {
          "base_uri": "https://localhost:8080/"
        },
        "id": "MOcbjMZFGrBk",
        "outputId": "37d4a2d5-272e-416c-94c5-e0152880d1f9"
      },
      "execution_count": 43,
      "outputs": [
        {
          "output_type": "stream",
          "name": "stdout",
          "text": [
            "1\n",
            "1\n",
            "2\n",
            "3\n",
            "1\n",
            "3\n"
          ]
        }
      ]
    },
    {
      "cell_type": "code",
      "source": [
        "#sort()\n",
        "\n",
        "a=[1,2,3,4,3,2,1,3]\n",
        "c=[44,66,56,22,44,77]\n",
        "set=['apples','banana','apple','grapes','apple']\n",
        "language=['m','a','l','a','y','a','l','a','m']\n",
        "cities=['hyderabad','warangal','hanamkonda','kazipet','warangal']\n",
        "friends=['sneha','swetha','akhila','swathi','akhila']\n",
        "a.sort()    #sorts the list in ascending order\n",
        "c.sort()\n",
        "set.sort()\n",
        "language.sort()\n",
        "cities.sort()\n",
        "friends.sort()\n",
        "print(a)\n",
        "print(c)\n",
        "print(set)\n",
        "print(language)\n",
        "print(cities)\n",
        "print(friends)"
      ],
      "metadata": {
        "colab": {
          "base_uri": "https://localhost:8080/"
        },
        "id": "wO0oLcVmHeR4",
        "outputId": "f22a2b3b-b023-4241-9921-481bc35fce2a"
      },
      "execution_count": 47,
      "outputs": [
        {
          "output_type": "stream",
          "name": "stdout",
          "text": [
            "[1, 1, 2, 2, 3, 3, 3, 4]\n",
            "[22, 44, 44, 56, 66, 77]\n",
            "['apple', 'apple', 'apples', 'banana', 'grapes']\n",
            "['a', 'a', 'a', 'a', 'l', 'l', 'm', 'm', 'y']\n",
            "['hanamkonda', 'hyderabad', 'kazipet', 'warangal', 'warangal']\n",
            "['akhila', 'akhila', 'sneha', 'swathi', 'swetha']\n"
          ]
        }
      ]
    },
    {
      "cell_type": "code",
      "source": [
        "#reverse()\n",
        "\n",
        "A=[1,2,3,4]\n",
        "B=['s','n','e','h','a']\n",
        "C=[108,'ambulance','helpline']\n",
        "D=[45,65,'p','h','mobile']\n",
        "E=['sneha','swetha','akhila','swathi','lavanya']\n",
        "A.reverse()       #reverse the orer ina list\n",
        "B.reverse()\n",
        "C.reverse()\n",
        "D.reverse()\n",
        "E.reverse()\n",
        "print(A)\n",
        "print(B)\n",
        "print(C)\n",
        "print(E)\n",
        "print(D)"
      ],
      "metadata": {
        "colab": {
          "base_uri": "https://localhost:8080/"
        },
        "id": "zvTI2PaYJInB",
        "outputId": "454a5395-ecaa-4ce0-98b7-6ed8118a3920"
      },
      "execution_count": 48,
      "outputs": [
        {
          "output_type": "stream",
          "name": "stdout",
          "text": [
            "[4, 3, 2, 1]\n",
            "['a', 'h', 'e', 'n', 's']\n",
            "['helpline', 'ambulance', 108]\n",
            "['lavanya', 'swathi', 'akhila', 'swetha', 'sneha']\n",
            "['mobile', 'h', 'p', 65, 45]\n"
          ]
        }
      ]
    },
    {
      "cell_type": "code",
      "source": [],
      "metadata": {
        "id": "XyZYWRlhLoE4"
      },
      "execution_count": null,
      "outputs": []
    }
  ]
}