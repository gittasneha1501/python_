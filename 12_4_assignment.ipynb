{
  "nbformat": 4,
  "nbformat_minor": 0,
  "metadata": {
    "colab": {
      "provenance": []
    },
    "kernelspec": {
      "name": "python3",
      "display_name": "Python 3"
    },
    "language_info": {
      "name": "python"
    }
  },
  "cells": [
    {
      "cell_type": "code",
      "execution_count": 2,
      "metadata": {
        "colab": {
          "base_uri": "https://localhost:8080/"
        },
        "id": "SsMqqzlz--nu",
        "outputId": "88850fcb-7003-41ef-f70e-6e28c8ddaaf4"
      },
      "outputs": [
        {
          "output_type": "stream",
          "name": "stdout",
          "text": [
            "max number is: 86\n",
            "min number is: 1\n"
          ]
        }
      ],
      "source": [
        "#max number and min number in a list\n",
        "list=[1,55,23,75,34,54,86,45]\n",
        "list.sort()\n",
        "print('max number is:',max(list))\n",
        "print('min number is:',min(list))"
      ]
    },
    {
      "cell_type": "code",
      "source": [
        "# fibonaicc series\n",
        "n1=0\n",
        "n2=1\n",
        "sum=0\n",
        "num=int(input('enter number: '))\n",
        "if num<=0:\n",
        "  print('not valid')\n",
        "else:\n",
        "  for i in range(0,num):\n",
        "    print(sum,end=\"\")\n",
        "    n1=n2\n",
        "    n2=sum\n",
        "    sum=n1+n2"
      ],
      "metadata": {
        "colab": {
          "base_uri": "https://localhost:8080/"
        },
        "id": "mz7qyDUw_tNu",
        "outputId": "9aec4a5e-5856-4c7e-ca08-307d57b92cd4"
      },
      "execution_count": 10,
      "outputs": [
        {
          "output_type": "stream",
          "name": "stdout",
          "text": [
            "enter number: 4\n",
            "0112"
          ]
        }
      ]
    },
    {
      "cell_type": "code",
      "source": [
        "#middle element\n",
        "a=[1,55,23,75,34,54,86]\n",
        "mid_ele=int(len(a)/2)\n",
        "print(mid_ele)\n",
        "print(a[mid_ele])"
      ],
      "metadata": {
        "colab": {
          "base_uri": "https://localhost:8080/"
        },
        "id": "Jc92YuILBIWw",
        "outputId": "73eec4bc-baec-4e4d-b3cb-601f08f1b41a"
      },
      "execution_count": 22,
      "outputs": [
        {
          "output_type": "stream",
          "name": "stdout",
          "text": [
            "3\n",
            "75\n"
          ]
        }
      ]
    },
    {
      "cell_type": "code",
      "source": [
        "#list to string\n",
        "def convert(s):\n",
        "  str=\"\"\n",
        "  return(str.join(s))\n",
        "s=['i','am','sneha']\n",
        "print(convert(s))\n",
        "print(type(convert(s)))"
      ],
      "metadata": {
        "colab": {
          "base_uri": "https://localhost:8080/"
        },
        "id": "bPV94ZiSDh9X",
        "outputId": "a2b877da-06a2-4adc-f577-859a5c6c87e4"
      },
      "execution_count": 25,
      "outputs": [
        {
          "output_type": "stream",
          "name": "stdout",
          "text": [
            "iamsneha\n",
            "<class 'str'>\n"
          ]
        }
      ]
    },
    {
      "cell_type": "code",
      "source": [
        "#remove spaces\n",
        "def remove(s):\n",
        "  return s.replace(\" \",\"\")\n",
        "s='   i am from madikonda'\n",
        "print(remove(s))"
      ],
      "metadata": {
        "colab": {
          "base_uri": "https://localhost:8080/"
        },
        "id": "lz3-X2EHRYRF",
        "outputId": "d0da96c3-45d0-4e15-ae68-43c3be81d1b4"
      },
      "execution_count": 66,
      "outputs": [
        {
          "output_type": "stream",
          "name": "stdout",
          "text": [
            "iamfrommadikonda\n"
          ]
        }
      ]
    },
    {
      "cell_type": "code",
      "source": [
        "#reverse string\n",
        "def str(x):\n",
        "  return x[::-1]\n",
        "x='my name is sneha'\n",
        "print(str(x))"
      ],
      "metadata": {
        "colab": {
          "base_uri": "https://localhost:8080/"
        },
        "id": "7MtpSrUSR2HW",
        "outputId": "8d761582-4aa4-4fcb-e470-7e8dbbf043aa"
      },
      "execution_count": 68,
      "outputs": [
        {
          "output_type": "stream",
          "name": "stdout",
          "text": [
            "ahens si eman ym\n"
          ]
        }
      ]
    },
    {
      "cell_type": "code",
      "source": [],
      "metadata": {
        "id": "6erJ0ie8TBvg"
      },
      "execution_count": null,
      "outputs": []
    }
  ]
}