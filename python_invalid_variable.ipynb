{
  "nbformat": 4,
  "nbformat_minor": 0,
  "metadata": {
    "colab": {
      "provenance": []
    },
    "kernelspec": {
      "name": "python3",
      "display_name": "Python 3"
    },
    "language_info": {
      "name": "python"
    }
  },
  "cells": [
    {
      "cell_type": "code",
      "execution_count": 2,
      "metadata": {
        "colab": {
          "base_uri": "https://localhost:8080/",
          "height": 106
        },
        "id": "78cvbA-WWncA",
        "outputId": "848ce876-587f-488c-9f12-1ac7175a5d85"
      },
      "outputs": [
        {
          "output_type": "error",
          "ename": "SyntaxError",
          "evalue": "invalid syntax (<ipython-input-2-1be3ba72e7a2>, line 3)",
          "traceback": [
            "\u001b[0;36m  File \u001b[0;32m\"<ipython-input-2-1be3ba72e7a2>\"\u001b[0;36m, line \u001b[0;32m3\u001b[0m\n\u001b[0;31m    &p=8\u001b[0m\n\u001b[0m    ^\u001b[0m\n\u001b[0;31mSyntaxError\u001b[0m\u001b[0;31m:\u001b[0m invalid syntax\n"
          ]
        }
      ],
      "source": [
        "#invalid variable\n",
        "##can't start with special character\n",
        "&p=8\n",
        "print(&p)"
      ]
    },
    {
      "cell_type": "code",
      "source": [
        "#invalid variable\n",
        "##can't start with number\n",
        "108=\"ambulance\"\n",
        "101=\"police station\"\n",
        "print(108,101)\n"
      ],
      "metadata": {
        "colab": {
          "base_uri": "https://localhost:8080/",
          "height": 106
        },
        "id": "mVUfEvMtWw3k",
        "outputId": "6fbcd713-cf7c-49c0-f488-15f4dd11a1a8"
      },
      "execution_count": 3,
      "outputs": [
        {
          "output_type": "error",
          "ename": "SyntaxError",
          "evalue": "cannot assign to literal here. Maybe you meant '==' instead of '='? (<ipython-input-3-d1e82a6564fb>, line 3)",
          "traceback": [
            "\u001b[0;36m  File \u001b[0;32m\"<ipython-input-3-d1e82a6564fb>\"\u001b[0;36m, line \u001b[0;32m3\u001b[0m\n\u001b[0;31m    108=\"ambulance\"\u001b[0m\n\u001b[0m    ^\u001b[0m\n\u001b[0;31mSyntaxError\u001b[0m\u001b[0;31m:\u001b[0m cannot assign to literal here. Maybe you meant '==' instead of '='?\n"
          ]
        }
      ]
    },
    {
      "cell_type": "code",
      "source": [
        "#invalid variable\n",
        "##can't create with keywords\n",
        "if=\"The sun rises in the East \"\n",
        "else =\"The sun rises in the West \"\n",
        "print(if)"
      ],
      "metadata": {
        "colab": {
          "base_uri": "https://localhost:8080/",
          "height": 106
        },
        "id": "JRrU8GExZWv8",
        "outputId": "729452d3-bae2-4566-a082-1480846dec14"
      },
      "execution_count": 4,
      "outputs": [
        {
          "output_type": "error",
          "ename": "SyntaxError",
          "evalue": "invalid syntax (<ipython-input-4-c5f32da2ca4f>, line 3)",
          "traceback": [
            "\u001b[0;36m  File \u001b[0;32m\"<ipython-input-4-c5f32da2ca4f>\"\u001b[0;36m, line \u001b[0;32m3\u001b[0m\n\u001b[0;31m    if=\"The sun rises in the East \"\u001b[0m\n\u001b[0m      ^\u001b[0m\n\u001b[0;31mSyntaxError\u001b[0m\u001b[0;31m:\u001b[0m invalid syntax\n"
          ]
        }
      ]
    },
    {
      "cell_type": "code",
      "source": [
        "#invalid syntax\n",
        "##can't use special characters\n",
        "@sneha=\"daughter of Ravinder\"\n",
        "@sindhu=\"daughter of Latha\"\n",
        "print(@snehs,@sindhu)"
      ],
      "metadata": {
        "colab": {
          "base_uri": "https://localhost:8080/",
          "height": 106
        },
        "id": "fMW85To2bp6H",
        "outputId": "670b395a-4364-4fc9-c532-18b00657320c"
      },
      "execution_count": 5,
      "outputs": [
        {
          "output_type": "error",
          "ename": "SyntaxError",
          "evalue": "invalid syntax. Maybe you meant '==' or ':=' instead of '='? (<ipython-input-5-9533ba64efe4>, line 3)",
          "traceback": [
            "\u001b[0;36m  File \u001b[0;32m\"<ipython-input-5-9533ba64efe4>\"\u001b[0;36m, line \u001b[0;32m3\u001b[0m\n\u001b[0;31m    @sneha=\"daughter of Ravinder\"\u001b[0m\n\u001b[0m     ^\u001b[0m\n\u001b[0;31mSyntaxError\u001b[0m\u001b[0;31m:\u001b[0m invalid syntax. Maybe you meant '==' or ':=' instead of '='?\n"
          ]
        }
      ]
    },
    {
      "cell_type": "code",
      "source": [
        "#invalid variable\n",
        "##can't start with number\n",
        "22karat goldrate=6125\n",
        "24karat goldrate=6682\n",
        "print(24karat goldrate)\n"
      ],
      "metadata": {
        "colab": {
          "base_uri": "https://localhost:8080/",
          "height": 106
        },
        "id": "bMrnK-73c6v8",
        "outputId": "ffa352bc-d67c-45c0-a952-2b34a6854597"
      },
      "execution_count": 7,
      "outputs": [
        {
          "output_type": "error",
          "ename": "SyntaxError",
          "evalue": "invalid decimal literal (<ipython-input-7-3bd3acf0299c>, line 3)",
          "traceback": [
            "\u001b[0;36m  File \u001b[0;32m\"<ipython-input-7-3bd3acf0299c>\"\u001b[0;36m, line \u001b[0;32m3\u001b[0m\n\u001b[0;31m    22karat goldrate=6125\u001b[0m\n\u001b[0m     ^\u001b[0m\n\u001b[0;31mSyntaxError\u001b[0m\u001b[0;31m:\u001b[0m invalid decimal literal\n"
          ]
        }
      ]
    },
    {
      "cell_type": "code",
      "source": [
        "#invalid variable\n",
        "##can't use special characters or digits\n",
        "$sindhu=\"it contains a special character\"\n",
        "1sneha=\"it contains a digit\"\n",
        "print($sindhu,1sneha)"
      ],
      "metadata": {
        "colab": {
          "base_uri": "https://localhost:8080/",
          "height": 106
        },
        "id": "8WJceHcBegdF",
        "outputId": "5874f63c-ef9f-4f63-b0d4-e62f7cfe07b4"
      },
      "execution_count": 9,
      "outputs": [
        {
          "output_type": "error",
          "ename": "SyntaxError",
          "evalue": "invalid decimal literal (<ipython-input-9-7e42640ba1bd>, line 4)",
          "traceback": [
            "\u001b[0;36m  File \u001b[0;32m\"<ipython-input-9-7e42640ba1bd>\"\u001b[0;36m, line \u001b[0;32m4\u001b[0m\n\u001b[0;31m    1sneha=\"it contains a digit\"\u001b[0m\n\u001b[0m    ^\u001b[0m\n\u001b[0;31mSyntaxError\u001b[0m\u001b[0;31m:\u001b[0m invalid decimal literal\n"
          ]
        }
      ]
    },
    {
      "cell_type": "code",
      "source": [
        "#invalid variable\n",
        "##can,t create with keywords\n",
        "break=\"she break the glass\"\n",
        "return=\"the returned back due to heavy rainfall\"\n",
        "not=\"she is not there in the class room\"\n",
        "print(break,return,not)"
      ],
      "metadata": {
        "colab": {
          "base_uri": "https://localhost:8080/",
          "height": 106
        },
        "id": "tBUbGKySfraG",
        "outputId": "bdd64180-b621-4e3d-c23f-7d2a467bb39e"
      },
      "execution_count": 10,
      "outputs": [
        {
          "output_type": "error",
          "ename": "SyntaxError",
          "evalue": "invalid syntax (<ipython-input-10-5a6f1ee869b5>, line 3)",
          "traceback": [
            "\u001b[0;36m  File \u001b[0;32m\"<ipython-input-10-5a6f1ee869b5>\"\u001b[0;36m, line \u001b[0;32m3\u001b[0m\n\u001b[0;31m    break=\"she break the glass\"\u001b[0m\n\u001b[0m         ^\u001b[0m\n\u001b[0;31mSyntaxError\u001b[0m\u001b[0;31m:\u001b[0m invalid syntax\n"
          ]
        }
      ]
    },
    {
      "cell_type": "code",
      "source": [
        "#invalid variable\n",
        "##can,t start with number or special character\n",
        "@arun=\"he is my better half\"\n",
        "101=\"to contact fire station\"\n",
        "print(@arun,101)"
      ],
      "metadata": {
        "colab": {
          "base_uri": "https://localhost:8080/",
          "height": 106
        },
        "id": "KM_2IF72gfrE",
        "outputId": "947d8caf-9cfa-498b-ccc4-f22a96f016cf"
      },
      "execution_count": 11,
      "outputs": [
        {
          "output_type": "error",
          "ename": "SyntaxError",
          "evalue": "invalid syntax. Maybe you meant '==' or ':=' instead of '='? (<ipython-input-11-6c7044ae4eed>, line 3)",
          "traceback": [
            "\u001b[0;36m  File \u001b[0;32m\"<ipython-input-11-6c7044ae4eed>\"\u001b[0;36m, line \u001b[0;32m3\u001b[0m\n\u001b[0;31m    @arun=\"he is my better half\"\u001b[0m\n\u001b[0m     ^\u001b[0m\n\u001b[0;31mSyntaxError\u001b[0m\u001b[0;31m:\u001b[0m invalid syntax. Maybe you meant '==' or ':=' instead of '='?\n"
          ]
        }
      ]
    },
    {
      "cell_type": "code",
      "source": [
        "#invalid variable\n",
        "##can,t start with apecial character\n",
        "@Hyderabad=\"Is the capital of telangana\"\n",
        "print(@Hyderabad)"
      ],
      "metadata": {
        "colab": {
          "base_uri": "https://localhost:8080/",
          "height": 106
        },
        "id": "oNQ-4jXOh73Y",
        "outputId": "b54d034f-f19b-4548-a645-ff169a7e95f4"
      },
      "execution_count": 12,
      "outputs": [
        {
          "output_type": "error",
          "ename": "SyntaxError",
          "evalue": "invalid syntax. Maybe you meant '==' or ':=' instead of '='? (<ipython-input-12-57438c9a674d>, line 3)",
          "traceback": [
            "\u001b[0;36m  File \u001b[0;32m\"<ipython-input-12-57438c9a674d>\"\u001b[0;36m, line \u001b[0;32m3\u001b[0m\n\u001b[0;31m    @Hyderabad=\"Is the capital of telangana\"\u001b[0m\n\u001b[0m     ^\u001b[0m\n\u001b[0;31mSyntaxError\u001b[0m\u001b[0;31m:\u001b[0m invalid syntax. Maybe you meant '==' or ':=' instead of '='?\n"
          ]
        }
      ]
    },
    {
      "cell_type": "code",
      "source": [
        "#invalid variable\n",
        "##can,t start with special character\n",
        "7wonders in the world=\"great wall of china,taj mahal,petra in brazil...etc\"\n",
        "$=\"synmbol of Dollars\"\n",
        "print($)"
      ],
      "metadata": {
        "colab": {
          "base_uri": "https://localhost:8080/",
          "height": 106
        },
        "id": "xVX12c18jAk3",
        "outputId": "cca82392-b4d0-43bd-a414-44cf2532bd9f"
      },
      "execution_count": 14,
      "outputs": [
        {
          "output_type": "error",
          "ename": "SyntaxError",
          "evalue": "invalid decimal literal (<ipython-input-14-5cdd63c96068>, line 3)",
          "traceback": [
            "\u001b[0;36m  File \u001b[0;32m\"<ipython-input-14-5cdd63c96068>\"\u001b[0;36m, line \u001b[0;32m3\u001b[0m\n\u001b[0;31m    7wonders in the world=\"great wall of china,taj mahal,petra in brazil...etc\"\u001b[0m\n\u001b[0m    ^\u001b[0m\n\u001b[0;31mSyntaxError\u001b[0m\u001b[0;31m:\u001b[0m invalid decimal literal\n"
          ]
        }
      ]
    },
    {
      "cell_type": "code",
      "source": [],
      "metadata": {
        "id": "l_LXy-5KkgiM"
      },
      "execution_count": null,
      "outputs": []
    }
  ]
}