{
  "nbformat": 4,
  "nbformat_minor": 0,
  "metadata": {
    "colab": {
      "provenance": []
    },
    "kernelspec": {
      "name": "python3",
      "display_name": "Python 3"
    },
    "language_info": {
      "name": "python"
    }
  },
  "cells": [
    {
      "cell_type": "markdown",
      "source": [
        "#PYTHON OPERATORS\n",
        "##Arithmetic operators\n"
      ],
      "metadata": {
        "id": "X0vzg7DuM9MT"
      }
    },
    {
      "cell_type": "code",
      "source": [
        "#ARITHMETIC OPERATOR USING ADDITION\n",
        "a=5\n",
        "b=9\n",
        "c=a+b\n",
        "print(c)"
      ],
      "metadata": {
        "colab": {
          "base_uri": "https://localhost:8080/"
        },
        "id": "E0gZ0apxNIE8",
        "outputId": "40d89bf6-c950-4e0c-9f7c-9c677deffd31"
      },
      "execution_count": 1,
      "outputs": [
        {
          "output_type": "stream",
          "name": "stdout",
          "text": [
            "14\n"
          ]
        }
      ]
    },
    {
      "cell_type": "code",
      "source": [
        "p=6.5\n",
        "q=7.1\n",
        "r=p+q\n",
        "print(r)\n"
      ],
      "metadata": {
        "colab": {
          "base_uri": "https://localhost:8080/"
        },
        "id": "OwBfCzRuNdhq",
        "outputId": "14a68ee1-23df-42f7-e88f-eb8328cce4f3"
      },
      "execution_count": 2,
      "outputs": [
        {
          "output_type": "stream",
          "name": "stdout",
          "text": [
            "13.6\n"
          ]
        }
      ]
    },
    {
      "cell_type": "code",
      "source": [
        "u=5j\n",
        "v=4-3j\n",
        "w=u+v\n",
        "print(w)"
      ],
      "metadata": {
        "colab": {
          "base_uri": "https://localhost:8080/"
        },
        "id": "F7RqmrXjN0WR",
        "outputId": "263d815a-3e83-4564-defc-5ce5d7872490"
      },
      "execution_count": 5,
      "outputs": [
        {
          "output_type": "stream",
          "name": "stdout",
          "text": [
            "(4+2j)\n"
          ]
        }
      ]
    },
    {
      "cell_type": "code",
      "source": [
        "x=5\n",
        "y=5.7\n",
        "z=3+2j\n",
        "j=x+y+z\n",
        "print(j)"
      ],
      "metadata": {
        "colab": {
          "base_uri": "https://localhost:8080/"
        },
        "id": "wAsEVBaWOCQ0",
        "outputId": "90d02ba1-0ea5-45de-c726-12f56f0a4f12"
      },
      "execution_count": 6,
      "outputs": [
        {
          "output_type": "stream",
          "name": "stdout",
          "text": [
            "(13.7+2j)\n"
          ]
        }
      ]
    },
    {
      "cell_type": "code",
      "source": [
        "#arithemtic operators using subtraction\n",
        "a=4\n",
        "b=8\n",
        "c=a-b\n",
        "print(c)"
      ],
      "metadata": {
        "colab": {
          "base_uri": "https://localhost:8080/"
        },
        "id": "R_TSjBwuOZK7",
        "outputId": "c30e1f2c-6725-4c9a-d005-518c69ae1151"
      },
      "execution_count": 7,
      "outputs": [
        {
          "output_type": "stream",
          "name": "stdout",
          "text": [
            "-4\n"
          ]
        }
      ]
    },
    {
      "cell_type": "code",
      "source": [
        "p=3.8\n",
        "q=9.5\n",
        "r=p-q\n",
        "print(r)\n"
      ],
      "metadata": {
        "colab": {
          "base_uri": "https://localhost:8080/"
        },
        "id": "tta3ucqlPF58",
        "outputId": "b48684d8-df65-45b0-f818-d83fe9b52e38"
      },
      "execution_count": 8,
      "outputs": [
        {
          "output_type": "stream",
          "name": "stdout",
          "text": [
            "-5.7\n"
          ]
        }
      ]
    },
    {
      "cell_type": "code",
      "source": [
        "u=2+j\n",
        "v=6+5j\n",
        "w=u-v\n",
        "print(w)"
      ],
      "metadata": {
        "colab": {
          "base_uri": "https://localhost:8080/"
        },
        "id": "UPNMDrcMPXqw",
        "outputId": "5e4db3fa-1ba0-4ab9-f566-e3f16eb7c697"
      },
      "execution_count": 9,
      "outputs": [
        {
          "output_type": "stream",
          "name": "stdout",
          "text": [
            "(9.7-3j)\n"
          ]
        }
      ]
    },
    {
      "cell_type": "code",
      "source": [
        "x=4\n",
        "y=4.7\n",
        "z=7-5j\n",
        "i=x-y-z\n",
        "print(i)"
      ],
      "metadata": {
        "colab": {
          "base_uri": "https://localhost:8080/"
        },
        "id": "p4PTF9ltPqLj",
        "outputId": "94fa18e7-7d4a-46da-ba4c-4486530aab5b"
      },
      "execution_count": 12,
      "outputs": [
        {
          "output_type": "stream",
          "name": "stdout",
          "text": [
            "(-7.7+5j)\n"
          ]
        }
      ]
    },
    {
      "cell_type": "code",
      "source": [
        "#arithmetic operators using  multiplication\n",
        "a=3\n",
        "b=8\n",
        "c=a*b\n",
        "print(c)"
      ],
      "metadata": {
        "colab": {
          "base_uri": "https://localhost:8080/"
        },
        "id": "s-5tkirZP36m",
        "outputId": "8f92f9e3-1964-40b9-f1a5-5a61840eaaf7"
      },
      "execution_count": 13,
      "outputs": [
        {
          "output_type": "stream",
          "name": "stdout",
          "text": [
            "24\n"
          ]
        }
      ]
    },
    {
      "cell_type": "code",
      "source": [
        "p=5.2\n",
        "q=4.8\n",
        "r=p*q\n",
        "print(r)"
      ],
      "metadata": {
        "colab": {
          "base_uri": "https://localhost:8080/"
        },
        "id": "7sfnpWhoQXdg",
        "outputId": "abc7ac0a-f0dd-434c-f60e-70f443ab9cbf"
      },
      "execution_count": 14,
      "outputs": [
        {
          "output_type": "stream",
          "name": "stdout",
          "text": [
            "24.96\n"
          ]
        }
      ]
    },
    {
      "cell_type": "code",
      "source": [
        "u=5-2j\n",
        "v=2j\n",
        "w=u*v\n",
        "print(w)"
      ],
      "metadata": {
        "colab": {
          "base_uri": "https://localhost:8080/"
        },
        "id": "U8VwXnyqQlOm",
        "outputId": "e5c7d5b2-02a4-4da9-83e4-2d73ee5ec0b1"
      },
      "execution_count": 15,
      "outputs": [
        {
          "output_type": "stream",
          "name": "stdout",
          "text": [
            "(4+10j)\n"
          ]
        }
      ]
    },
    {
      "cell_type": "code",
      "source": [
        "x=7\n",
        "y=5.2\n",
        "z=2-9j\n",
        "i=x*y*z\n",
        "print(i)"
      ],
      "metadata": {
        "colab": {
          "base_uri": "https://localhost:8080/"
        },
        "id": "6LyKHVy6QtAi",
        "outputId": "d386a163-a474-4d70-dec3-e2fdaf85e75f"
      },
      "execution_count": 17,
      "outputs": [
        {
          "output_type": "stream",
          "name": "stdout",
          "text": [
            "(72.8-327.59999999999997j)\n"
          ]
        }
      ]
    },
    {
      "cell_type": "code",
      "source": [
        "#arithmetic operators using division\n",
        "a=7\n",
        "b=5\n",
        "c=a/b\n",
        "print(c)"
      ],
      "metadata": {
        "colab": {
          "base_uri": "https://localhost:8080/"
        },
        "id": "h4j9ihqKQ5fX",
        "outputId": "f696813d-8656-462c-d397-38363f24f8b2"
      },
      "execution_count": 18,
      "outputs": [
        {
          "output_type": "stream",
          "name": "stdout",
          "text": [
            "1.4\n"
          ]
        }
      ]
    },
    {
      "cell_type": "code",
      "source": [
        "p=9.8\n",
        "q=7.1\n",
        "r=p/q\n",
        "print(r)"
      ],
      "metadata": {
        "colab": {
          "base_uri": "https://localhost:8080/"
        },
        "id": "z9OX9Z8_RKoO",
        "outputId": "1668099e-c62c-4fb5-9ea5-9e6af84e04b1"
      },
      "execution_count": 19,
      "outputs": [
        {
          "output_type": "stream",
          "name": "stdout",
          "text": [
            "1.3802816901408452\n"
          ]
        }
      ]
    },
    {
      "cell_type": "code",
      "source": [
        "u=4.6\n",
        "v=3\n",
        "w=u/v\n",
        "print(w)"
      ],
      "metadata": {
        "colab": {
          "base_uri": "https://localhost:8080/"
        },
        "id": "DgBVa2QbRUBH",
        "outputId": "e4e26127-900c-4da8-c041-e1ee9bac574e"
      },
      "execution_count": 22,
      "outputs": [
        {
          "output_type": "stream",
          "name": "stdout",
          "text": [
            "1.5333333333333332\n"
          ]
        }
      ]
    },
    {
      "cell_type": "code",
      "source": [
        "#arithmetic operations using float division\n",
        "a=4\n",
        "b=3\n",
        "c=a//b #prints only integer value\n",
        "print(c)\n"
      ],
      "metadata": {
        "colab": {
          "base_uri": "https://localhost:8080/"
        },
        "id": "Rrw9_i4_Rh8J",
        "outputId": "c9c1d527-3994-4845-84b4-fe16a0f1aad3"
      },
      "execution_count": 25,
      "outputs": [
        {
          "output_type": "stream",
          "name": "stdout",
          "text": [
            "1\n"
          ]
        }
      ]
    },
    {
      "cell_type": "code",
      "source": [
        "p=8\n",
        "q=5\n",
        "r=p//q\n",
        "print(r)"
      ],
      "metadata": {
        "colab": {
          "base_uri": "https://localhost:8080/"
        },
        "id": "eCYZciSrSbsQ",
        "outputId": "904cd330-67da-40c4-bfbd-c37397a073b4"
      },
      "execution_count": 30,
      "outputs": [
        {
          "output_type": "stream",
          "name": "stdout",
          "text": [
            "1\n"
          ]
        }
      ]
    },
    {
      "cell_type": "code",
      "source": [
        "u=5\n",
        "v=-4\n",
        "w=u//v #-n=-(n+1)\n",
        "print(w)"
      ],
      "metadata": {
        "colab": {
          "base_uri": "https://localhost:8080/"
        },
        "id": "FDnIU_2GSxxp",
        "outputId": "c8417b42-0836-466e-8322-3564b442dd89"
      },
      "execution_count": 33,
      "outputs": [
        {
          "output_type": "stream",
          "name": "stdout",
          "text": [
            "-2\n"
          ]
        }
      ]
    },
    {
      "cell_type": "code",
      "source": [
        "x=5.2\n",
        "y=4.5\n",
        "z=x//y\n",
        "print(z)"
      ],
      "metadata": {
        "colab": {
          "base_uri": "https://localhost:8080/"
        },
        "id": "PkPiNnbATjLv",
        "outputId": "88a4b462-d021-4eba-85b0-85b9d00c9cbb"
      },
      "execution_count": 34,
      "outputs": [
        {
          "output_type": "stream",
          "name": "stdout",
          "text": [
            "1.0\n"
          ]
        }
      ]
    },
    {
      "cell_type": "code",
      "source": [
        "#arithmetic operator using modulus\n",
        "a=8\n",
        "b=5\n",
        "c=a%b #prints remainder\n",
        "print(c)"
      ],
      "metadata": {
        "colab": {
          "base_uri": "https://localhost:8080/"
        },
        "id": "mUAxMtZhT_Y5",
        "outputId": "c95b7686-f640-4d49-b0dc-b5466f5d2e1e"
      },
      "execution_count": 36,
      "outputs": [
        {
          "output_type": "stream",
          "name": "stdout",
          "text": [
            "3\n"
          ]
        }
      ]
    },
    {
      "cell_type": "code",
      "source": [
        "p=3.4\n",
        "q=1.2\n",
        "r=p%q\n",
        "print(r)"
      ],
      "metadata": {
        "colab": {
          "base_uri": "https://localhost:8080/"
        },
        "id": "oqWAT7rEUVq-",
        "outputId": "6f988554-06cd-44e4-cd8a-773b355ab0c5"
      },
      "execution_count": 39,
      "outputs": [
        {
          "output_type": "stream",
          "name": "stdout",
          "text": [
            "1.0\n"
          ]
        }
      ]
    },
    {
      "cell_type": "code",
      "source": [
        "u=7\n",
        "v=9\n",
        "w=u%v\n",
        "print(w)"
      ],
      "metadata": {
        "colab": {
          "base_uri": "https://localhost:8080/"
        },
        "id": "A_vDPqMBUl6T",
        "outputId": "14a860ee-f52f-4a7f-f81f-c606e36543b1"
      },
      "execution_count": 40,
      "outputs": [
        {
          "output_type": "stream",
          "name": "stdout",
          "text": [
            "7\n"
          ]
        }
      ]
    },
    {
      "cell_type": "code",
      "source": [
        "x=75\n",
        "y=36\n",
        "z=x%y\n",
        "print(z)"
      ],
      "metadata": {
        "colab": {
          "base_uri": "https://localhost:8080/"
        },
        "id": "PQWTw22MU8lb",
        "outputId": "440d05db-5ea2-4d5c-b666-d5785df0149e"
      },
      "execution_count": 46,
      "outputs": [
        {
          "output_type": "stream",
          "name": "stdout",
          "text": [
            "3\n"
          ]
        }
      ]
    },
    {
      "cell_type": "code",
      "source": [
        "#arithmetic operators using exponent\n",
        "a=6\n",
        "b=5\n",
        "c=a**b\n",
        "c"
      ],
      "metadata": {
        "colab": {
          "base_uri": "https://localhost:8080/"
        },
        "id": "-Gxdm9FYVIZK",
        "outputId": "792a06f8-abfa-4afa-ad64-cc11a807e7be"
      },
      "execution_count": 47,
      "outputs": [
        {
          "output_type": "execute_result",
          "data": {
            "text/plain": [
              "7776"
            ]
          },
          "metadata": {},
          "execution_count": 47
        }
      ]
    },
    {
      "cell_type": "code",
      "source": [
        "p=6.3\n",
        "q=3\n",
        "r=p**q\n",
        "r"
      ],
      "metadata": {
        "colab": {
          "base_uri": "https://localhost:8080/"
        },
        "id": "LVUZ8OfZVozS",
        "outputId": "95a436ce-5e09-4786-9cab-21f86c5282d7"
      },
      "execution_count": 48,
      "outputs": [
        {
          "output_type": "execute_result",
          "data": {
            "text/plain": [
              "250.04699999999997"
            ]
          },
          "metadata": {},
          "execution_count": 48
        }
      ]
    },
    {
      "cell_type": "code",
      "source": [
        "u=5\n",
        "v=2\n",
        "w=3\n",
        "x=(u**v)**w\n",
        "print(x)\n"
      ],
      "metadata": {
        "colab": {
          "base_uri": "https://localhost:8080/"
        },
        "id": "XyFkl4qIVzSD",
        "outputId": "39563ff6-2481-43a1-a8a4-ec287ce1a1b0"
      },
      "execution_count": 59,
      "outputs": [
        {
          "output_type": "stream",
          "name": "stdout",
          "text": [
            "15625\n"
          ]
        }
      ]
    },
    {
      "cell_type": "markdown",
      "source": [
        "##Assignment operator\n"
      ],
      "metadata": {
        "id": "f5anLobMYJ-v"
      }
    },
    {
      "cell_type": "code",
      "source": [
        "#assigning value to variable\n",
        "a=5\n",
        "print(a)"
      ],
      "metadata": {
        "colab": {
          "base_uri": "https://localhost:8080/"
        },
        "id": "GDk9igQiYTZe",
        "outputId": "65c351a8-2070-4f3b-83ed-5f2d52cf8e55"
      },
      "execution_count": 60,
      "outputs": [
        {
          "output_type": "stream",
          "name": "stdout",
          "text": [
            "5\n"
          ]
        }
      ]
    },
    {
      "cell_type": "code",
      "source": [
        "#using addition assignment\n",
        "c=4\n",
        "c += 5\n",
        "print(c)"
      ],
      "metadata": {
        "colab": {
          "base_uri": "https://localhost:8080/"
        },
        "id": "aBljmO-5Yzlv",
        "outputId": "4d3c8fe5-e595-4b3e-e32e-9af9c6d1fc53"
      },
      "execution_count": 64,
      "outputs": [
        {
          "output_type": "stream",
          "name": "stdout",
          "text": [
            "9\n"
          ]
        }
      ]
    },
    {
      "cell_type": "code",
      "source": [
        "p=4.5\n",
        "p+=5.1\n",
        "print(p)"
      ],
      "metadata": {
        "colab": {
          "base_uri": "https://localhost:8080/"
        },
        "id": "1lKWLqloY7GE",
        "outputId": "24d4d2c2-82e2-45c8-deb3-702346c64537"
      },
      "execution_count": 65,
      "outputs": [
        {
          "output_type": "stream",
          "name": "stdout",
          "text": [
            "9.6\n"
          ]
        }
      ]
    },
    {
      "cell_type": "code",
      "source": [
        "#using subtraction assignment\n",
        "t=5.6\n",
        "t-=3.7\n",
        "t"
      ],
      "metadata": {
        "colab": {
          "base_uri": "https://localhost:8080/"
        },
        "id": "lBwMS7VdZLai",
        "outputId": "9a8cb0a3-0650-48b9-e4d5-097d569ac016"
      },
      "execution_count": 68,
      "outputs": [
        {
          "output_type": "execute_result",
          "data": {
            "text/plain": [
              "1.8999999999999995"
            ]
          },
          "metadata": {},
          "execution_count": 68
        }
      ]
    },
    {
      "cell_type": "code",
      "source": [
        "v=7j\n",
        "v-=5\n",
        "v"
      ],
      "metadata": {
        "colab": {
          "base_uri": "https://localhost:8080/"
        },
        "id": "QJxq2YsJZp-q",
        "outputId": "2496d9e3-8877-4e4a-b0e9-8cc05353205d"
      },
      "execution_count": 69,
      "outputs": [
        {
          "output_type": "execute_result",
          "data": {
            "text/plain": [
              "(-5+7j)"
            ]
          },
          "metadata": {},
          "execution_count": 69
        }
      ]
    },
    {
      "cell_type": "code",
      "source": [
        "#using multiplication assignment\n",
        "y=7\n",
        "y*=5\n",
        "y"
      ],
      "metadata": {
        "colab": {
          "base_uri": "https://localhost:8080/"
        },
        "id": "5l6Alo7gaCSM",
        "outputId": "682403df-63f7-4994-be59-41685081e8d3"
      },
      "execution_count": 70,
      "outputs": [
        {
          "output_type": "execute_result",
          "data": {
            "text/plain": [
              "35"
            ]
          },
          "metadata": {},
          "execution_count": 70
        }
      ]
    },
    {
      "cell_type": "code",
      "source": [
        "z=4\n",
        "z*=5.2\n",
        "print(z)"
      ],
      "metadata": {
        "colab": {
          "base_uri": "https://localhost:8080/"
        },
        "id": "hBRx9ZMwaR5v",
        "outputId": "f12a7aea-37db-4483-f938-978992a3f431"
      },
      "execution_count": 72,
      "outputs": [
        {
          "output_type": "stream",
          "name": "stdout",
          "text": [
            "20.8\n"
          ]
        }
      ]
    },
    {
      "cell_type": "code",
      "source": [
        "#using division assignment\n",
        "d=6.7\n",
        "d/=5\n",
        "d"
      ],
      "metadata": {
        "colab": {
          "base_uri": "https://localhost:8080/"
        },
        "id": "QVDLYT-RaYCX",
        "outputId": "030b3fd8-f234-447b-f120-fbf0a5109baf"
      },
      "execution_count": 73,
      "outputs": [
        {
          "output_type": "execute_result",
          "data": {
            "text/plain": [
              "1.34"
            ]
          },
          "metadata": {},
          "execution_count": 73
        }
      ]
    },
    {
      "cell_type": "code",
      "source": [
        "h=5\n",
        "h/=9\n",
        "print(h)"
      ],
      "metadata": {
        "colab": {
          "base_uri": "https://localhost:8080/"
        },
        "id": "W8LYUuaiaq64",
        "outputId": "8b4ac568-0b74-4b39-e208-08cf4beddca7"
      },
      "execution_count": 74,
      "outputs": [
        {
          "output_type": "stream",
          "name": "stdout",
          "text": [
            "0.5555555555555556\n"
          ]
        }
      ]
    },
    {
      "cell_type": "code",
      "source": [
        "g=6\n",
        "g/=3\n",
        "print(g)"
      ],
      "metadata": {
        "colab": {
          "base_uri": "https://localhost:8080/"
        },
        "id": "CXqEQ7B_aycv",
        "outputId": "1bed49a2-7782-4f53-bb85-cef1e857f117"
      },
      "execution_count": 76,
      "outputs": [
        {
          "output_type": "stream",
          "name": "stdout",
          "text": [
            "2.0\n"
          ]
        }
      ]
    },
    {
      "cell_type": "code",
      "source": [
        "#using float division assignment\n",
        "s=4\n",
        "s//=3 #prints integer\n",
        "s"
      ],
      "metadata": {
        "colab": {
          "base_uri": "https://localhost:8080/"
        },
        "id": "8x5Inxqba7G6",
        "outputId": "b9c57cf9-e537-4e1a-93b4-b8f68da72736"
      },
      "execution_count": 77,
      "outputs": [
        {
          "output_type": "execute_result",
          "data": {
            "text/plain": [
              "1"
            ]
          },
          "metadata": {},
          "execution_count": 77
        }
      ]
    },
    {
      "cell_type": "code",
      "source": [
        "t=7\n",
        "t//=8\n",
        "t"
      ],
      "metadata": {
        "colab": {
          "base_uri": "https://localhost:8080/"
        },
        "id": "pWmNerfEbK7Z",
        "outputId": "c51d893a-76b3-414b-8eef-d1163368d9ac"
      },
      "execution_count": 78,
      "outputs": [
        {
          "output_type": "execute_result",
          "data": {
            "text/plain": [
              "0"
            ]
          },
          "metadata": {},
          "execution_count": 78
        }
      ]
    },
    {
      "cell_type": "code",
      "source": [
        "e=3.2\n",
        "e//=2\n",
        "print(e)"
      ],
      "metadata": {
        "colab": {
          "base_uri": "https://localhost:8080/"
        },
        "id": "4E9JbgJNbSRl",
        "outputId": "99a2c577-874f-4712-95d7-d12475171320"
      },
      "execution_count": 79,
      "outputs": [
        {
          "output_type": "stream",
          "name": "stdout",
          "text": [
            "1.0\n"
          ]
        }
      ]
    },
    {
      "cell_type": "code",
      "source": [
        "#using modulus assignment\n",
        "c=6\n",
        "c%=4 #prints remainder\n",
        "c"
      ],
      "metadata": {
        "colab": {
          "base_uri": "https://localhost:8080/"
        },
        "id": "pfjzz7q6beqW",
        "outputId": "b48692a7-c39c-4f09-ca20-e0e924a459dd"
      },
      "execution_count": 83,
      "outputs": [
        {
          "output_type": "execute_result",
          "data": {
            "text/plain": [
              "2"
            ]
          },
          "metadata": {},
          "execution_count": 83
        }
      ]
    },
    {
      "cell_type": "code",
      "source": [
        "x=5\n",
        "x%=6\n",
        "x"
      ],
      "metadata": {
        "colab": {
          "base_uri": "https://localhost:8080/"
        },
        "id": "zr4cEDaZbxHj",
        "outputId": "99d8e1d8-a3de-4155-f4f6-4df8f97d0e14"
      },
      "execution_count": 81,
      "outputs": [
        {
          "output_type": "execute_result",
          "data": {
            "text/plain": [
              "5"
            ]
          },
          "metadata": {},
          "execution_count": 81
        }
      ]
    },
    {
      "cell_type": "code",
      "source": [
        "h=56\n",
        "h%=2\n",
        "print(h)"
      ],
      "metadata": {
        "colab": {
          "base_uri": "https://localhost:8080/"
        },
        "id": "O510dP3Qb31N",
        "outputId": "2c8f4b37-9919-469e-bd9c-993f56095614"
      },
      "execution_count": 82,
      "outputs": [
        {
          "output_type": "stream",
          "name": "stdout",
          "text": [
            "0\n"
          ]
        }
      ]
    },
    {
      "cell_type": "code",
      "source": [
        "#using expont assignment\n",
        "f=6\n",
        "f**=3\n",
        "print(f)"
      ],
      "metadata": {
        "colab": {
          "base_uri": "https://localhost:8080/"
        },
        "id": "wb0y0Rxmb-rA",
        "outputId": "8522516f-e968-4f27-9eda-1da807219fc4"
      },
      "execution_count": 84,
      "outputs": [
        {
          "output_type": "stream",
          "name": "stdout",
          "text": [
            "216\n"
          ]
        }
      ]
    },
    {
      "cell_type": "code",
      "source": [
        "v=5.2\n",
        "v**=3\n",
        "print(v)"
      ],
      "metadata": {
        "colab": {
          "base_uri": "https://localhost:8080/"
        },
        "id": "0eyP6VQeccvf",
        "outputId": "948df745-8b5b-4d67-82db-fd39dbce2f42"
      },
      "execution_count": 85,
      "outputs": [
        {
          "output_type": "stream",
          "name": "stdout",
          "text": [
            "140.608\n"
          ]
        }
      ]
    },
    {
      "cell_type": "code",
      "source": [
        "f=7.5\n",
        "f**=2\n",
        "f"
      ],
      "metadata": {
        "colab": {
          "base_uri": "https://localhost:8080/"
        },
        "id": "M60j8nIGcmSC",
        "outputId": "47075fdd-7fdc-4660-d206-0345e16cf9ff"
      },
      "execution_count": 87,
      "outputs": [
        {
          "output_type": "execute_result",
          "data": {
            "text/plain": [
              "56.25"
            ]
          },
          "metadata": {},
          "execution_count": 87
        }
      ]
    },
    {
      "cell_type": "markdown",
      "source": [
        "##Comparision operator\n"
      ],
      "metadata": {
        "id": "yQKVlu3Oc3T1"
      }
    },
    {
      "cell_type": "code",
      "source": [
        "#comparision using equal to\n",
        "a=6\n",
        "b=5\n",
        "a==b\n"
      ],
      "metadata": {
        "colab": {
          "base_uri": "https://localhost:8080/"
        },
        "id": "zucLFdEidBb0",
        "outputId": "e4550883-398d-4599-83d6-480219b7fd0b"
      },
      "execution_count": 88,
      "outputs": [
        {
          "output_type": "execute_result",
          "data": {
            "text/plain": [
              "False"
            ]
          },
          "metadata": {},
          "execution_count": 88
        }
      ]
    },
    {
      "cell_type": "code",
      "source": [
        "p=5.3\n",
        "q=5.3\n",
        "p==q"
      ],
      "metadata": {
        "colab": {
          "base_uri": "https://localhost:8080/"
        },
        "id": "HjJL1acXiccx",
        "outputId": "4b01d3bf-713c-4e68-e7e2-0bb7fea99574"
      },
      "execution_count": 89,
      "outputs": [
        {
          "output_type": "execute_result",
          "data": {
            "text/plain": [
              "True"
            ]
          },
          "metadata": {},
          "execution_count": 89
        }
      ]
    },
    {
      "cell_type": "code",
      "source": [
        "u=7\n",
        "v=5.9\n",
        "u==v"
      ],
      "metadata": {
        "colab": {
          "base_uri": "https://localhost:8080/"
        },
        "id": "gGeP0_p6ijYg",
        "outputId": "232ec567-8efd-47e1-8500-a1a999dcbe98"
      },
      "execution_count": 90,
      "outputs": [
        {
          "output_type": "execute_result",
          "data": {
            "text/plain": [
              "False"
            ]
          },
          "metadata": {},
          "execution_count": 90
        }
      ]
    },
    {
      "cell_type": "code",
      "source": [
        "#comparision using not equal\n",
        "x=4\n",
        "y=2\n",
        "x!=y"
      ],
      "metadata": {
        "colab": {
          "base_uri": "https://localhost:8080/"
        },
        "id": "7FJVudSpioKF",
        "outputId": "d67f5cd7-bd23-4da7-80e3-c5933915edb6"
      },
      "execution_count": 91,
      "outputs": [
        {
          "output_type": "execute_result",
          "data": {
            "text/plain": [
              "True"
            ]
          },
          "metadata": {},
          "execution_count": 91
        }
      ]
    },
    {
      "cell_type": "code",
      "source": [
        "a=5.3\n",
        "b=7\n",
        "a!=b"
      ],
      "metadata": {
        "colab": {
          "base_uri": "https://localhost:8080/"
        },
        "id": "cTGEIXL5i206",
        "outputId": "9ef71564-2a56-451a-a4e0-73a7cb7acdf6"
      },
      "execution_count": 92,
      "outputs": [
        {
          "output_type": "execute_result",
          "data": {
            "text/plain": [
              "True"
            ]
          },
          "metadata": {},
          "execution_count": 92
        }
      ]
    },
    {
      "cell_type": "code",
      "source": [
        "g=6+j\n",
        "h=5\n",
        "g!=h"
      ],
      "metadata": {
        "colab": {
          "base_uri": "https://localhost:8080/"
        },
        "id": "2MzM4JFoi84D",
        "outputId": "7d886332-e3fb-495d-e83b-81087ea0bf2e"
      },
      "execution_count": 94,
      "outputs": [
        {
          "output_type": "execute_result",
          "data": {
            "text/plain": [
              "True"
            ]
          },
          "metadata": {},
          "execution_count": 94
        }
      ]
    },
    {
      "cell_type": "code",
      "source": [
        "#comparision using lessthan\n",
        "a=44\n",
        "b=74\n",
        "a<b"
      ],
      "metadata": {
        "colab": {
          "base_uri": "https://localhost:8080/"
        },
        "id": "c6s4VLl1jIee",
        "outputId": "d9963ff4-91f6-4eb2-d4b8-970c778ca251"
      },
      "execution_count": 95,
      "outputs": [
        {
          "output_type": "execute_result",
          "data": {
            "text/plain": [
              "True"
            ]
          },
          "metadata": {},
          "execution_count": 95
        }
      ]
    },
    {
      "cell_type": "code",
      "source": [
        "p=89.67\n",
        "q=45.8\n",
        "p<q"
      ],
      "metadata": {
        "colab": {
          "base_uri": "https://localhost:8080/"
        },
        "id": "Sx7bpRmBja4O",
        "outputId": "af177a56-ccc1-4560-90e2-21b1138a60fe"
      },
      "execution_count": 96,
      "outputs": [
        {
          "output_type": "execute_result",
          "data": {
            "text/plain": [
              "False"
            ]
          },
          "metadata": {},
          "execution_count": 96
        }
      ]
    },
    {
      "cell_type": "code",
      "source": [
        "u=95\n",
        "v=95\n",
        "u<v"
      ],
      "metadata": {
        "colab": {
          "base_uri": "https://localhost:8080/"
        },
        "id": "jUmX-4pAjhvF",
        "outputId": "2d5d22af-b77a-4db0-fe9e-6844756919b9"
      },
      "execution_count": 98,
      "outputs": [
        {
          "output_type": "execute_result",
          "data": {
            "text/plain": [
              "False"
            ]
          },
          "metadata": {},
          "execution_count": 98
        }
      ]
    },
    {
      "cell_type": "code",
      "source": [
        "#comparision using greater than\n",
        "x=57\n",
        "y=76\n",
        "x>y"
      ],
      "metadata": {
        "colab": {
          "base_uri": "https://localhost:8080/"
        },
        "id": "yp4yRP4NjnJk",
        "outputId": "f882528f-6276-488d-9a85-f8ca4c651815"
      },
      "execution_count": 99,
      "outputs": [
        {
          "output_type": "execute_result",
          "data": {
            "text/plain": [
              "False"
            ]
          },
          "metadata": {},
          "execution_count": 99
        }
      ]
    },
    {
      "cell_type": "code",
      "source": [
        "p=5.62\n",
        "q=5.26\n",
        "p>q"
      ],
      "metadata": {
        "colab": {
          "base_uri": "https://localhost:8080/"
        },
        "id": "LdFflhcbj1Ge",
        "outputId": "afc45748-e359-4239-d0c8-4006fb03aa73"
      },
      "execution_count": 100,
      "outputs": [
        {
          "output_type": "execute_result",
          "data": {
            "text/plain": [
              "True"
            ]
          },
          "metadata": {},
          "execution_count": 100
        }
      ]
    },
    {
      "cell_type": "code",
      "source": [
        "a=45\n",
        "b=4.5\n",
        "a>b"
      ],
      "metadata": {
        "colab": {
          "base_uri": "https://localhost:8080/"
        },
        "id": "x25kyFMdj87P",
        "outputId": "02216f6f-e838-424b-a1ff-89561c80b83f"
      },
      "execution_count": 101,
      "outputs": [
        {
          "output_type": "execute_result",
          "data": {
            "text/plain": [
              "True"
            ]
          },
          "metadata": {},
          "execution_count": 101
        }
      ]
    },
    {
      "cell_type": "code",
      "source": [
        "#comparision using lessthan or equal to\n",
        "a=54\n",
        "b=35\n",
        "a<=b"
      ],
      "metadata": {
        "colab": {
          "base_uri": "https://localhost:8080/"
        },
        "id": "u8LqvhWrkD_c",
        "outputId": "439ff5a3-0a3e-411e-8b7b-715c9d91e2f4"
      },
      "execution_count": 102,
      "outputs": [
        {
          "output_type": "execute_result",
          "data": {
            "text/plain": [
              "False"
            ]
          },
          "metadata": {},
          "execution_count": 102
        }
      ]
    },
    {
      "cell_type": "code",
      "source": [
        "x=76\n",
        "y=86.7\n",
        "x<=y\n"
      ],
      "metadata": {
        "colab": {
          "base_uri": "https://localhost:8080/"
        },
        "id": "FNywZR87kP8i",
        "outputId": "a3cee579-3eab-4cbc-b0b2-925ac8ba9032"
      },
      "execution_count": 103,
      "outputs": [
        {
          "output_type": "execute_result",
          "data": {
            "text/plain": [
              "True"
            ]
          },
          "metadata": {},
          "execution_count": 103
        }
      ]
    },
    {
      "cell_type": "code",
      "source": [
        "u=99\n",
        "y=99\n",
        "u<=y"
      ],
      "metadata": {
        "colab": {
          "base_uri": "https://localhost:8080/"
        },
        "id": "xxCK5S0ukXgA",
        "outputId": "17795db4-22c2-4dc3-818b-609d6e97ff3b"
      },
      "execution_count": 104,
      "outputs": [
        {
          "output_type": "execute_result",
          "data": {
            "text/plain": [
              "True"
            ]
          },
          "metadata": {},
          "execution_count": 104
        }
      ]
    },
    {
      "cell_type": "code",
      "source": [
        "#comparision using greater than or eaqual to\n",
        "x=40\n",
        "y=50\n",
        "x>=y"
      ],
      "metadata": {
        "colab": {
          "base_uri": "https://localhost:8080/"
        },
        "id": "m3vbQrUNkcYB",
        "outputId": "e6e42079-97e2-4f69-92cf-02d719d85f15"
      },
      "execution_count": 105,
      "outputs": [
        {
          "output_type": "execute_result",
          "data": {
            "text/plain": [
              "False"
            ]
          },
          "metadata": {},
          "execution_count": 105
        }
      ]
    },
    {
      "cell_type": "code",
      "source": [
        "a=88\n",
        "b=88\n",
        "a>=b"
      ],
      "metadata": {
        "colab": {
          "base_uri": "https://localhost:8080/"
        },
        "id": "B_5eODDqkwBB",
        "outputId": "942b157b-eaf7-49b8-a651-dd415f4b96ac"
      },
      "execution_count": 106,
      "outputs": [
        {
          "output_type": "execute_result",
          "data": {
            "text/plain": [
              "True"
            ]
          },
          "metadata": {},
          "execution_count": 106
        }
      ]
    },
    {
      "cell_type": "code",
      "source": [
        "p=5.9\n",
        "q=5.09\n",
        "p>=q"
      ],
      "metadata": {
        "colab": {
          "base_uri": "https://localhost:8080/"
        },
        "id": "YPTLGT6Hk0rx",
        "outputId": "270f98f6-73ef-40d9-f8b6-b5d6b078bfbf"
      },
      "execution_count": 107,
      "outputs": [
        {
          "output_type": "execute_result",
          "data": {
            "text/plain": [
              "True"
            ]
          },
          "metadata": {},
          "execution_count": 107
        }
      ]
    },
    {
      "cell_type": "markdown",
      "source": [
        "##Logical operator\n"
      ],
      "metadata": {
        "id": "WYnfEhn2lAUn"
      }
    },
    {
      "cell_type": "code",
      "source": [
        "#using and operator\n",
        "a=56\n",
        "b=63\n",
        "c=58\n",
        "a>b and b>c #prints true if both statements are true"
      ],
      "metadata": {
        "colab": {
          "base_uri": "https://localhost:8080/"
        },
        "id": "hlaCxjXPlFdM",
        "outputId": "aefb4526-039c-4c2e-fcaf-5b722fb36b7b"
      },
      "execution_count": 111,
      "outputs": [
        {
          "output_type": "execute_result",
          "data": {
            "text/plain": [
              "False"
            ]
          },
          "metadata": {},
          "execution_count": 111
        }
      ]
    },
    {
      "cell_type": "code",
      "source": [
        "x=5.3\n",
        "y=4.9\n",
        "z=3.5\n",
        "x>y and y>z"
      ],
      "metadata": {
        "colab": {
          "base_uri": "https://localhost:8080/"
        },
        "id": "jnH0Ph0-l3y9",
        "outputId": "0a28430e-eadd-4db8-a7e8-e0eb032a1465"
      },
      "execution_count": 110,
      "outputs": [
        {
          "output_type": "execute_result",
          "data": {
            "text/plain": [
              "True"
            ]
          },
          "metadata": {},
          "execution_count": 110
        }
      ]
    },
    {
      "cell_type": "code",
      "source": [
        "p=-5.4\n",
        "q=4\n",
        "r=0\n",
        "p>q and q>r,p<q and q>r"
      ],
      "metadata": {
        "colab": {
          "base_uri": "https://localhost:8080/"
        },
        "id": "0C9N8kozmMzh",
        "outputId": "b4db49dd-fa44-4dbf-adf1-cd07718ae9c7"
      },
      "execution_count": 118,
      "outputs": [
        {
          "output_type": "execute_result",
          "data": {
            "text/plain": [
              "(False, True)"
            ]
          },
          "metadata": {},
          "execution_count": 118
        }
      ]
    },
    {
      "cell_type": "code",
      "source": [
        "u=5\n",
        "v=8\n",
        "w=7\n",
        "u<v and v<w,v>w and w>u\n"
      ],
      "metadata": {
        "colab": {
          "base_uri": "https://localhost:8080/"
        },
        "id": "0O6twtmanX6k",
        "outputId": "144c4040-cd91-42f5-c6eb-8b5a5606bf39"
      },
      "execution_count": 123,
      "outputs": [
        {
          "output_type": "execute_result",
          "data": {
            "text/plain": [
              "(False, True)"
            ]
          },
          "metadata": {},
          "execution_count": 123
        }
      ]
    },
    {
      "cell_type": "code",
      "source": [
        "#using or operator\n",
        "a=5\n",
        "b=7\n",
        "c=6\n",
        "d=8 #prints true if 1 statement  is true\n",
        "a<b or b>c,a<b or b<c"
      ],
      "metadata": {
        "colab": {
          "base_uri": "https://localhost:8080/"
        },
        "id": "Wz5jiDl3mqS1",
        "outputId": "d3fb337f-f23a-4ec9-8fc7-beb83566523b"
      },
      "execution_count": 124,
      "outputs": [
        {
          "output_type": "execute_result",
          "data": {
            "text/plain": [
              "(True, True)"
            ]
          },
          "metadata": {},
          "execution_count": 124
        }
      ]
    },
    {
      "cell_type": "code",
      "source": [
        "p=56\n",
        "q=98\n",
        "r=74\n",
        "p>r or q>r"
      ],
      "metadata": {
        "colab": {
          "base_uri": "https://localhost:8080/"
        },
        "id": "kgB6D_liocCM",
        "outputId": "31cdb491-8162-4f7e-9062-2930ca4362fb"
      },
      "execution_count": 125,
      "outputs": [
        {
          "output_type": "execute_result",
          "data": {
            "text/plain": [
              "True"
            ]
          },
          "metadata": {},
          "execution_count": 125
        }
      ]
    },
    {
      "cell_type": "code",
      "source": [
        "u=7.8\n",
        "v=26\n",
        "w=87\n",
        "u>v or u>w"
      ],
      "metadata": {
        "colab": {
          "base_uri": "https://localhost:8080/"
        },
        "id": "xKbQf3o1o3Cs",
        "outputId": "4e23230b-4218-4241-c89a-d829cfd24354"
      },
      "execution_count": 129,
      "outputs": [
        {
          "output_type": "execute_result",
          "data": {
            "text/plain": [
              "False"
            ]
          },
          "metadata": {},
          "execution_count": 129
        }
      ]
    },
    {
      "cell_type": "code",
      "source": [
        "x=67\n",
        "y=96\n",
        "z=46\n",
        "x>y or y>x,y>x or y>z\n"
      ],
      "metadata": {
        "colab": {
          "base_uri": "https://localhost:8080/"
        },
        "id": "oX_NLoFDpFf3",
        "outputId": "88cb6a31-58cb-4387-d54c-555606258ac7"
      },
      "execution_count": 130,
      "outputs": [
        {
          "output_type": "execute_result",
          "data": {
            "text/plain": [
              "(True, True)"
            ]
          },
          "metadata": {},
          "execution_count": 130
        }
      ]
    },
    {
      "cell_type": "code",
      "source": [
        "#using not operand\n",
        "a=34\n",
        "b=96\n",
        "c=27\n",
        "d=45\n",
        "not(a<b and c>d) #prints true if statement is false"
      ],
      "metadata": {
        "colab": {
          "base_uri": "https://localhost:8080/"
        },
        "id": "zHazHHXDpeSC",
        "outputId": "38428a0b-fb22-439e-a49e-5689471e040f"
      },
      "execution_count": 134,
      "outputs": [
        {
          "output_type": "execute_result",
          "data": {
            "text/plain": [
              "True"
            ]
          },
          "metadata": {},
          "execution_count": 134
        }
      ]
    },
    {
      "cell_type": "code",
      "source": [
        "x=56\n",
        "y=98\n",
        "z=45\n",
        "not(x<y and y>z)\n",
        "print(not(x<y and y>z))\n",
        "not(x>z and y>x)\n",
        "print(not(x>z and y>x))"
      ],
      "metadata": {
        "colab": {
          "base_uri": "https://localhost:8080/"
        },
        "id": "kiS2l2ispxnj",
        "outputId": "9d04de08-1545-476e-bba2-1df0b75d1b8a"
      },
      "execution_count": 139,
      "outputs": [
        {
          "output_type": "stream",
          "name": "stdout",
          "text": [
            "False\n",
            "False\n"
          ]
        }
      ]
    },
    {
      "cell_type": "code",
      "source": [
        "p=67\n",
        "q=8.5\n",
        "r=76\n",
        "not(p>r and r<p)"
      ],
      "metadata": {
        "colab": {
          "base_uri": "https://localhost:8080/"
        },
        "id": "n9KgobZWqfvX",
        "outputId": "17f2e551-463e-49b0-83a3-93bd9206817a"
      },
      "execution_count": 140,
      "outputs": [
        {
          "output_type": "execute_result",
          "data": {
            "text/plain": [
              "True"
            ]
          },
          "metadata": {},
          "execution_count": 140
        }
      ]
    },
    {
      "cell_type": "code",
      "source": [
        "u=98\n",
        "v=56\n",
        "w=89\n",
        "not(u<v and v>w)"
      ],
      "metadata": {
        "colab": {
          "base_uri": "https://localhost:8080/"
        },
        "id": "KqIJ1vdkrXK7",
        "outputId": "73f64c2e-d9f5-41d1-b383-1800b45510dd"
      },
      "execution_count": 141,
      "outputs": [
        {
          "output_type": "execute_result",
          "data": {
            "text/plain": [
              "True"
            ]
          },
          "metadata": {},
          "execution_count": 141
        }
      ]
    },
    {
      "cell_type": "markdown",
      "source": [
        "##Identify operators\n",
        "```\n",
        "\n"
      ],
      "metadata": {
        "id": "sNUm_qofr4Ql"
      }
    },
    {
      "cell_type": "code",
      "source": [
        "#using is operator\n",
        "a=62\n",
        "b=6\n",
        "print(b is a) #prints true if operands are identical"
      ],
      "metadata": {
        "colab": {
          "base_uri": "https://localhost:8080/"
        },
        "id": "gjHgEZfzr8Ac",
        "outputId": "c701b906-6e4a-447c-d797-bb8ae685b5b4"
      },
      "execution_count": 152,
      "outputs": [
        {
          "output_type": "stream",
          "name": "stdout",
          "text": [
            "False\n"
          ]
        }
      ]
    },
    {
      "cell_type": "code",
      "source": [
        "p=[1,2,3,4]\n",
        "q=[2,4,6,8,10]\n",
        "print(p is q)"
      ],
      "metadata": {
        "colab": {
          "base_uri": "https://localhost:8080/"
        },
        "id": "fnFXCkHesNVv",
        "outputId": "c1478191-4a35-45bd-ba4b-5fdd1edff473"
      },
      "execution_count": 146,
      "outputs": [
        {
          "output_type": "stream",
          "name": "stdout",
          "text": [
            "False\n"
          ]
        }
      ]
    },
    {
      "cell_type": "code",
      "source": [
        "x=[3,6,9,12,15,18]\n",
        "y=[6,12,18]\n",
        "print(y is x)"
      ],
      "metadata": {
        "colab": {
          "base_uri": "https://localhost:8080/"
        },
        "id": "i_GJzoeqsjym",
        "outputId": "0fcb9b99-decd-4086-ed4c-998ae6bc73a7"
      },
      "execution_count": 147,
      "outputs": [
        {
          "output_type": "stream",
          "name": "stdout",
          "text": [
            "False\n"
          ]
        }
      ]
    },
    {
      "cell_type": "code",
      "source": [
        "u=4\n",
        "v=4\n",
        "print(u is v)"
      ],
      "metadata": {
        "colab": {
          "base_uri": "https://localhost:8080/"
        },
        "id": "l6dUNcTos86f",
        "outputId": "0eb243c3-1c9a-4ba3-a21b-80fca0d5275e"
      },
      "execution_count": 151,
      "outputs": [
        {
          "output_type": "stream",
          "name": "stdout",
          "text": [
            "True\n"
          ]
        }
      ]
    },
    {
      "cell_type": "code",
      "source": [
        "#using is not operator\n",
        "a=45\n",
        "b=45\n",
        "a is not b #prints true if operands are not identical"
      ],
      "metadata": {
        "colab": {
          "base_uri": "https://localhost:8080/"
        },
        "id": "v46jTvLGtPEe",
        "outputId": "d8c1eb41-7bc2-42d6-e1c6-1ab73b97f85f"
      },
      "execution_count": 154,
      "outputs": [
        {
          "output_type": "execute_result",
          "data": {
            "text/plain": [
              "False"
            ]
          },
          "metadata": {},
          "execution_count": 154
        }
      ]
    },
    {
      "cell_type": "code",
      "source": [
        "x=76\n",
        "y=98\n",
        "z=98\n",
        "print(x is not y,y is not x)"
      ],
      "metadata": {
        "colab": {
          "base_uri": "https://localhost:8080/"
        },
        "id": "z3_TNt8yudNr",
        "outputId": "eaff6877-14e7-45ce-faf3-77ee2d6b004b"
      },
      "execution_count": 155,
      "outputs": [
        {
          "output_type": "stream",
          "name": "stdout",
          "text": [
            "True True\n"
          ]
        }
      ]
    },
    {
      "cell_type": "code",
      "source": [
        "p=56\n",
        "q=34\n",
        "r=56\n",
        "print(p is not q)\n",
        "print(p is not r)"
      ],
      "metadata": {
        "colab": {
          "base_uri": "https://localhost:8080/"
        },
        "id": "Y7ObH09Wu8Xa",
        "outputId": "801696d4-ef2c-4f9d-da63-eb3d5f227169"
      },
      "execution_count": 156,
      "outputs": [
        {
          "output_type": "stream",
          "name": "stdout",
          "text": [
            "True\n",
            "False\n"
          ]
        }
      ]
    },
    {
      "cell_type": "code",
      "source": [
        "u=\"good morning\"\n",
        "v=\"good afternoon\"\n",
        "u is not v"
      ],
      "metadata": {
        "colab": {
          "base_uri": "https://localhost:8080/"
        },
        "id": "OMlPN9-zvKiK",
        "outputId": "7fa63214-db40-4513-9c69-171473cb5b57"
      },
      "execution_count": 157,
      "outputs": [
        {
          "output_type": "execute_result",
          "data": {
            "text/plain": [
              "True"
            ]
          },
          "metadata": {},
          "execution_count": 157
        }
      ]
    },
    {
      "cell_type": "markdown",
      "source": [
        "##Membership operator"
      ],
      "metadata": {
        "id": "Px3T6g4Jvr8b"
      }
    },
    {
      "cell_type": "code",
      "source": [
        "#using in operator\n",
        "a=[1,2,3,4,5]\n",
        "b=[2,4,6]\n",
        "print(3 in a,8 in b) #prints true if value/variable present in sequence"
      ],
      "metadata": {
        "colab": {
          "base_uri": "https://localhost:8080/"
        },
        "id": "0e17x-lkvzIk",
        "outputId": "819b6e9d-7737-4742-ee22-5954dcea18b3"
      },
      "execution_count": 158,
      "outputs": [
        {
          "output_type": "stream",
          "name": "stdout",
          "text": [
            "True False\n"
          ]
        }
      ]
    },
    {
      "cell_type": "code",
      "source": [
        "x=\"welcome to hyderabad\"\n",
        "y={3,6,9,12}\n",
        "print(3 in y,15 in y)\n",
        "print('H' in x)"
      ],
      "metadata": {
        "colab": {
          "base_uri": "https://localhost:8080/"
        },
        "id": "XDO-OTObwLPX",
        "outputId": "b19a9f6b-e632-4d82-a090-9b2e8fdc981b"
      },
      "execution_count": 165,
      "outputs": [
        {
          "output_type": "stream",
          "name": "stdout",
          "text": [
            "True False\n",
            "False\n"
          ]
        }
      ]
    },
    {
      "cell_type": "code",
      "source": [
        "p=[100,101,108]\n",
        "q=\"helpline\"\n",
        "print('H' in q,100 in p)\n",
        "print('p'in q)"
      ],
      "metadata": {
        "colab": {
          "base_uri": "https://localhost:8080/"
        },
        "id": "9mRtaqP7wzft",
        "outputId": "ccef346d-3e4f-4d98-886a-ce2f549148b7"
      },
      "execution_count": 166,
      "outputs": [
        {
          "output_type": "stream",
          "name": "stdout",
          "text": [
            "False True\n",
            "True\n"
          ]
        }
      ]
    },
    {
      "cell_type": "code",
      "source": [
        "u='good morning'\n",
        "v='good afternoon'\n",
        "print('m' in u,'good' in v,'A' in v)"
      ],
      "metadata": {
        "colab": {
          "base_uri": "https://localhost:8080/"
        },
        "id": "pMWMLnRvx5iU",
        "outputId": "1e75e223-130d-4738-897f-58a9cf3f9a93"
      },
      "execution_count": 168,
      "outputs": [
        {
          "output_type": "stream",
          "name": "stdout",
          "text": [
            "True True False\n"
          ]
        }
      ]
    },
    {
      "cell_type": "code",
      "source": [
        "s=[2,4,6,8]\n",
        "t=[3,6,9]\n",
        "print(4 in t,4 in s)"
      ],
      "metadata": {
        "colab": {
          "base_uri": "https://localhost:8080/"
        },
        "id": "J4XPLwjwyx7y",
        "outputId": "ca8ba827-5229-49cb-a61d-6df5025f8c39"
      },
      "execution_count": 169,
      "outputs": [
        {
          "output_type": "stream",
          "name": "stdout",
          "text": [
            "False True\n"
          ]
        }
      ]
    },
    {
      "cell_type": "code",
      "source": [
        "#using not in operator\n",
        "a=[p,q,r,s,t]\n",
        "b=[7,8,9]\n",
        "print(q not in a) #prints true if values/variables not in sequence\n",
        "print(u not in a,8 not in b)"
      ],
      "metadata": {
        "colab": {
          "base_uri": "https://localhost:8080/"
        },
        "id": "ZwIWJksbyvpS",
        "outputId": "2ac28a98-0718-4926-fa43-62067223bcb5"
      },
      "execution_count": 171,
      "outputs": [
        {
          "output_type": "stream",
          "name": "stdout",
          "text": [
            "False\n",
            "True False\n"
          ]
        }
      ]
    },
    {
      "cell_type": "code",
      "source": [
        "p='madikonda'\n",
        "q='kazipet'\n",
        "print('m' not in p,'o'not in q)\n"
      ],
      "metadata": {
        "colab": {
          "base_uri": "https://localhost:8080/"
        },
        "id": "lPgaNwPIzmmD",
        "outputId": "89fe6325-3761-4fc9-b159-89018119a433"
      },
      "execution_count": 172,
      "outputs": [
        {
          "output_type": "stream",
          "name": "stdout",
          "text": [
            "False True\n"
          ]
        }
      ]
    },
    {
      "cell_type": "code",
      "source": [
        "x=[1234]\n",
        "y=[5,6,7,8]\n",
        "print(7 not in y)\n"
      ],
      "metadata": {
        "colab": {
          "base_uri": "https://localhost:8080/"
        },
        "id": "T2Du_RaG0huJ",
        "outputId": "753b2fc0-d8bc-4294-8f24-cfdd7e54a7c3"
      },
      "execution_count": 176,
      "outputs": [
        {
          "output_type": "stream",
          "name": "stdout",
          "text": [
            "False\n"
          ]
        }
      ]
    },
    {
      "cell_type": "code",
      "source": [
        "u='Telangana'\n",
        "v='hyderabad'\n",
        "print('t'not in u)\n",
        "print('hyderabad'not in v)"
      ],
      "metadata": {
        "colab": {
          "base_uri": "https://localhost:8080/"
        },
        "id": "dLEg4r4y0u-N",
        "outputId": "a406138d-aecb-4c8d-ac7c-17a0a52f6a78"
      },
      "execution_count": 179,
      "outputs": [
        {
          "output_type": "stream",
          "name": "stdout",
          "text": [
            "True\n",
            "False\n"
          ]
        }
      ]
    },
    {
      "cell_type": "code",
      "source": [
        "t='hyderabad is the capital of telangana'\n",
        "print('is' not in t)"
      ],
      "metadata": {
        "colab": {
          "base_uri": "https://localhost:8080/"
        },
        "id": "GRctiLCx1di1",
        "outputId": "8df67288-56d3-437a-8ee4-a86a2d633be3"
      },
      "execution_count": 180,
      "outputs": [
        {
          "output_type": "stream",
          "name": "stdout",
          "text": [
            "False\n"
          ]
        }
      ]
    },
    {
      "cell_type": "markdown",
      "source": [
        "##Bitwise operator"
      ],
      "metadata": {
        "id": "CAAF3Vpv2AZT"
      }
    },
    {
      "cell_type": "code",
      "source": [
        "# using and operator\n",
        "a=56\n",
        "b=34\n",
        "print(a&b)#results 1 if both bits are 1"
      ],
      "metadata": {
        "colab": {
          "base_uri": "https://localhost:8080/"
        },
        "id": "-4mbmU672Fj6",
        "outputId": "6023885b-6889-485d-af82-726bd8420f6b"
      },
      "execution_count": 182,
      "outputs": [
        {
          "output_type": "stream",
          "name": "stdout",
          "text": [
            "32\n"
          ]
        }
      ]
    },
    {
      "cell_type": "code",
      "source": [
        "p=23\n",
        "q=32\n",
        "r=87\n",
        "print(p&q,r&p)"
      ],
      "metadata": {
        "colab": {
          "base_uri": "https://localhost:8080/"
        },
        "id": "zKwjla-f6qhS",
        "outputId": "a82e57c6-8fad-46af-8f6a-e264bfc26f7d"
      },
      "execution_count": 183,
      "outputs": [
        {
          "output_type": "stream",
          "name": "stdout",
          "text": [
            "0 23\n"
          ]
        }
      ]
    },
    {
      "cell_type": "code",
      "source": [
        "x=4\n",
        "y=9\n",
        "print(x&y)"
      ],
      "metadata": {
        "colab": {
          "base_uri": "https://localhost:8080/"
        },
        "id": "fRvh_Kii7C6A",
        "outputId": "2f11d476-8b03-437b-8cff-98964cd224a9"
      },
      "execution_count": 184,
      "outputs": [
        {
          "output_type": "stream",
          "name": "stdout",
          "text": [
            "0\n"
          ]
        }
      ]
    },
    {
      "cell_type": "code",
      "source": [
        "u=39\n",
        "v=76\n",
        "w=27\n",
        "print(u&v)\n",
        "print(v&w)"
      ],
      "metadata": {
        "colab": {
          "base_uri": "https://localhost:8080/"
        },
        "id": "s8M8pVxw7dTY",
        "outputId": "73411283-282c-4c53-cc41-8aa8d7aff0e6"
      },
      "execution_count": 185,
      "outputs": [
        {
          "output_type": "stream",
          "name": "stdout",
          "text": [
            "4\n",
            "8\n"
          ]
        }
      ]
    },
    {
      "cell_type": "code",
      "source": [
        "x=64\n",
        "y=23\n",
        "z=45\n",
        "print(x&y,y&z)"
      ],
      "metadata": {
        "colab": {
          "base_uri": "https://localhost:8080/"
        },
        "id": "rGAfU6Zq7r8C",
        "outputId": "e049acb9-3361-4806-d978-1b3acea95eac"
      },
      "execution_count": 187,
      "outputs": [
        {
          "output_type": "stream",
          "name": "stdout",
          "text": [
            "0 5\n"
          ]
        }
      ]
    },
    {
      "cell_type": "code",
      "source": [
        "#using or operator\n",
        "a=43\n",
        "b=45\n",
        "print(a|b) #results 1 if anyone bit is 1"
      ],
      "metadata": {
        "colab": {
          "base_uri": "https://localhost:8080/"
        },
        "id": "egi7pea5741_",
        "outputId": "7b591c29-2d0b-4a3d-d20f-c6b73dc2429b"
      },
      "execution_count": 188,
      "outputs": [
        {
          "output_type": "stream",
          "name": "stdout",
          "text": [
            "47\n"
          ]
        }
      ]
    },
    {
      "cell_type": "code",
      "source": [
        "p=38\n",
        "q=212\n",
        "r=56\n",
        "print(p|q,q|r,p|r)"
      ],
      "metadata": {
        "colab": {
          "base_uri": "https://localhost:8080/"
        },
        "id": "l61LJXId8NFH",
        "outputId": "269cf4db-045b-4686-a027-1f266a7b2b09"
      },
      "execution_count": 189,
      "outputs": [
        {
          "output_type": "stream",
          "name": "stdout",
          "text": [
            "246 252 62\n"
          ]
        }
      ]
    },
    {
      "cell_type": "code",
      "source": [
        "u=21\n",
        "v=76\n",
        "w=52\n",
        "print(u|v,v|w)"
      ],
      "metadata": {
        "colab": {
          "base_uri": "https://localhost:8080/"
        },
        "id": "uXyDK7B-8lg6",
        "outputId": "2034025b-c9c9-4111-d6d3-590b9c2f89cf"
      },
      "execution_count": 190,
      "outputs": [
        {
          "output_type": "stream",
          "name": "stdout",
          "text": [
            "93 124\n"
          ]
        }
      ]
    },
    {
      "cell_type": "code",
      "source": [
        "x=4254\n",
        "y=789\n",
        "print(x|y)"
      ],
      "metadata": {
        "colab": {
          "base_uri": "https://localhost:8080/"
        },
        "id": "MqKXb6Bn9DAE",
        "outputId": "721abb31-7977-4632-bb6a-bcca21f3265a"
      },
      "execution_count": 191,
      "outputs": [
        {
          "output_type": "stream",
          "name": "stdout",
          "text": [
            "5023\n"
          ]
        }
      ]
    },
    {
      "cell_type": "code",
      "source": [
        "s=657\n",
        "t=987\n",
        "print(s|t)"
      ],
      "metadata": {
        "colab": {
          "base_uri": "https://localhost:8080/"
        },
        "id": "u2exE91q9JOM",
        "outputId": "945f8ca0-e189-44e1-cac9-4cc0d23800f1"
      },
      "execution_count": 194,
      "outputs": [
        {
          "output_type": "stream",
          "name": "stdout",
          "text": [
            "987\n"
          ]
        }
      ]
    },
    {
      "cell_type": "code",
      "source": [
        "#using xor operator\n",
        "a=47\n",
        "b=36\n",
        "print(a^b) #results 1 if anyone bit is 1 but not for both 1"
      ],
      "metadata": {
        "colab": {
          "base_uri": "https://localhost:8080/"
        },
        "id": "77bt36uD9RNO",
        "outputId": "7a6b04c7-67cb-4217-9613-ca4c1c7575d8"
      },
      "execution_count": 197,
      "outputs": [
        {
          "output_type": "stream",
          "name": "stdout",
          "text": [
            "11\n"
          ]
        }
      ]
    },
    {
      "cell_type": "code",
      "source": [
        "c=5132\n",
        "d=546\n",
        "print(c^d)"
      ],
      "metadata": {
        "colab": {
          "base_uri": "https://localhost:8080/"
        },
        "id": "JqUIcT9o9tqP",
        "outputId": "cb6c8805-6724-4fec-c067-acca7c6c4a2a"
      },
      "execution_count": 198,
      "outputs": [
        {
          "output_type": "stream",
          "name": "stdout",
          "text": [
            "5678\n"
          ]
        }
      ]
    },
    {
      "cell_type": "code",
      "source": [
        "p=123\n",
        "q=456\n",
        "r=789\n",
        "print(p^q,q^r)"
      ],
      "metadata": {
        "colab": {
          "base_uri": "https://localhost:8080/"
        },
        "id": "6xo4hQCS-VQg",
        "outputId": "e5ca3ed4-2a00-4597-de22-0684350602d6"
      },
      "execution_count": 199,
      "outputs": [
        {
          "output_type": "stream",
          "name": "stdout",
          "text": [
            "435 733\n"
          ]
        }
      ]
    },
    {
      "cell_type": "code",
      "source": [
        "u=689\n",
        "v=587\n",
        "w=638\n",
        "print(u^v,v^w,u^w)"
      ],
      "metadata": {
        "colab": {
          "base_uri": "https://localhost:8080/"
        },
        "id": "MfM3wyIL-gLw",
        "outputId": "8138007c-b776-41da-d8b6-d55aa9cbc2de"
      },
      "execution_count": 200,
      "outputs": [
        {
          "output_type": "stream",
          "name": "stdout",
          "text": [
            "250 53 207\n"
          ]
        }
      ]
    },
    {
      "cell_type": "code",
      "source": [
        "x=24\n",
        "y=53\n",
        "z=34\n",
        "print(x^y)\n",
        "print(x^z)"
      ],
      "metadata": {
        "colab": {
          "base_uri": "https://localhost:8080/"
        },
        "id": "aj2Z4YIL-uKf",
        "outputId": "1785206b-4ba6-490d-bf2f-8bed75b516e1"
      },
      "execution_count": 201,
      "outputs": [
        {
          "output_type": "stream",
          "name": "stdout",
          "text": [
            "45\n",
            "58\n"
          ]
        }
      ]
    },
    {
      "cell_type": "code",
      "source": [
        "#using NOT operator\n",
        "a=24\n",
        "b=32\n",
        "print(~b) #inverts all bits\n",
        "print(~a) #~a=-(a+1)"
      ],
      "metadata": {
        "colab": {
          "base_uri": "https://localhost:8080/"
        },
        "id": "mX4wx0Yd-4s_",
        "outputId": "2b1b35ea-9581-4c13-901f-2d5e2a885bd3"
      },
      "execution_count": 204,
      "outputs": [
        {
          "output_type": "stream",
          "name": "stdout",
          "text": [
            "-33\n",
            "-25\n"
          ]
        }
      ]
    },
    {
      "cell_type": "code",
      "source": [
        "c=356\n",
        "~c\n"
      ],
      "metadata": {
        "colab": {
          "base_uri": "https://localhost:8080/"
        },
        "id": "lXIiDQkT_OLt",
        "outputId": "eafa6210-c6db-47f0-ae9b-3fa87eee1ed2"
      },
      "execution_count": 205,
      "outputs": [
        {
          "output_type": "execute_result",
          "data": {
            "text/plain": [
              "-357"
            ]
          },
          "metadata": {},
          "execution_count": 205
        }
      ]
    },
    {
      "cell_type": "code",
      "source": [
        "x=27\n",
        "y=987\n",
        "print(~x,~y)"
      ],
      "metadata": {
        "colab": {
          "base_uri": "https://localhost:8080/"
        },
        "id": "B_rcGxvXAlR2",
        "outputId": "52f6a3b5-da5f-4161-c428-06cba6b18f3c"
      },
      "execution_count": 206,
      "outputs": [
        {
          "output_type": "stream",
          "name": "stdout",
          "text": [
            "-28 -988\n"
          ]
        }
      ]
    },
    {
      "cell_type": "code",
      "source": [
        "u=76\n",
        "v=346\n",
        "print(~v)\n",
        "print(~u)"
      ],
      "metadata": {
        "colab": {
          "base_uri": "https://localhost:8080/"
        },
        "id": "w6Orfnl1ArYT",
        "outputId": "3bd2cc3f-2098-43cb-aef4-6130a101f3f0"
      },
      "execution_count": 207,
      "outputs": [
        {
          "output_type": "stream",
          "name": "stdout",
          "text": [
            "-347\n",
            "-77\n"
          ]
        }
      ]
    },
    {
      "cell_type": "code",
      "source": [
        "p=46\n",
        "q=84\n",
        "print(~p,~q)"
      ],
      "metadata": {
        "colab": {
          "base_uri": "https://localhost:8080/"
        },
        "id": "7o7wzZK7Az8s",
        "outputId": "f8af2c6d-3d17-4714-d936-0919f0b6de99"
      },
      "execution_count": 209,
      "outputs": [
        {
          "output_type": "stream",
          "name": "stdout",
          "text": [
            "-47 -85\n"
          ]
        }
      ]
    },
    {
      "cell_type": "code",
      "source": [
        "#using left shift operator\n",
        "a=34\n",
        "print(a<<3) #pushing zeros in the right"
      ],
      "metadata": {
        "colab": {
          "base_uri": "https://localhost:8080/"
        },
        "id": "5UirbYWCBJht",
        "outputId": "754865b9-19f5-48cd-9ec1-acc80aa31dbd"
      },
      "execution_count": 210,
      "outputs": [
        {
          "output_type": "stream",
          "name": "stdout",
          "text": [
            "272\n"
          ]
        }
      ]
    },
    {
      "cell_type": "code",
      "source": [
        "c=45\n",
        "d=98\n",
        "print(c<<2,d<<5)"
      ],
      "metadata": {
        "colab": {
          "base_uri": "https://localhost:8080/"
        },
        "id": "lQcoZa-VBYgb",
        "outputId": "afd90ed0-a5f4-4d24-fa45-9480eb1d2301"
      },
      "execution_count": 211,
      "outputs": [
        {
          "output_type": "stream",
          "name": "stdout",
          "text": [
            "180 3136\n"
          ]
        }
      ]
    },
    {
      "cell_type": "code",
      "source": [
        "p=456\n",
        "q=435\n",
        "print(c<<3,d<<4)"
      ],
      "metadata": {
        "colab": {
          "base_uri": "https://localhost:8080/"
        },
        "id": "AZc6i6KTCIOG",
        "outputId": "5c130915-0beb-48d4-f0c4-20fcabeea851"
      },
      "execution_count": 212,
      "outputs": [
        {
          "output_type": "stream",
          "name": "stdout",
          "text": [
            "360 1568\n"
          ]
        }
      ]
    },
    {
      "cell_type": "code",
      "source": [
        "u=245\n",
        "v=234\n",
        "w=546\n",
        "print(u<<3,v<<2,w<<5)"
      ],
      "metadata": {
        "colab": {
          "base_uri": "https://localhost:8080/"
        },
        "id": "dkpmNajoClSq",
        "outputId": "bc0bb6a0-d562-4870-da32-3cb23d03ff13"
      },
      "execution_count": 213,
      "outputs": [
        {
          "output_type": "stream",
          "name": "stdout",
          "text": [
            "1960 936 17472\n"
          ]
        }
      ]
    },
    {
      "cell_type": "code",
      "source": [
        "x=23\n",
        "y=134\n",
        "z=56\n",
        "print(x<<6,y<<3,z<<3)"
      ],
      "metadata": {
        "colab": {
          "base_uri": "https://localhost:8080/"
        },
        "id": "5AGktTh1DYV5",
        "outputId": "3b432c80-ec79-4c19-b197-9d97cf187556"
      },
      "execution_count": 214,
      "outputs": [
        {
          "output_type": "stream",
          "name": "stdout",
          "text": [
            "1472 1072 448\n"
          ]
        }
      ]
    },
    {
      "cell_type": "code",
      "source": [
        "#using right shift operator\n",
        "a=567\n",
        "print(a>>3) #pushing copies of the leftmost bit & the rightmost bits fall off"
      ],
      "metadata": {
        "colab": {
          "base_uri": "https://localhost:8080/"
        },
        "id": "aY70LppFDpXA",
        "outputId": "75faeb73-e354-4dc8-cb9e-6f29e2351ff8"
      },
      "execution_count": 215,
      "outputs": [
        {
          "output_type": "stream",
          "name": "stdout",
          "text": [
            "70\n"
          ]
        }
      ]
    },
    {
      "cell_type": "code",
      "source": [
        "c=245\n",
        "d=435\n",
        "print(c>>5,d>>2)"
      ],
      "metadata": {
        "colab": {
          "base_uri": "https://localhost:8080/"
        },
        "id": "cP5SnI8VD7oi",
        "outputId": "0ebe94e1-21f1-4497-a806-c77679f49ed8"
      },
      "execution_count": 216,
      "outputs": [
        {
          "output_type": "stream",
          "name": "stdout",
          "text": [
            "7 108\n"
          ]
        }
      ]
    },
    {
      "cell_type": "code",
      "source": [
        "p=29\n",
        "q=87\n",
        "r=34\n",
        "print(p>>2,q>>3,r>>3)"
      ],
      "metadata": {
        "colab": {
          "base_uri": "https://localhost:8080/"
        },
        "id": "RfcQOX7kEbJC",
        "outputId": "2113e3cd-a53e-4f2b-baa6-ec9c6679d986"
      },
      "execution_count": 217,
      "outputs": [
        {
          "output_type": "stream",
          "name": "stdout",
          "text": [
            "7 10 4\n"
          ]
        }
      ]
    },
    {
      "cell_type": "code",
      "source": [
        "u=657\n",
        "v=876\n",
        "print(u>>v)"
      ],
      "metadata": {
        "colab": {
          "base_uri": "https://localhost:8080/"
        },
        "id": "mfQ19bDeE2l7",
        "outputId": "653319b4-4d35-4ec6-8a91-bb300ad8cd13"
      },
      "execution_count": 218,
      "outputs": [
        {
          "output_type": "stream",
          "name": "stdout",
          "text": [
            "0\n"
          ]
        }
      ]
    },
    {
      "cell_type": "code",
      "source": [
        "x=34\n",
        "y=345\n",
        "z=321\n",
        "print(z>>y,x>>z)"
      ],
      "metadata": {
        "colab": {
          "base_uri": "https://localhost:8080/"
        },
        "id": "tT-gCALEFLu0",
        "outputId": "89d32259-e6ab-48e6-976e-f862f2a3b423"
      },
      "execution_count": 224,
      "outputs": [
        {
          "output_type": "stream",
          "name": "stdout",
          "text": [
            "0 0\n"
          ]
        }
      ]
    },
    {
      "cell_type": "code",
      "source": [],
      "metadata": {
        "id": "YHxapJHWFTqM"
      },
      "execution_count": null,
      "outputs": []
    }
  ]
}