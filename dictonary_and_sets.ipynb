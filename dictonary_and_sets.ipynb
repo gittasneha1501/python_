{
  "nbformat": 4,
  "nbformat_minor": 0,
  "metadata": {
    "colab": {
      "provenance": []
    },
    "kernelspec": {
      "name": "python3",
      "display_name": "Python 3"
    },
    "language_info": {
      "name": "python"
    }
  },
  "cells": [
    {
      "cell_type": "markdown",
      "source": [
        "#PYTHON DICTIONARY"
      ],
      "metadata": {
        "id": "dm-hVTkoccH7"
      }
    },
    {
      "cell_type": "markdown",
      "source": [
        "##CREATING DICTIONARY"
      ],
      "metadata": {
        "id": "OS53dQTdchHm"
      }
    },
    {
      "cell_type": "code",
      "execution_count": 16,
      "metadata": {
        "colab": {
          "base_uri": "https://localhost:8080/"
        },
        "id": "lpOM0Z_wcRmx",
        "outputId": "4a386a77-68d1-4020-b4cd-ec2e42bd68b6"
      },
      "outputs": [
        {
          "output_type": "stream",
          "name": "stdout",
          "text": [
            "{'name': 'sneha', 'age': 21, 'gender': 'female', 'qualification': 'btech'}\n",
            "{'oil': 'sunflower', 'soap': 'santoor', 'dal': 'moondal', 'biscuit': 'monaco'}\n",
            "{'village': 'madikonda', 'mandal': 'kazipet', 'district': 'warangal'}\n",
            "{'a': 'apple', 'b': 'banana', 'c': 'cucumber', 'd': 'dragon_fruit'}\n",
            "{'_1': 'one', '_2': 'too', '_3': 'three'}\n"
          ]
        }
      ],
      "source": [
        "profile={'name':'sneha','age':21,'gender':'female','qualification':'btech'}\n",
        "grocery={'oil':'sunflower','soap':'santoor','dal':'moondal','biscuit':'monaco'}\n",
        "address={'village':'madikonda','mandal':'kazipet','district':'warangal'}\n",
        "fruits={'a':'apple','b':'banana','c':'cucumber','d':'dragon_fruit'}\n",
        "digits={'_1':'one','_2':'too','_3':'three'}\n",
        "print(profile)\n",
        "print(grocery)\n",
        "print(address)\n",
        "print(fruits)\n",
        "print(digits)\n",
        "\n"
      ]
    },
    {
      "cell_type": "markdown",
      "source": [
        "##accessing values\n"
      ],
      "metadata": {
        "id": "CHhsqo2_hwyX"
      }
    },
    {
      "cell_type": "code",
      "source": [
        "print(profile['name'])       #accessing value\n",
        "print(grocery['oil'])\n",
        "print(address['mandal'])\n",
        "print(fruits['a'])\n",
        "print(digits['_2'])"
      ],
      "metadata": {
        "colab": {
          "base_uri": "https://localhost:8080/"
        },
        "id": "pSu5cqC5hz8D",
        "outputId": "6b7d63f9-e999-473d-c187-24324d6a116e"
      },
      "execution_count": 17,
      "outputs": [
        {
          "output_type": "stream",
          "name": "stdout",
          "text": [
            "sneha\n",
            "sunflower\n",
            "kazipet\n",
            "apple\n",
            "too\n"
          ]
        }
      ]
    },
    {
      "cell_type": "markdown",
      "source": [
        "##modifing & adding entries"
      ],
      "metadata": {
        "id": "FnHbwVNqham8"
      }
    },
    {
      "cell_type": "code",
      "source": [
        "profile['age']=22    #modifing entries\n",
        "grocery['oil']='golddrop'\n",
        "address['village']='kadipikonda'\n",
        "fruits['c']='coconut'\n",
        "digits['_2']='two'\n",
        "print(profile)\n",
        "print(grocery)\n",
        "print(address)\n",
        "print(fruits)\n",
        "print(digits)\n",
        "print()\n",
        "print('........')\n",
        "print()\n",
        "profile['grade']='A'   #adding entries\n",
        "grocery['paste']='meswak'\n",
        "address['state']='telangana'\n",
        "fruits['m']='mango'\n",
        "digits['_4']='four'\n",
        "print(profile)\n",
        "print(grocery)\n",
        "print(address)\n",
        "print(fruits)\n",
        "print(digits)"
      ],
      "metadata": {
        "colab": {
          "base_uri": "https://localhost:8080/"
        },
        "id": "TiyHaU6Lc-uK",
        "outputId": "94e46c46-fad5-4917-d96f-c2976f3603a2"
      },
      "execution_count": 18,
      "outputs": [
        {
          "output_type": "stream",
          "name": "stdout",
          "text": [
            "{'name': 'sneha', 'age': 22, 'gender': 'female', 'qualification': 'btech'}\n",
            "{'oil': 'golddrop', 'soap': 'santoor', 'dal': 'moondal', 'biscuit': 'monaco'}\n",
            "{'village': 'kadipikonda', 'mandal': 'kazipet', 'district': 'warangal'}\n",
            "{'a': 'apple', 'b': 'banana', 'c': 'coconut', 'd': 'dragon_fruit'}\n",
            "{'_1': 'one', '_2': 'two', '_3': 'three'}\n",
            "\n",
            "........\n",
            "\n",
            "{'name': 'sneha', 'age': 22, 'gender': 'female', 'qualification': 'btech', 'grade': 'A'}\n",
            "{'oil': 'golddrop', 'soap': 'santoor', 'dal': 'moondal', 'biscuit': 'monaco', 'paste': 'meswak'}\n",
            "{'village': 'kadipikonda', 'mandal': 'kazipet', 'district': 'warangal', 'state': 'telangana'}\n",
            "{'a': 'apple', 'b': 'banana', 'c': 'coconut', 'd': 'dragon_fruit', 'm': 'mango'}\n",
            "{'_1': 'one', '_2': 'two', '_3': 'three', '_4': 'four'}\n"
          ]
        }
      ]
    },
    {
      "cell_type": "markdown",
      "source": [
        "##dictionary methods"
      ],
      "metadata": {
        "id": "D60Ip825g3vS"
      }
    },
    {
      "cell_type": "code",
      "source": [
        "#get()\n",
        "a=profile.get('qualification')\n",
        "b=grocery.get('oil','not defined')\n",
        "c=address.get('state')                 #returns value of a key\n",
        "d=fruits.get('c')\n",
        "e=digits.get('_3')\n",
        "print(a)\n",
        "print(b)\n",
        "print(c)\n",
        "print(d)\n",
        "print(e)"
      ],
      "metadata": {
        "colab": {
          "base_uri": "https://localhost:8080/"
        },
        "id": "Oqu2LKnkdRey",
        "outputId": "6ac1c740-5571-4269-ff37-a00272e04070"
      },
      "execution_count": 19,
      "outputs": [
        {
          "output_type": "stream",
          "name": "stdout",
          "text": [
            "btech\n",
            "golddrop\n",
            "telangana\n",
            "coconut\n",
            "three\n"
          ]
        }
      ]
    },
    {
      "cell_type": "code",
      "source": [
        "#keys\n",
        "a=profile.keys()\n",
        "b=grocery.keys()\n",
        "c=address.keys()                 #returns view of all keys\n",
        "d=fruits.keys()\n",
        "e=digits.keys()\n",
        "print(a)\n",
        "print(b)\n",
        "print(c)\n",
        "print(d)\n",
        "print(e)"
      ],
      "metadata": {
        "colab": {
          "base_uri": "https://localhost:8080/"
        },
        "id": "gWJdCq5Ijo7p",
        "outputId": "a46e2ef2-bbd7-4a3e-9266-74446c31328a"
      },
      "execution_count": 20,
      "outputs": [
        {
          "output_type": "stream",
          "name": "stdout",
          "text": [
            "dict_keys(['name', 'age', 'gender', 'qualification', 'grade'])\n",
            "dict_keys(['oil', 'soap', 'dal', 'biscuit', 'paste'])\n",
            "dict_keys(['village', 'mandal', 'district', 'state'])\n",
            "dict_keys(['a', 'b', 'c', 'd', 'm'])\n",
            "dict_keys(['_1', '_2', '_3', '_4'])\n"
          ]
        }
      ]
    },
    {
      "cell_type": "code",
      "source": [
        "#value()\n",
        "a=profile.values()\n",
        "b=grocery.values()\n",
        "c=address.values()                 #returns all values\n",
        "d=fruits.values()\n",
        "e=digits.values()\n",
        "print(a)\n",
        "print(b)\n",
        "print(c)\n",
        "print(d)\n",
        "print(e)"
      ],
      "metadata": {
        "colab": {
          "base_uri": "https://localhost:8080/"
        },
        "id": "3gwdG7c_lLv2",
        "outputId": "7460bcb8-6701-4c94-aa6b-bf73f0a7aac5"
      },
      "execution_count": 21,
      "outputs": [
        {
          "output_type": "stream",
          "name": "stdout",
          "text": [
            "dict_values(['sneha', 22, 'female', 'btech', 'A'])\n",
            "dict_values(['golddrop', 'santoor', 'moondal', 'monaco', 'meswak'])\n",
            "dict_values(['kadipikonda', 'kazipet', 'warangal', 'telangana'])\n",
            "dict_values(['apple', 'banana', 'coconut', 'dragon_fruit', 'mango'])\n",
            "dict_values(['one', 'two', 'three', 'four'])\n"
          ]
        }
      ]
    },
    {
      "cell_type": "code",
      "source": [
        "#items()\n",
        "a=profile.items()\n",
        "b=grocery.items()\n",
        "c=address.items()                 #returns all items\n",
        "d=fruits.items()\n",
        "e=digits.items()\n",
        "print(a)\n",
        "print(b)\n",
        "print(c)\n",
        "print(d)\n",
        "print(e)"
      ],
      "metadata": {
        "colab": {
          "base_uri": "https://localhost:8080/"
        },
        "id": "TGi7o9pTlk_l",
        "outputId": "f682c928-663a-465f-fed8-3fe41b65aaa6"
      },
      "execution_count": 22,
      "outputs": [
        {
          "output_type": "stream",
          "name": "stdout",
          "text": [
            "dict_items([('name', 'sneha'), ('age', 22), ('gender', 'female'), ('qualification', 'btech'), ('grade', 'A')])\n",
            "dict_items([('oil', 'golddrop'), ('soap', 'santoor'), ('dal', 'moondal'), ('biscuit', 'monaco'), ('paste', 'meswak')])\n",
            "dict_items([('village', 'kadipikonda'), ('mandal', 'kazipet'), ('district', 'warangal'), ('state', 'telangana')])\n",
            "dict_items([('a', 'apple'), ('b', 'banana'), ('c', 'coconut'), ('d', 'dragon_fruit'), ('m', 'mango')])\n",
            "dict_items([('_1', 'one'), ('_2', 'two'), ('_3', 'three'), ('_4', 'four')])\n"
          ]
        }
      ]
    },
    {
      "cell_type": "code",
      "source": [
        "#pop()\n",
        "p=profile.pop('gender')\n",
        "q=grocery.pop('dal')\n",
        "r=address.pop('district')                 #remove and returns the value\n",
        "s=fruits.pop('d')\n",
        "t=digits.pop('_3')\n",
        "print(p)\n",
        "print(q)\n",
        "print(r)\n",
        "print(s)\n",
        "print(t)"
      ],
      "metadata": {
        "colab": {
          "base_uri": "https://localhost:8080/"
        },
        "id": "LBF3JFw-l1IE",
        "outputId": "42ab8d7d-429d-48ef-8372-905a0c8c9ac3"
      },
      "execution_count": 23,
      "outputs": [
        {
          "output_type": "stream",
          "name": "stdout",
          "text": [
            "female\n",
            "moondal\n",
            "warangal\n",
            "dragon_fruit\n",
            "three\n"
          ]
        }
      ]
    },
    {
      "cell_type": "code",
      "source": [
        "#pop item()\n",
        "a=profile.popitem()\n",
        "b=grocery.popitem()\n",
        "c=address.popitem()                 #remove and returns the last item\n",
        "d=fruits.popitem()\n",
        "e=digits.popitem()\n",
        "print(a)\n",
        "print(b)\n",
        "print(c)\n",
        "print(d)\n",
        "print(e)"
      ],
      "metadata": {
        "colab": {
          "base_uri": "https://localhost:8080/"
        },
        "id": "QQRRCF2Rm1iB",
        "outputId": "d57d5636-165f-4114-c315-9c10fab02654"
      },
      "execution_count": 25,
      "outputs": [
        {
          "output_type": "stream",
          "name": "stdout",
          "text": [
            "('qualification', 'btech')\n",
            "('paste', 'meswak')\n",
            "('state', 'telangana')\n",
            "('m', 'mango')\n",
            "('_4', 'four')\n"
          ]
        }
      ]
    },
    {
      "cell_type": "code",
      "source": [
        "#update()\n",
        "_profile={'age':23,'grade':'A+'}\n",
        "_grocery={'paste':'sensodyne','dal':'turdal'}\n",
        "_address={'village':'kondapur','mandal':'hitechcity','disrict':'hyd'}\n",
        "_fruits={'a':'avacado','b':'berry'}\n",
        "_digits={'_1':1,'_2':2}\n",
        "profile.update(_profile)           #update with iterable item\n",
        "grocery.update(_grocery)\n",
        "address.update(_address)\n",
        "fruits.update(_fruits)\n",
        "digits.update(_digits)\n",
        "print(profile)\n",
        "print(grocery)\n",
        "print(address)\n",
        "print(fruits)\n",
        "print(digits)\n"
      ],
      "metadata": {
        "colab": {
          "base_uri": "https://localhost:8080/"
        },
        "id": "V9oEHLi1nVpj",
        "outputId": "4c676638-2c4e-4f00-a9ee-de5fc78e7e97"
      },
      "execution_count": 37,
      "outputs": [
        {
          "output_type": "stream",
          "name": "stdout",
          "text": [
            "{'name': 'sneha', 'age': 23, 'grade': 'A+'}\n",
            "{'oil': 'golddrop', 'soap': 'santoor', 'biscuit': 'monaco', 'paste': 'sensodyne', 'dal': 'turdal'}\n",
            "{'village': 'kondapur', 'mandal': 'hitechcity', 'disrict': 'hyd'}\n",
            "{'a': 'avacado', 'b': 'berry', 'c': 'coconut'}\n",
            "{'_1': 1, '_2': 2}\n"
          ]
        }
      ]
    },
    {
      "cell_type": "markdown",
      "source": [
        "#PYTHON SETS"
      ],
      "metadata": {
        "id": "wII0HbbyzDIh"
      }
    },
    {
      "cell_type": "markdown",
      "source": [
        "##creating set"
      ],
      "metadata": {
        "id": "-rJku6i8zGD9"
      }
    },
    {
      "cell_type": "code",
      "source": [
        "vegetables={'potato','tamato','brinjal','beans'}\n",
        "fruits={'banana','apple','mango','grapes'}\n",
        "names={'sneha','swathi','swetha','lavanya','akhila','praharsha'}\n",
        "digits=set([1,2,3,4,5,6])\n",
        "places={'hyderabad','warangal','vizag'}\n",
        "print(vegetables)\n",
        "print(fruits)\n",
        "print(names)\n",
        "print(digits)\n",
        "print(places)\n"
      ],
      "metadata": {
        "colab": {
          "base_uri": "https://localhost:8080/"
        },
        "id": "OzTkfLKqpF6k",
        "outputId": "f827f66d-50fd-48e3-942b-6e763d6f142b"
      },
      "execution_count": 39,
      "outputs": [
        {
          "output_type": "stream",
          "name": "stdout",
          "text": [
            "{'tamato', 'brinjal', 'potato', 'beans'}\n",
            "{'banana', 'mango', 'grapes', 'apple'}\n",
            "{'praharsha', 'swetha', 'lavanya', 'sneha', 'swathi', 'akhila'}\n",
            "{1, 2, 3, 4, 5, 6}\n",
            "{'warangal', 'vizag', 'hyderabad'}\n"
          ]
        }
      ]
    },
    {
      "cell_type": "markdown",
      "source": [
        "##add & update set items in python"
      ],
      "metadata": {
        "id": "6JTQx7Hs0nVE"
      }
    },
    {
      "cell_type": "code",
      "source": [
        "#add an element\n",
        "vegetables.add('ladies_finger')\n",
        "fruits.add('avacado')\n",
        "names.add('sindhu')\n",
        "digits.add(7)\n",
        "places.add('araku')\n",
        "print(vegetables)\n",
        "print(fruits)\n",
        "print(names)\n",
        "print(digits)\n",
        "print(places)\n",
        "\n"
      ],
      "metadata": {
        "colab": {
          "base_uri": "https://localhost:8080/"
        },
        "id": "HtzcKy_z0Vci",
        "outputId": "b1a8a676-a52a-4c22-96e2-e74a41bd0359"
      },
      "execution_count": 42,
      "outputs": [
        {
          "output_type": "stream",
          "name": "stdout",
          "text": [
            "{'ladies_finger', 'potato', 'beans', 'tamato', 'brinjal'}\n",
            "{'banana', 'mango', 'avacado', 'grapes', 'apple'}\n",
            "{'praharsha', 'swetha', 'lavanya', 'sneha', 'sindhu', 'swathi', 'akhila'}\n",
            "{1, 2, 3, 4, 5, 6, 7}\n",
            "{'warangal', 'vizag', 'araku', 'hyderabad'}\n"
          ]
        }
      ]
    },
    {
      "cell_type": "code",
      "source": [
        "#update()\n",
        "vegetables.update(fruits)\n",
        "fruits.update(digits)\n",
        "names.update(places)\n",
        "digits.update(names)\n",
        "places.update(digits)\n",
        "print(vegetables)\n",
        "print(fruits)\n",
        "print(names)\n",
        "print(digits)\n",
        "print(places)\n",
        "\n"
      ],
      "metadata": {
        "colab": {
          "base_uri": "https://localhost:8080/"
        },
        "id": "uvgali7r1ItM",
        "outputId": "c6db552c-986c-4382-cd2c-912901a334a4"
      },
      "execution_count": 51,
      "outputs": [
        {
          "output_type": "stream",
          "name": "stdout",
          "text": [
            "{'banana', 'mango', 'grapes', 'apple', 'potato', 'beans', 'tamato', 'brinjal'}\n",
            "{'banana', 'mango', 1, 2, 3, 4, 5, 6, 'grapes', 'apple'}\n",
            "{'warangal', 'swetha', 'lavanya', 'vizag', 'swathi', 'praharsha', 'hyderabad', 'sneha', 'akhila'}\n",
            "{'warangal', 1, 2, 3, 4, 5, 6, 'swetha', 'lavanya', 'vizag', 'swathi', 'praharsha', 'hyderabad', 'sneha', 'akhila'}\n",
            "{1, 2, 3, 4, 5, 6, 'swetha', 'lavanya', 'vizag', 'hyderabad', 'sneha', 'akhila', 'warangal', 'swathi', 'praharsha'}\n"
          ]
        }
      ]
    },
    {
      "cell_type": "markdown",
      "source": [
        "##remove & length of an elemt\n"
      ],
      "metadata": {
        "id": "T2G1nMr736g6"
      }
    },
    {
      "cell_type": "code",
      "source": [
        "#remove()/discard()\n",
        "vegetables.discard('potato')\n",
        "fruits.remove('grapes')\n",
        "names.discard('sindhu')\n",
        "digits.remove(4)\n",
        "places.remove('vizag')\n",
        "print(vegetables)\n",
        "print(fruits)\n",
        "print(names)\n",
        "print(digits)\n",
        "print(places)"
      ],
      "metadata": {
        "colab": {
          "base_uri": "https://localhost:8080/"
        },
        "id": "mnWnx7Ky1uJb",
        "outputId": "284e2cd2-969c-4846-e8dd-74227549e24c"
      },
      "execution_count": 55,
      "outputs": [
        {
          "output_type": "stream",
          "name": "stdout",
          "text": [
            "{'banana', 'mango', 'grapes', 'apple', 'beans', 'tamato', 'brinjal'}\n",
            "{'banana', 'mango', 1, 2, 3, 4, 5, 6, 'apple'}\n",
            "{'warangal', 'swetha', 'lavanya', 'vizag', 'swathi', 'praharsha', 'hyderabad', 'akhila'}\n",
            "{'warangal', 1, 2, 3, 5, 6, 'swetha', 'lavanya', 'vizag', 'swathi', 'praharsha', 'hyderabad', 'sneha', 'akhila'}\n",
            "{1, 2, 3, 4, 5, 6, 'swetha', 'lavanya', 'hyderabad', 'sneha', 'akhila', 'warangal', 'swathi', 'praharsha'}\n"
          ]
        }
      ]
    },
    {
      "cell_type": "code",
      "source": [
        "#length of an element\n",
        "print(len(vegetables))\n",
        "print(len(fruits))\n",
        "print(len(digits))\n",
        "print(len(names))\n",
        "print(len(places))"
      ],
      "metadata": {
        "colab": {
          "base_uri": "https://localhost:8080/"
        },
        "id": "_lKl3Lop4d1-",
        "outputId": "a001afd8-4c0e-41fd-f630-234e5ba7dc20"
      },
      "execution_count": 58,
      "outputs": [
        {
          "output_type": "stream",
          "name": "stdout",
          "text": [
            "7\n",
            "9\n",
            "14\n",
            "8\n",
            "14\n"
          ]
        }
      ]
    },
    {
      "cell_type": "markdown",
      "source": [
        "##python set opeartions"
      ],
      "metadata": {
        "id": "cHtZUlBY5mMY"
      }
    },
    {
      "cell_type": "code",
      "source": [
        "#union of two sets\n",
        "a={1,2,3,4,5,6}\n",
        "b={2,4,6,8}\n",
        "c={'sneha','sindhu','latha','ravinder','sneha','sindhu'}\n",
        "d={'sneha','swetha','sindhu','swathi'}\n",
        "e={8,7,6,5,4,3}\n",
        "print('union using|:',a|d)\n",
        "print('union using union():',b.union(c))\n",
        "print('union using|:',c|e)\n",
        "print('union using|:',d|a)\n",
        "print('union using|:',e|c)"
      ],
      "metadata": {
        "colab": {
          "base_uri": "https://localhost:8080/"
        },
        "id": "wjuozrPI5QrX",
        "outputId": "67b481cb-61c8-4967-fa91-093a1c60b252"
      },
      "execution_count": 61,
      "outputs": [
        {
          "output_type": "stream",
          "name": "stdout",
          "text": [
            "union using|: {1, 2, 3, 4, 5, 6, 'swetha', 'swathi', 'sneha', 'sindhu'}\n",
            "union using union(): {2, 4, 6, 8, 'latha', 'sneha', 'sindhu', 'ravinder'}\n",
            "union using|: {3, 4, 5, 6, 7, 8, 'latha', 'sneha', 'sindhu', 'ravinder'}\n",
            "union using|: {1, 2, 3, 4, 5, 6, 'swetha', 'swathi', 'sneha', 'sindhu'}\n",
            "union using|: {3, 4, 5, 6, 7, 8, 'latha', 'sneha', 'sindhu', 'ravinder'}\n"
          ]
        }
      ]
    },
    {
      "cell_type": "code",
      "source": [
        "#intersection\n",
        "print('intersection using &:',a&b)\n",
        "print('intersection using &:',b&c)\n",
        "print('intersection using &:',c&a)\n",
        "print('intersection using &:',d&e)\n",
        "print('intersection using union():',e.union(b))\n"
      ],
      "metadata": {
        "colab": {
          "base_uri": "https://localhost:8080/"
        },
        "id": "d8wAU2Xb6ROO",
        "outputId": "49f9c930-3b30-45a0-8a71-f4faf4aa21df"
      },
      "execution_count": 65,
      "outputs": [
        {
          "output_type": "stream",
          "name": "stdout",
          "text": [
            "intersection using &: {2, 4, 6}\n",
            "intersection using &: set()\n",
            "intersection using &: set()\n",
            "intersection using &: set()\n",
            "intersection using union(): {2, 3, 4, 5, 6, 7, 8}\n"
          ]
        }
      ]
    },
    {
      "cell_type": "code",
      "source": [
        "#difference between two sets\n",
        "print('difference using -:',a-b)\n",
        "print('difference using -:',b-e)\n",
        "print('difference using -:',c-a)\n",
        "print('difference using -:',d-c)\n",
        "print('difference using difference():',e.difference(b))"
      ],
      "metadata": {
        "colab": {
          "base_uri": "https://localhost:8080/"
        },
        "id": "vvlnLf0q7LAt",
        "outputId": "877fdc77-1fce-4f6a-cb98-c9c01d36adbf"
      },
      "execution_count": 67,
      "outputs": [
        {
          "output_type": "stream",
          "name": "stdout",
          "text": [
            "difference using -: {1, 3, 5}\n",
            "difference using -: {2}\n",
            "difference using -: {'latha', 'sneha', 'sindhu', 'ravinder'}\n",
            "difference using -: {'swathi', 'swetha'}\n",
            "difference using difference(): {3, 5, 7}\n"
          ]
        }
      ]
    },
    {
      "cell_type": "code",
      "source": [
        "#set symmetric difference\n",
        "print('using^:',a^b)\n",
        "print('using^:',b^e)\n",
        "print('using^:',c^d)\n",
        "print('using^:',d^b)\n",
        "print('using symmetric_difference',e.symmetric_difference(b))\n"
      ],
      "metadata": {
        "colab": {
          "base_uri": "https://localhost:8080/"
        },
        "id": "wUHfXPoF7vmO",
        "outputId": "6c19c9db-6fb7-45fb-9fa3-4f632cba0cf3"
      },
      "execution_count": 69,
      "outputs": [
        {
          "output_type": "stream",
          "name": "stdout",
          "text": [
            "using^: {1, 3, 5, 8}\n",
            "using^: {2, 3, 5, 7}\n",
            "using^: {'swetha', 'latha', 'swathi', 'ravinder'}\n",
            "using^: {2, 4, 6, 'swetha', 8, 'swathi', 'sneha', 'sindhu'}\n",
            "using symmetric_difference {2, 3, 5, 7}\n"
          ]
        }
      ]
    },
    {
      "cell_type": "code",
      "source": [],
      "metadata": {
        "id": "RZOvIf-b8N7N"
      },
      "execution_count": null,
      "outputs": []
    }
  ]
}