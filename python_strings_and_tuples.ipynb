{
  "nbformat": 4,
  "nbformat_minor": 0,
  "metadata": {
    "colab": {
      "provenance": []
    },
    "kernelspec": {
      "name": "python3",
      "display_name": "Python 3"
    },
    "language_info": {
      "name": "python"
    }
  },
  "cells": [
    {
      "cell_type": "markdown",
      "source": [
        "#python strings"
      ],
      "metadata": {
        "id": "NttDIPL_aGGQ"
      }
    },
    {
      "cell_type": "markdown",
      "source": [
        "##string operation"
      ],
      "metadata": {
        "id": "0mtdpN_qaJtf"
      }
    },
    {
      "cell_type": "code",
      "source": [
        "#concatenation\n",
        "\n",
        "a='my name is sneha'\n",
        "b='i am from madikonda'\n",
        "c='i pursued my btech in ku'\n",
        "d='(6.8)'\n",
        "e='CGPA'\n",
        "f=a+','+b\n",
        "g=c+d+e\n",
        "h=c+d\n",
        "i=a+d+e\n",
        "j=a+\".\"+c\n",
        "print(f)\n",
        "print(g)\n",
        "print(h)\n",
        "print(i)\n",
        "print(j)"
      ],
      "metadata": {
        "colab": {
          "base_uri": "https://localhost:8080/"
        },
        "id": "9wdQdn3oaQ2O",
        "outputId": "7368d854-9ef4-4fec-89cf-6184368b6425"
      },
      "execution_count": 6,
      "outputs": [
        {
          "output_type": "stream",
          "name": "stdout",
          "text": [
            "my name is sneha,i am from madikonda\n",
            "i pursued my btech in ku(6.8)CGPA\n",
            "i pursued my btech in ku(6.8)\n",
            "my name is sneha(6.8)CGPA\n",
            "my name is sneha.i pursued my btech in ku\n"
          ]
        }
      ]
    },
    {
      "cell_type": "code",
      "source": [
        "#repitition\n",
        "a='my name is sneha'\n",
        "b='i am from madikonda'\n",
        "c='i pursued my btech in ku'\n",
        "d='(6.8)'\n",
        "e='CGPA'\n",
        "f=a*3\n",
        "g=b*2\n",
        "h=c*4\n",
        "i=a*10\n",
        "j=a*15\n",
        "print(f)\n",
        "print(g)\n",
        "print(h)\n",
        "print(i)\n",
        "print(j)"
      ],
      "metadata": {
        "colab": {
          "base_uri": "https://localhost:8080/"
        },
        "id": "Jh6Ld3xrc2Je",
        "outputId": "cf95deb7-7b23-469d-974f-072b1e7b0f40"
      },
      "execution_count": 19,
      "outputs": [
        {
          "output_type": "stream",
          "name": "stdout",
          "text": [
            "my name is snehamy name is snehamy name is sneha\n",
            "i am from madikondai am from madikonda\n",
            "i pursued my btech in kui pursued my btech in kui pursued my btech in kui pursued my btech in ku\n",
            "my name is snehamy name is snehamy name is snehamy name is snehamy name is snehamy name is snehamy name is snehamy name is snehamy name is snehamy name is sneha\n",
            "my name is snehamy name is snehamy name is snehamy name is snehamy name is snehamy name is snehamy name is snehamy name is snehamy name is snehamy name is snehamy name is snehamy name is snehamy name is snehamy name is snehamy name is sneha\n"
          ]
        }
      ]
    },
    {
      "cell_type": "code",
      "source": [
        "#indexing\n",
        "a='my name is sneha'\n",
        "b='i am from madikonda'\n",
        "c='i pursued my btech in ku'\n",
        "d='(6.8)'\n",
        "e='CGPA'\n",
        "f=a[3]\n",
        "g=b[-5]\n",
        "h=c[6]\n",
        "i=d[-2]\n",
        "j=e[2]\n",
        "print(f)\n",
        "print(g)\n",
        "print(h)\n",
        "print(i)\n",
        "print(j)"
      ],
      "metadata": {
        "colab": {
          "base_uri": "https://localhost:8080/"
        },
        "id": "W78am87VdPWx",
        "outputId": "34b509a8-c968-4523-9404-196efa1d06e8"
      },
      "execution_count": 9,
      "outputs": [
        {
          "output_type": "stream",
          "name": "stdout",
          "text": [
            "n\n",
            "k\n",
            "u\n",
            "8\n",
            "P\n"
          ]
        }
      ]
    },
    {
      "cell_type": "code",
      "source": [
        "#slicing\n",
        "a='my name is sneha'\n",
        "b='i am from madikonda'\n",
        "c='i pursued my btech in ku'\n",
        "d='(6.8)'\n",
        "e='CGPA'\n",
        "f=a[3:9]\n",
        "g=b[-9:]\n",
        "h=c[13:19]\n",
        "i=d[-2:-1]\n",
        "j=e[2:7]\n",
        "print(f)\n",
        "print(g)\n",
        "print(h)\n",
        "print(i)\n",
        "print(j)"
      ],
      "metadata": {
        "colab": {
          "base_uri": "https://localhost:8080/"
        },
        "id": "o3uD8_cdeU8M",
        "outputId": "01d4b69a-d22f-4d31-d254-dd3389f1c791"
      },
      "execution_count": 16,
      "outputs": [
        {
          "output_type": "stream",
          "name": "stdout",
          "text": [
            "name i\n",
            "madikonda\n",
            "btech \n",
            "8\n",
            "PA\n"
          ]
        }
      ]
    },
    {
      "cell_type": "markdown",
      "source": [
        "##python format strings"
      ],
      "metadata": {
        "id": "Paywl_3N8R29"
      }
    },
    {
      "cell_type": "code",
      "source": [
        "#%operant\n",
        "a=\"home\"\n",
        "place=\"hyderabad\"\n",
        "_1=2\n",
        "_2=4\n",
        "_3=1475\n",
        "p_f_s=\"python_format_strings\"\n",
        "_4=491.6\n",
        "f_s1='iam coming to %s in %d days'%(a,_1)\n",
        "f_s2='%s are %d types '%(p_f_s,_2)\n",
        "f_s3='total bill is %d each one have to pay %f'%(_3,_4)\n",
        "print(f_s1)\n",
        "print(f_s2)\n",
        "print(f_s3)\n"
      ],
      "metadata": {
        "colab": {
          "base_uri": "https://localhost:8080/"
        },
        "id": "g-k5J8N28W6m",
        "outputId": "0bdb4a96-a19e-4856-def4-40dbd6679897"
      },
      "execution_count": 16,
      "outputs": [
        {
          "output_type": "stream",
          "name": "stdout",
          "text": [
            "iam coming to home in 2 days\n",
            "python_format_strings are 4 types \n",
            "total bill is 1475 each one have to pay 491.600000\n"
          ]
        }
      ]
    },
    {
      "cell_type": "code",
      "source": [
        "#format method{}\n",
        "f_m='welcome to {}.it is nearly {} years to see you'.format(place,_2)\n",
        "f_m1='iam coming to {} in {} days'.format(a,_1)\n",
        "f_m2='{} are {} types '.format(p_f_s,_2)\n",
        "print(f_m)\n",
        "print(f_m1)\n",
        "print(f_m2)"
      ],
      "metadata": {
        "colab": {
          "base_uri": "https://localhost:8080/"
        },
        "id": "CaiVHazD8zVn",
        "outputId": "75c06ec4-edd4-40ab-bb26-4efd474f5b1c"
      },
      "execution_count": 17,
      "outputs": [
        {
          "output_type": "stream",
          "name": "stdout",
          "text": [
            "welcome to hyderabad.it is nearly 4 years to see you\n",
            "iam coming to home in 2 days\n",
            "python_format_strings are 4 types \n"
          ]
        }
      ]
    },
    {
      "cell_type": "code",
      "source": [
        "#string interpolation(f_strings)\n",
        "\n",
        "f_strings=f\"welcome to {place}.it is nearly {_2} years to see you.\"\n",
        "f_strings1=f'iam coming to {a} in {_1} days'\n",
        "f_strings2=f'{p_f_s} are {_2} types '\n",
        "print(f_strings)\n",
        "print(f_strings1)\n",
        "print(f_strings2)"
      ],
      "metadata": {
        "colab": {
          "base_uri": "https://localhost:8080/"
        },
        "id": "2jsTJxJq8tnp",
        "outputId": "f5b32ae2-1414-4295-c40d-651832e21d43"
      },
      "execution_count": 18,
      "outputs": [
        {
          "output_type": "stream",
          "name": "stdout",
          "text": [
            "welcome to hyderabad.it is nearly 4 years to see you.\n",
            "iam coming to home in 2 days\n",
            "python_format_strings are 4 types \n"
          ]
        }
      ]
    },
    {
      "cell_type": "markdown",
      "source": [
        "##strings methods"
      ],
      "metadata": {
        "id": "dQt3xrstfkGM"
      }
    },
    {
      "cell_type": "code",
      "source": [
        "a='my name is sneha'\n",
        "b='i am from madikonda'\n",
        "c='i pursued my btech in ku'\n",
        "d='(6.8)'\n",
        "e='CGPA'\n",
        "g='h\\ta\\ti'\n",
        "f=\"sneha\",\"sindhu\"\n",
        "_1=len(a)       #len(length of a string)\n",
        "_2=a.upper()    #upper case (converts to upper value)\n",
        "_3=e.lower()     #loweer case (converts to lower value)\n",
        "_4=c.title()     #title(converts starting letter to capital)\n",
        "_5=d.center(9)     #center(return the string to center)\n",
        "_6=b.count('a')    #count(returns specified value of count )\n",
        "_7=a.encode()    #encode(returns encoded version of a string)\n",
        "_8=c.endswith('ku')    #returnd true if ends with specified value\n",
        "_9=d.expandtabs(5)     #set the tab size of a string\n",
        "_10=a.find('sneha')     #find/inser find the position\n",
        "_11=c.index('ku')\n",
        "_12=c.format(i=9)      #format specified values\n",
        "_13=c.isalnum()      #returns true if all are alpha numeric\n",
        "_14=a.isalpha()     #returns true if string is alphabet\n",
        "_15=d.isdecimal()    ##returns true if string is decimal\n",
        "_16=d.isdigit()       #returns true if string is digit\n",
        "_17=c.isidentifier()    #returns true if string is identifier\n",
        "_18=a.islower()      #returns true if string is identifier\n",
        "_19=d.isnumeric()     #returns true if string is numeric\n",
        "_20=c.isprintable()    #returns true if string is printable\n",
        "_21=e.isspace()      #returns true if string is whitespaces\n",
        "_22=c.istitle()    #returns true if string is title\n",
        "_23=b.isupper()    #returns true if string is upper\n",
        "_24='/'.join('f')    #converts elements to iterable into a string\n",
        "_25=d.ljust(5)    #returns a left justified version\n",
        "_26=a.partition('name') #parted into three parts\n",
        "_27=c.replace('btech','btech_cse')    #replaced with a specified value\n",
        "_28=d.split()    #split the list into list\n",
        "_29=','.join(f)   #joins to single string\n",
        "print(_1)\n",
        "print(_2)\n",
        "print(_3)\n",
        "print(_4)\n",
        "print(_5)\n",
        "print(_6)\n",
        "print(_7)\n",
        "print(_8)\n",
        "print(_9)\n",
        "print(_10)\n",
        "print(_11)\n",
        "print(_12)\n",
        "print(_13)\n",
        "print(_14)\n",
        "print(_15)\n",
        "print(_16)\n",
        "print(_17)\n",
        "print(_18)\n",
        "print(_19)\n",
        "print(_20)\n",
        "print(_21)\n",
        "print(_22)\n",
        "print(_23)\n",
        "print(_24)\n",
        "print(_25,\"CGPA\")\n",
        "print(_26)\n",
        "print(_27)\n",
        "print(_28)\n",
        "print(_29)\n"
      ],
      "metadata": {
        "colab": {
          "base_uri": "https://localhost:8080/"
        },
        "id": "esbJxP_BenZw",
        "outputId": "ad65da90-1dde-484e-a889-e1ac6bc893fc"
      },
      "execution_count": 35,
      "outputs": [
        {
          "output_type": "stream",
          "name": "stdout",
          "text": [
            "16\n",
            "MY NAME IS SNEHA\n",
            "cgpa\n",
            "I Pursued My Btech In Ku\n",
            "  (6.8)  \n",
            "3\n",
            "b'my name is sneha'\n",
            "True\n",
            "(6.8)\n",
            "11\n",
            "22\n",
            "i pursued my btech in ku\n",
            "False\n",
            "False\n",
            "False\n",
            "False\n",
            "False\n",
            "True\n",
            "False\n",
            "True\n",
            "False\n",
            "False\n",
            "False\n",
            "f\n",
            "(6.8) CGPA\n",
            "('my ', 'name', ' is sneha')\n",
            "i pursued my btech_cse in ku\n",
            "['(6.8)']\n",
            "sneha,sindhu\n"
          ]
        }
      ]
    },
    {
      "cell_type": "markdown",
      "source": [
        "#python tuples"
      ],
      "metadata": {
        "id": "zqSjea3QvuRX"
      }
    },
    {
      "cell_type": "markdown",
      "source": [
        "##creating tuple\n"
      ],
      "metadata": {
        "id": "yXoKuP3UvzE1"
      }
    },
    {
      "cell_type": "code",
      "source": [
        "vegetables=('potato','brinjal','tomato')\n",
        "fruits=('grapes','orange','banana','apple','mango')\n",
        "datatypes=(\"list\",\"tuple\",\"string\",\"set\",\"dictonary\")\n",
        "digits=(1,2,3,4,5,6,7,8,9,0)\n",
        "names=('sneha','swetha','lavanya')\n",
        "print(vegetables)\n",
        "print(fruits)\n",
        "print(datatypes)\n",
        "print(digits)\n",
        "print(names)\n",
        "print(type(vegetables))\n",
        "print(type(fruits))\n",
        "print(type(datatypes))\n",
        "print(type(digits))\n",
        "print(type(names))\n",
        "\n",
        "\n",
        "\n",
        "\n"
      ],
      "metadata": {
        "colab": {
          "base_uri": "https://localhost:8080/"
        },
        "id": "10rfUtqpnEhC",
        "outputId": "6291d6e3-6b19-46b6-e3be-9bacfa832c85"
      },
      "execution_count": 1,
      "outputs": [
        {
          "output_type": "stream",
          "name": "stdout",
          "text": [
            "('potato', 'brinjal', 'tomato')\n",
            "('grapes', 'orange', 'banana', 'apple', 'mango')\n",
            "('list', 'tuple', 'string', 'set', 'dictonary')\n",
            "(1, 2, 3, 4, 5, 6, 7, 8, 9, 0)\n",
            "('sneha', 'swetha', 'lavanya')\n",
            "<class 'tuple'>\n",
            "<class 'tuple'>\n",
            "<class 'tuple'>\n",
            "<class 'tuple'>\n",
            "<class 'tuple'>\n"
          ]
        }
      ]
    },
    {
      "cell_type": "markdown",
      "source": [
        "##accesing tuple"
      ],
      "metadata": {
        "id": "WFKhg2-jx3Fi"
      }
    },
    {
      "cell_type": "code",
      "source": [
        "vegetables=('potato','brinjal','tomato')\n",
        "fruits=('grapes','orange','banana','apple','mango')\n",
        "datatypes=(\"list\",\"tuple\",\"string\",\"set\",\"dictonary\")\n",
        "digits=(1,2,3,4,5,6,7,8,9,0)\n",
        "names=('sneha','swetha','lavanya')\n",
        "                      #indexing\n",
        "print(vegetables[2])\n",
        "print(fruits[-2])\n",
        "print(datatypes[4])\n",
        "print(digits[9])\n",
        "print(names[0])\n",
        "print('.................')\n",
        "                  #slicing\n",
        "print(vegetables[2:3])\n",
        "print(fruits[-2:])\n",
        "print(datatypes[3:4])\n",
        "print(digits[6:9])\n",
        "print(names[0:2])\n"
      ],
      "metadata": {
        "colab": {
          "base_uri": "https://localhost:8080/"
        },
        "id": "1xuX1Ah6xk5V",
        "outputId": "b4ff84fa-a544-4aaf-8a48-2c2bd4001c56"
      },
      "execution_count": 4,
      "outputs": [
        {
          "output_type": "stream",
          "name": "stdout",
          "text": [
            "tomato\n",
            "apple\n",
            "dictonary\n",
            "0\n",
            "sneha\n",
            ".................\n",
            "('tomato',)\n",
            "('apple', 'mango')\n",
            "('set',)\n",
            "(7, 8, 9)\n",
            "('sneha', 'swetha')\n"
          ]
        }
      ]
    },
    {
      "cell_type": "markdown",
      "source": [
        "##immutability"
      ],
      "metadata": {
        "id": "UvqeAZZPzLvr"
      }
    },
    {
      "cell_type": "code",
      "source": [
        "datatypes=(\"list\",\"tuple\",\"string\",\"set\",\"dictonary\")\n",
        "digits=(1,2,3,4,5,6,7,8,9,0)\n",
        "names=('sneha','swetha','lavanya')\n",
        "datatypes[set]='list'"
      ],
      "metadata": {
        "colab": {
          "base_uri": "https://localhost:8080/",
          "height": 176
        },
        "id": "8In22S-my6Gy",
        "outputId": "2bdbf8bc-632b-4d5c-c07a-1856caea6035"
      },
      "execution_count": 5,
      "outputs": [
        {
          "output_type": "error",
          "ename": "TypeError",
          "evalue": "'tuple' object does not support item assignment",
          "traceback": [
            "\u001b[0;31m---------------------------------------------------------------------------\u001b[0m",
            "\u001b[0;31mTypeError\u001b[0m                                 Traceback (most recent call last)",
            "\u001b[0;32m<ipython-input-5-f2bf4e4a3bb4>\u001b[0m in \u001b[0;36m<cell line: 4>\u001b[0;34m()\u001b[0m\n\u001b[1;32m      2\u001b[0m \u001b[0mdigits\u001b[0m\u001b[0;34m=\u001b[0m\u001b[0;34m(\u001b[0m\u001b[0;36m1\u001b[0m\u001b[0;34m,\u001b[0m\u001b[0;36m2\u001b[0m\u001b[0;34m,\u001b[0m\u001b[0;36m3\u001b[0m\u001b[0;34m,\u001b[0m\u001b[0;36m4\u001b[0m\u001b[0;34m,\u001b[0m\u001b[0;36m5\u001b[0m\u001b[0;34m,\u001b[0m\u001b[0;36m6\u001b[0m\u001b[0;34m,\u001b[0m\u001b[0;36m7\u001b[0m\u001b[0;34m,\u001b[0m\u001b[0;36m8\u001b[0m\u001b[0;34m,\u001b[0m\u001b[0;36m9\u001b[0m\u001b[0;34m,\u001b[0m\u001b[0;36m0\u001b[0m\u001b[0;34m)\u001b[0m\u001b[0;34m\u001b[0m\u001b[0;34m\u001b[0m\u001b[0m\n\u001b[1;32m      3\u001b[0m \u001b[0mnames\u001b[0m\u001b[0;34m=\u001b[0m\u001b[0;34m(\u001b[0m\u001b[0;34m'sneha'\u001b[0m\u001b[0;34m,\u001b[0m\u001b[0;34m'swetha'\u001b[0m\u001b[0;34m,\u001b[0m\u001b[0;34m'lavanya'\u001b[0m\u001b[0;34m)\u001b[0m\u001b[0;34m\u001b[0m\u001b[0;34m\u001b[0m\u001b[0m\n\u001b[0;32m----> 4\u001b[0;31m \u001b[0mdatatypes\u001b[0m\u001b[0;34m[\u001b[0m\u001b[0mset\u001b[0m\u001b[0;34m]\u001b[0m\u001b[0;34m=\u001b[0m\u001b[0;34m'list'\u001b[0m\u001b[0;34m\u001b[0m\u001b[0;34m\u001b[0m\u001b[0m\n\u001b[0m",
            "\u001b[0;31mTypeError\u001b[0m: 'tuple' object does not support item assignment"
          ]
        }
      ]
    },
    {
      "cell_type": "markdown",
      "source": [
        "##tuple operations"
      ],
      "metadata": {
        "id": "elSiQ88nz5eb"
      }
    },
    {
      "cell_type": "code",
      "source": [
        "                     #concatination\n",
        "vegetables=('potato','brinjal','tomato')\n",
        "fruits=('grapes','orange','banana','apple','mango')\n",
        "datatypes=(\"list\",\"tuple\",\"string\",\"set\",\"dictonary\")\n",
        "digits=(1,2,3,4,5,6,7,8,9,0)\n",
        "names=('sneha','swetha','lavanya')\n",
        "a=vegetables+fruits\n",
        "b=fruits+datatypes\n",
        "c=datatypes+names\n",
        "d=digits+names\n",
        "e=fruits+digits\n",
        "print(a)\n",
        "print(b)\n",
        "print(c)\n",
        "print(d)\n",
        "print(e)\n",
        "\n"
      ],
      "metadata": {
        "colab": {
          "base_uri": "https://localhost:8080/"
        },
        "id": "XECgWDaEzrju",
        "outputId": "40ede84e-7085-44ca-b3b8-88a675edafd6"
      },
      "execution_count": 7,
      "outputs": [
        {
          "output_type": "stream",
          "name": "stdout",
          "text": [
            "('potato', 'brinjal', 'tomato', 'grapes', 'orange', 'banana', 'apple', 'mango')\n",
            "('grapes', 'orange', 'banana', 'apple', 'mango', 'list', 'tuple', 'string', 'set', 'dictonary')\n",
            "('list', 'tuple', 'string', 'set', 'dictonary', 'sneha', 'swetha', 'lavanya')\n",
            "(1, 2, 3, 4, 5, 6, 7, 8, 9, 0, 'sneha', 'swetha', 'lavanya')\n",
            "('grapes', 'orange', 'banana', 'apple', 'mango', 1, 2, 3, 4, 5, 6, 7, 8, 9, 0)\n"
          ]
        }
      ]
    },
    {
      "cell_type": "code",
      "source": [
        "#repetition\n",
        "vegetables=('potato','brinjal','tomato')\n",
        "fruits=('grapes','orange','banana','apple','mango')\n",
        "datatypes=(\"list\",\"tuple\",\"string\",\"set\",\"dictonary\")\n",
        "digits=(1,2,3,4,5,6,7,8,9,0)\n",
        "names=('sneha','swetha','lavanya')\n",
        "a=vegetables*3\n",
        "b=fruits*2\n",
        "c=datatypes*5\n",
        "d=digits*1\n",
        "e=names*2\n",
        "print(a)\n",
        "print(b)\n",
        "print(c)\n",
        "print(d)\n",
        "print(e)\n"
      ],
      "metadata": {
        "colab": {
          "base_uri": "https://localhost:8080/"
        },
        "id": "ka4mYPZY0OaT",
        "outputId": "def1bbe3-fb91-4c5b-8556-b8369c3a318a"
      },
      "execution_count": 8,
      "outputs": [
        {
          "output_type": "stream",
          "name": "stdout",
          "text": [
            "('potato', 'brinjal', 'tomato', 'potato', 'brinjal', 'tomato', 'potato', 'brinjal', 'tomato')\n",
            "('grapes', 'orange', 'banana', 'apple', 'mango', 'grapes', 'orange', 'banana', 'apple', 'mango')\n",
            "('list', 'tuple', 'string', 'set', 'dictonary', 'list', 'tuple', 'string', 'set', 'dictonary', 'list', 'tuple', 'string', 'set', 'dictonary', 'list', 'tuple', 'string', 'set', 'dictonary', 'list', 'tuple', 'string', 'set', 'dictonary')\n",
            "(1, 2, 3, 4, 5, 6, 7, 8, 9, 0)\n",
            "('sneha', 'swetha', 'lavanya', 'sneha', 'swetha', 'lavanya')\n"
          ]
        }
      ]
    },
    {
      "cell_type": "markdown",
      "source": [
        "##tuple methods"
      ],
      "metadata": {
        "id": "Pdl-hhm05whh"
      }
    },
    {
      "cell_type": "code",
      "source": [
        "#count()\n",
        "vegetables=('potato','brinjal','tomato','potato')\n",
        "fruits=('grapes','orange','banana','apple','mango',\"grapes\",\"orange\",\"grapes\")\n",
        "datatypes=(\"list\",\"tuple\",\"string\",\"set\",\"dictonary\",\"list\",\"list\")\n",
        "digits=(1,2,3,4,5,6,7,8,9,0,4,5,7,4,2,4)\n",
        "names=('sneha','swetha','lavanya','swetha')\n",
        "a=vegetables.count('potato')\n",
        "b=fruits.count('grapes')\n",
        "c=datatypes.count('list')\n",
        "d=digits.count(4)\n",
        "e=names.count('swetha')\n",
        "print(a)\n",
        "print(b)\n",
        "print(c)\n",
        "print(d)\n",
        "print(e)"
      ],
      "metadata": {
        "colab": {
          "base_uri": "https://localhost:8080/"
        },
        "id": "9l0hWPaH1EWk",
        "outputId": "3b900450-5ba2-44b8-fe0d-b56b000ef947"
      },
      "execution_count": 13,
      "outputs": [
        {
          "output_type": "stream",
          "name": "stdout",
          "text": [
            "2\n",
            "3\n",
            "3\n",
            "4\n",
            "2\n"
          ]
        }
      ]
    },
    {
      "cell_type": "code",
      "source": [
        "#index()\n",
        "vegetables=('potato','brinjal','tomato','potato')\n",
        "fruits=('grapes','orange','banana','apple','mango',\"grapes\",\"orange\",\"grapes\")\n",
        "datatypes=(\"list\",\"tuple\",\"string\",\"set\",\"dictonary\",\"list\",\"list\")\n",
        "digits=(1,2,3,4,5,6,7,8,9,0,4,5,7,4,2,4)\n",
        "names=('sneha','swetha','lavanya','swetha')\n",
        "a=vegetables.index('potato')\n",
        "b=fruits.index('grapes')\n",
        "c=datatypes.index('list')\n",
        "d=digits.index(4)\n",
        "e=names.index('swetha')\n",
        "print(a)\n",
        "print(b)\n",
        "print(c)\n",
        "print(d)\n",
        "print(e)"
      ],
      "metadata": {
        "colab": {
          "base_uri": "https://localhost:8080/"
        },
        "id": "Xsm-8k1G6a3V",
        "outputId": "e3728128-ff4c-40bc-f420-719c3c1b30ad"
      },
      "execution_count": 14,
      "outputs": [
        {
          "output_type": "stream",
          "name": "stdout",
          "text": [
            "0\n",
            "0\n",
            "0\n",
            "3\n",
            "1\n"
          ]
        }
      ]
    },
    {
      "cell_type": "code",
      "source": [],
      "metadata": {
        "id": "xEk1eiVL7bK9"
      },
      "execution_count": null,
      "outputs": []
    }
  ]
}