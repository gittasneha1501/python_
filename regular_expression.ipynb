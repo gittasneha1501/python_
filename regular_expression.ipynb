{
  "nbformat": 4,
  "nbformat_minor": 0,
  "metadata": {
    "colab": {
      "provenance": []
    },
    "kernelspec": {
      "name": "python3",
      "display_name": "Python 3"
    },
    "language_info": {
      "name": "python"
    }
  },
  "cells": [
    {
      "cell_type": "markdown",
      "source": [
        "#regular expressions"
      ],
      "metadata": {
        "id": "Q7DDpxdAuRSc"
      }
    },
    {
      "cell_type": "code",
      "execution_count": 5,
      "metadata": {
        "colab": {
          "base_uri": "https://localhost:8080/"
        },
        "id": "tOUVoBeBuOKN",
        "outputId": "b3534912-b3a2-40ab-8245-a98bc2caeefe"
      },
      "outputs": [
        {
          "output_type": "stream",
          "name": "stdout",
          "text": [
            "['n', 'n', 'n']\n"
          ]
        }
      ],
      "source": [
        "#findall()\n",
        "import re\n",
        "wishes='good morning have a nice day!'\n",
        "x=re.findall('n',wishes)\n",
        "print(x)"
      ]
    },
    {
      "cell_type": "code",
      "source": [
        "#search()\n",
        "import re\n",
        "wishes='good morning have a nice day!'\n",
        "x=re.search('\\s',wishes)\n",
        "print('the first space position:',x.start())"
      ],
      "metadata": {
        "colab": {
          "base_uri": "https://localhost:8080/"
        },
        "id": "wGqvHjgWvAH_",
        "outputId": "33f16c1f-5139-43de-899e-7b793c2c5de3"
      },
      "execution_count": 7,
      "outputs": [
        {
          "output_type": "stream",
          "name": "stdout",
          "text": [
            "the first space position: 4\n"
          ]
        }
      ]
    },
    {
      "cell_type": "code",
      "source": [
        "#split()\n",
        "import re\n",
        "wishes='good morning have a nice day!'\n",
        "x=re.split('\\s',wishes)\n",
        "print(x)"
      ],
      "metadata": {
        "colab": {
          "base_uri": "https://localhost:8080/"
        },
        "id": "clNbnQTbvyef",
        "outputId": "bd0d0fff-6c86-473e-91d0-216e3d431211"
      },
      "execution_count": 16,
      "outputs": [
        {
          "output_type": "stream",
          "name": "stdout",
          "text": [
            "['good', 'morning', 'have', 'a', 'nice', 'day!']\n"
          ]
        }
      ]
    },
    {
      "cell_type": "code",
      "source": [
        "#sub()\n",
        "import re\n",
        "wishes='good morning have a nice day!'\n",
        "x=re.sub('\\s','.....',wishes,5)\n",
        "print(x)"
      ],
      "metadata": {
        "colab": {
          "base_uri": "https://localhost:8080/"
        },
        "id": "ZWMu77tRwB3R",
        "outputId": "94a99568-fa92-4f19-b5f5-e51dae8136c1"
      },
      "execution_count": 24,
      "outputs": [
        {
          "output_type": "stream",
          "name": "stdout",
          "text": [
            "good.....morning.....have.....a.....nice.....day!\n"
          ]
        }
      ]
    },
    {
      "cell_type": "markdown",
      "source": [
        "#literal characterstics"
      ],
      "metadata": {
        "id": "Tn226R5Vw9h4"
      }
    },
    {
      "cell_type": "code",
      "source": [
        "import re\n",
        "pattern=re.compile(r'hi')\n",
        "match=pattern.search('hi good morning!')\n",
        "if match:\n",
        "  print('match found:',match.group())\n",
        "else:\n",
        "  print('not found')"
      ],
      "metadata": {
        "colab": {
          "base_uri": "https://localhost:8080/"
        },
        "id": "yUBg8K3awir_",
        "outputId": "3191446e-26bd-4644-c6db-90d3101027d8"
      },
      "execution_count": 25,
      "outputs": [
        {
          "output_type": "stream",
          "name": "stdout",
          "text": [
            "match found: hi\n"
          ]
        }
      ]
    },
    {
      "cell_type": "markdown",
      "source": [
        "#dot (.)wild card"
      ],
      "metadata": {
        "id": "bAL6URU0xull"
      }
    },
    {
      "cell_type": "code",
      "source": [
        "import re\n",
        "pattern=re.compile(r'a..a')\n",
        "match=pattern.search('ant,axe,area,')\n",
        "if match:\n",
        "  print('match found:',match.group())\n",
        "else:\n",
        "  print('not found')"
      ],
      "metadata": {
        "colab": {
          "base_uri": "https://localhost:8080/"
        },
        "id": "gnM0KJmKxsQw",
        "outputId": "2cb1c54c-b19f-464b-9af5-a50224a9d9e1"
      },
      "execution_count": 27,
      "outputs": [
        {
          "output_type": "stream",
          "name": "stdout",
          "text": [
            "match found: area\n"
          ]
        }
      ]
    },
    {
      "cell_type": "markdown",
      "source": [
        "#character classes"
      ],
      "metadata": {
        "id": "hCVl82SSyjrt"
      }
    },
    {
      "cell_type": "code",
      "source": [
        "import re\n",
        "pattern=re.compile(r'[won]')\n",
        "match=pattern.search('hi good morning!')  #any single character in[]\n",
        "if match:\n",
        "  print('match found:',match.group())\n",
        "else:\n",
        "  print('not found')"
      ],
      "metadata": {
        "colab": {
          "base_uri": "https://localhost:8080/"
        },
        "id": "FhHCOE5mye4Z",
        "outputId": "888dfc24-28fc-4e45-9038-12e3b65c3f90"
      },
      "execution_count": 32,
      "outputs": [
        {
          "output_type": "stream",
          "name": "stdout",
          "text": [
            "match found: o\n"
          ]
        }
      ]
    },
    {
      "cell_type": "code",
      "source": [],
      "metadata": {
        "id": "Y-lucb-Ayyv9"
      },
      "execution_count": null,
      "outputs": []
    }
  ]
}