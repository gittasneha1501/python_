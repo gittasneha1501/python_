{
  "nbformat": 4,
  "nbformat_minor": 0,
  "metadata": {
    "colab": {
      "provenance": []
    },
    "kernelspec": {
      "name": "python3",
      "display_name": "Python 3"
    },
    "language_info": {
      "name": "python"
    }
  },
  "cells": [
    {
      "cell_type": "code",
      "execution_count": null,
      "metadata": {
        "colab": {
          "base_uri": "https://localhost:8080/"
        },
        "id": "FbcMASBY17JE",
        "outputId": "b8dcc848-0350-4e3f-bf29-04a341b1c926"
      },
      "outputs": [
        {
          "output_type": "stream",
          "name": "stdout",
          "text": [
            "7.0\n",
            "<class 'int'>\n"
          ]
        }
      ],
      "source": [
        "#VALID VARIABLES\n",
        "a=5\n",
        "b=7\n",
        "c=a+b\n",
        "#int covert to float\n",
        "d=float(b)\n",
        "print(d)\n",
        "print(type(a))"
      ]
    },
    {
      "cell_type": "code",
      "source": [
        "from re import I\n",
        "#valid variable\n",
        "_x=2\n",
        "_y=10\n",
        "#variable starts with underscore\n",
        "z=_y*_x\n",
        "print(z)\n",
        "#intconvert to complex\n",
        "q=complex(_x)\n",
        "print(q)\n",
        "print(type(_y))\n",
        "print(type(_x))\n",
        "print(type(q))\n"
      ],
      "metadata": {
        "colab": {
          "base_uri": "https://localhost:8080/"
        },
        "id": "_m52J1Or2VKi",
        "outputId": "a2593cf9-3c19-4f60-bc39-32f58fb472fa"
      },
      "execution_count": null,
      "outputs": [
        {
          "output_type": "stream",
          "name": "stdout",
          "text": [
            "20\n",
            "(2+0j)\n",
            "<class 'int'>\n",
            "<class 'int'>\n",
            "<class 'complex'>\n"
          ]
        }
      ]
    },
    {
      "cell_type": "code",
      "source": [
        "#valid variable\n",
        "p=5.2\n",
        "q=10.2\n",
        "print(q>p)\n",
        "#convert float to complex\n",
        "r=p+complex(q)\n",
        "print(r)\n",
        "print(type(r))"
      ],
      "metadata": {
        "colab": {
          "base_uri": "https://localhost:8080/"
        },
        "id": "KloE40gN7swT",
        "outputId": "905e5da4-5c83-4ee0-b19b-1f8daccf2c4b"
      },
      "execution_count": null,
      "outputs": [
        {
          "output_type": "stream",
          "name": "stdout",
          "text": [
            "True\n",
            "(15.399999999999999+0j)\n",
            "<class 'complex'>\n"
          ]
        }
      ]
    },
    {
      "cell_type": "code",
      "source": [
        "#VALID VARIABLE containing alpha numeric character\n",
        "Sneha=22\n",
        "Arun_=22\n",
        "x=Sneha/Arun_\n",
        "print(x)\n",
        "print(type(x))"
      ],
      "metadata": {
        "colab": {
          "base_uri": "https://localhost:8080/"
        },
        "id": "ROUN0ure8L-D",
        "outputId": "e0d95dd7-2f43-4d51-f160-8a11a6ee44e4"
      },
      "execution_count": null,
      "outputs": [
        {
          "output_type": "stream",
          "name": "stdout",
          "text": [
            "1.0\n",
            "<class 'float'>\n"
          ]
        }
      ]
    },
    {
      "cell_type": "code",
      "source": [
        "# valid variable\n",
        "x=2\n",
        "y=5\n",
        "z=x**y\n",
        "print(z)\n",
        "#convert int to float\n",
        "a=float(x)\n",
        "print(a)\n",
        "print(type(z))"
      ],
      "metadata": {
        "colab": {
          "base_uri": "https://localhost:8080/"
        },
        "id": "V-6LpU348wo2",
        "outputId": "ba93cab7-bf7d-4170-de7c-3318813dec54"
      },
      "execution_count": null,
      "outputs": [
        {
          "output_type": "stream",
          "name": "stdout",
          "text": [
            "32\n",
            "2.0\n",
            "<class 'int'>\n"
          ]
        }
      ]
    },
    {
      "cell_type": "code",
      "source": [
        "#valid variable\n",
        "a=5\n",
        "b=9\n",
        "c=a-b\n",
        "print(c)\n",
        "#convert int to complex\n",
        "d=b+complex(c)\n",
        "print(d)\n",
        "print(type(d))"
      ],
      "metadata": {
        "colab": {
          "base_uri": "https://localhost:8080/"
        },
        "id": "skeeqX3K9EKI",
        "outputId": "c61afabb-101d-4f09-8241-f925ff73b1d4"
      },
      "execution_count": null,
      "outputs": [
        {
          "output_type": "stream",
          "name": "stdout",
          "text": [
            "-4\n",
            "(5+0j)\n",
            "<class 'complex'>\n"
          ]
        }
      ]
    },
    {
      "cell_type": "code",
      "source": [
        "#valid variable\n",
        "a=10\n",
        "print(bool(a))\n",
        "print(type(a))"
      ],
      "metadata": {
        "colab": {
          "base_uri": "https://localhost:8080/"
        },
        "id": "TTdPN1Za9jRx",
        "outputId": "874557df-2a87-4457-d829-077d80b062ce"
      },
      "execution_count": null,
      "outputs": [
        {
          "output_type": "stream",
          "name": "stdout",
          "text": [
            "True\n",
            "<class 'int'>\n"
          ]
        }
      ]
    },
    {
      "cell_type": "code",
      "source": [
        "#valid variable with alpha numeric character\n",
        "sneha=22\n",
        "sindhu=19\n",
        "b=sneha%sindhu\n",
        "print(b)"
      ],
      "metadata": {
        "colab": {
          "base_uri": "https://localhost:8080/"
        },
        "id": "AXMBFaWR9w89",
        "outputId": "45b5e22f-9bee-4efc-a10e-5e95ddb8d81a"
      },
      "execution_count": null,
      "outputs": [
        {
          "output_type": "stream",
          "name": "stdout",
          "text": [
            "3\n"
          ]
        }
      ]
    },
    {
      "cell_type": "code",
      "source": [
        "#valid variable\n",
        "p=5\n",
        "q=10\n",
        "r=p*q\n",
        "print(r)\n",
        "print(type(r))\n"
      ],
      "metadata": {
        "colab": {
          "base_uri": "https://localhost:8080/"
        },
        "id": "BC4Oe3Uc94VP",
        "outputId": "2012eeb9-d139-477b-ee94-70fd0b63334d"
      },
      "execution_count": null,
      "outputs": [
        {
          "output_type": "stream",
          "name": "stdout",
          "text": [
            "50\n",
            "<class 'int'>\n"
          ]
        }
      ]
    },
    {
      "cell_type": "code",
      "source": [
        "#valid variable\n",
        "u=9\n",
        "v=2\n",
        "w=u**v\n",
        "print(w)\n",
        "#convert int into float\n",
        "z=w+float(u)\n",
        "print(z)"
      ],
      "metadata": {
        "colab": {
          "base_uri": "https://localhost:8080/"
        },
        "id": "ROm9lcHN9_GG",
        "outputId": "9c369729-41e2-4835-a092-5cd2899166f6"
      },
      "execution_count": null,
      "outputs": [
        {
          "output_type": "stream",
          "name": "stdout",
          "text": [
            "81\n",
            "90.0\n"
          ]
        }
      ]
    },
    {
      "cell_type": "code",
      "source": [],
      "metadata": {
        "id": "WrL_tT6i-Z4y"
      },
      "execution_count": null,
      "outputs": []
    }
  ]
}