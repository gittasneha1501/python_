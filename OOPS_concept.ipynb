{
  "nbformat": 4,
  "nbformat_minor": 0,
  "metadata": {
    "colab": {
      "provenance": []
    },
    "kernelspec": {
      "name": "python3",
      "display_name": "Python 3"
    },
    "language_info": {
      "name": "python"
    }
  },
  "cells": [
    {
      "cell_type": "markdown",
      "source": [
        "#class"
      ],
      "metadata": {
        "id": "Y59FIHE5_1a6"
      }
    },
    {
      "cell_type": "code",
      "execution_count": 4,
      "metadata": {
        "colab": {
          "base_uri": "https://localhost:8080/"
        },
        "id": "cDTGP3Ir_iCJ",
        "outputId": "1a47a181-1a67-456c-af24-c3734a2d00d8"
      },
      "outputs": [
        {
          "output_type": "stream",
          "name": "stdout",
          "text": [
            "<class '__main__.sneha'>\n"
          ]
        }
      ],
      "source": [
        "class sneha:\n",
        "  age=22\n",
        "  print(sneha)"
      ]
    },
    {
      "cell_type": "markdown",
      "source": [
        "#object"
      ],
      "metadata": {
        "id": "Gshwuj55Asm9"
      }
    },
    {
      "cell_type": "code",
      "source": [
        "object=sneha()\n",
        "print(object.age)"
      ],
      "metadata": {
        "colab": {
          "base_uri": "https://localhost:8080/"
        },
        "id": "_1ADe_PfABlW",
        "outputId": "38ace358-0b81-4e92-f8c3-af4e67209dbb"
      },
      "execution_count": 8,
      "outputs": [
        {
          "output_type": "stream",
          "name": "stdout",
          "text": [
            "22\n"
          ]
        }
      ]
    },
    {
      "cell_type": "code",
      "source": [
        "#class and object method\n",
        "\n",
        "class person:\n",
        "  def __init__(self,name,age):\n",
        "    self.name=name\n",
        "    self.age=age\n",
        "  def wish(self):\n",
        "    print('hi!good morning')\n",
        "person1=person('sneha',22)\n",
        "person2=person('sindhu',19)\n",
        "print(f'{person1.name} is {person1.age} years old')\n",
        "print(f'{person2.name} is {person2.age} years old')\n",
        "person1.wish()\n",
        "person2.wish()"
      ],
      "metadata": {
        "colab": {
          "base_uri": "https://localhost:8080/"
        },
        "id": "ksTgF4ltA4_V",
        "outputId": "80c7c26e-f43c-432e-b82b-22153913cda1"
      },
      "execution_count": 14,
      "outputs": [
        {
          "output_type": "stream",
          "name": "stdout",
          "text": [
            "sneha is 22 years old\n",
            "sindhu is 19 years old\n",
            "hi!good morning\n",
            "hi!good morning\n"
          ]
        }
      ]
    },
    {
      "cell_type": "code",
      "source": [
        "#string method\n",
        "\n",
        "class person:\n",
        "  def __init__(self,name,age):\n",
        "    self.name=name\n",
        "    self.age=age\n",
        "  def __str__(self):\n",
        "   return f\"{self.name} is {self.age} years old\"\n",
        "data=person('sneha',22)\n",
        "print(data)"
      ],
      "metadata": {
        "colab": {
          "base_uri": "https://localhost:8080/"
        },
        "id": "d7NP2obqEBac",
        "outputId": "13a56cdc-efa5-4814-b9f5-52c6d9a076a0"
      },
      "execution_count": 31,
      "outputs": [
        {
          "output_type": "stream",
          "name": "stdout",
          "text": [
            "sneha is 22 years old\n"
          ]
        }
      ]
    },
    {
      "cell_type": "markdown",
      "source": [
        "#inheritance\n"
      ],
      "metadata": {
        "id": "6u2YHukSHrCm"
      }
    },
    {
      "cell_type": "code",
      "source": [
        "class restuarent:\n",
        "  def veg(self):\n",
        "    print('i am a vegetarian')\n",
        "  def non_veg(self):\n",
        "    print('i am a non-vegetarian')\n",
        "#inheritance\n",
        "class chicken(restuarent):\n",
        "  def item(self):\n",
        "    print('chicken biryani')\n",
        "class panner(restuarent):\n",
        "  def item(self):\n",
        "    print('panner tikka')\n",
        "print('order is:')\n",
        "item1=panner()\n",
        "item1.item()\n",
        "item1.veg()\n",
        "\n",
        "\n",
        "\n"
      ],
      "metadata": {
        "colab": {
          "base_uri": "https://localhost:8080/"
        },
        "id": "4ltZjsKOF9b-",
        "outputId": "7ba48131-92aa-4644-fe30-1066f01f1c8b"
      },
      "execution_count": 42,
      "outputs": [
        {
          "output_type": "stream",
          "name": "stdout",
          "text": [
            "order is:\n",
            "panner tikka\n",
            "i am a vegetarian\n"
          ]
        }
      ]
    },
    {
      "cell_type": "markdown",
      "source": [
        "#encapsulation"
      ],
      "metadata": {
        "id": "8fWr3VD0MT4n"
      }
    },
    {
      "cell_type": "code",
      "source": [
        "class age():\n",
        "  def __init__(self,x,y):\n",
        "    self.__x=x  #private\n",
        "    self._y=y   #protected\n",
        "    print(self.__x)\n",
        "  def output(self):\n",
        "    print(self._y)\n",
        "d=age(22,23)\n",
        "d.output()\n",
        "\n"
      ],
      "metadata": {
        "colab": {
          "base_uri": "https://localhost:8080/"
        },
        "id": "PDQYKYL3NhHY",
        "outputId": "c73f2b1b-e1c1-43de-db93-fe33f1e396e6"
      },
      "execution_count": 78,
      "outputs": [
        {
          "output_type": "stream",
          "name": "stdout",
          "text": [
            "22\n",
            "23\n"
          ]
        }
      ]
    },
    {
      "cell_type": "markdown",
      "source": [
        "#pohymorphism\n"
      ],
      "metadata": {
        "id": "JA6xJO2dVCv1"
      }
    },
    {
      "cell_type": "code",
      "source": [
        "class diff():\n",
        "  def sub(self,x,y):\n",
        "    print(x-y)\n",
        "obj=diff()\n",
        "print(obj.sub(5,8))\n",
        "print(obj.sub(5.2,1.8))"
      ],
      "metadata": {
        "colab": {
          "base_uri": "https://localhost:8080/"
        },
        "id": "uuJ-5stMSiJY",
        "outputId": "d5a651c2-5947-4459-ec95-5809a267f245"
      },
      "execution_count": 79,
      "outputs": [
        {
          "output_type": "stream",
          "name": "stdout",
          "text": [
            "-3\n",
            "None\n",
            "3.4000000000000004\n",
            "None\n"
          ]
        }
      ]
    },
    {
      "cell_type": "markdown",
      "source": [
        "#abstraction"
      ],
      "metadata": {
        "id": "G9jAqXKcWFCB"
      }
    },
    {
      "cell_type": "code",
      "source": [
        "from abc import ABC\n",
        "class collage(ABC):\n",
        "  def __init__(self,name,age,qualification):\n",
        "    self.name=name\n",
        "    self.age=age\n",
        "    self.qualification=qualification\n",
        "  def details(self):\n",
        "    pass\n",
        "  def person(self):\n",
        "    print('PROFILE')\n",
        "class student1(collage):\n",
        "  def details(self):\n",
        "   print('name:',self.name);\n",
        "   print('age:',self.age);\n",
        "   print('qualification:',self.qualification);\n",
        "class student2(collage):\n",
        "    def details(self):\n",
        "     print('name:',self.name);\n",
        "     print('age:',self.age);\n",
        "     print('qualification:',self.qualification);\n",
        "student=student1('sneha','22','btech')\n",
        "\n",
        "student.person()\n",
        "student.details()\n",
        "\n",
        "\n",
        "\n",
        "\n"
      ],
      "metadata": {
        "colab": {
          "base_uri": "https://localhost:8080/"
        },
        "id": "ti9noodKV_l2",
        "outputId": "d785f49c-d521-4946-a8a4-bb45a54ec291"
      },
      "execution_count": 83,
      "outputs": [
        {
          "output_type": "stream",
          "name": "stdout",
          "text": [
            "PROFILE\n",
            "name: sneha\n",
            "age: 22\n",
            "qualification: btech\n"
          ]
        }
      ]
    },
    {
      "cell_type": "code",
      "source": [],
      "metadata": {
        "id": "dMUvMm2LXPZh"
      },
      "execution_count": null,
      "outputs": []
    }
  ]
}