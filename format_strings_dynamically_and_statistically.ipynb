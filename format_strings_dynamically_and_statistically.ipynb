{
  "nbformat": 4,
  "nbformat_minor": 0,
  "metadata": {
    "colab": {
      "provenance": []
    },
    "kernelspec": {
      "name": "python3",
      "display_name": "Python 3"
    },
    "language_info": {
      "name": "python"
    }
  },
  "cells": [
    {
      "cell_type": "markdown",
      "source": [
        "#PYTHON_FORMAT_STRINGS WITH STASTICALLY AND DYNAMICALLY\n"
      ],
      "metadata": {
        "id": "69gfSukM7hii"
      }
    },
    {
      "cell_type": "markdown",
      "source": [
        "###satistically\n"
      ],
      "metadata": {
        "id": "RFsKca9CADTQ"
      }
    },
    {
      "cell_type": "code",
      "execution_count": 7,
      "metadata": {
        "colab": {
          "base_uri": "https://localhost:8080/"
        },
        "id": "Ta_LKtAv7fA8",
        "outputId": "11fadf48-cd60-4846-ac3e-2902840bbc37"
      },
      "outputs": [
        {
          "output_type": "stream",
          "name": "stdout",
          "text": [
            "iam coming to home in 2 days\n",
            "python_format_strings are 4 types \n",
            "total bill is 1475 each one have to pay 491.600000\n"
          ]
        }
      ],
      "source": [
        "a=\"home\"\n",
        "place=\"hyderabad\"\n",
        "_1=2\n",
        "_2=4\n",
        "_3=1475\n",
        "p_f_s=\"python_format_strings\"\n",
        "_4=491.6\n",
        "#%_operant(%)\n",
        "f_s1='iam coming to %s in %d days'%(a,_1)\n",
        "f_s2='%s are %d types '%(p_f_s,_2)\n",
        "f_s3='total bill is %d each one have to pay %f'%(_3,_4)\n",
        "print(f_s1)\n",
        "print(f_s2)\n",
        "print(f_s3)\n"
      ]
    },
    {
      "cell_type": "code",
      "source": [
        "#format method{}\n",
        "f_m='welcome to {}.it is nearly {} years to see you'.format(place,_2)\n",
        "f_m1='iam coming to {} in {} days'.format(a,_1)\n",
        "f_m2='{} are {} types '.format(p_f_s,_2)\n",
        "print(f_m)\n",
        "print(f_m1)\n",
        "print(f_m2)\n",
        "\n"
      ],
      "metadata": {
        "colab": {
          "base_uri": "https://localhost:8080/"
        },
        "id": "JqDfQtkpCHkV",
        "outputId": "400cecce-4db8-496e-aa13-d806f9b93023"
      },
      "execution_count": 15,
      "outputs": [
        {
          "output_type": "stream",
          "name": "stdout",
          "text": [
            "welcome to hyderabad.it is nearly 4 years to see you\n",
            "iam coming to home in 2 days\n",
            "python_format_strings are 4 types \n"
          ]
        }
      ]
    },
    {
      "cell_type": "code",
      "source": [
        "#string interpolation(f_strings)\n",
        "\n",
        "f_strings=f\"welcome to {place}.it is nearly {_2} years to see you.\"\n",
        "f_strings1=f'iam coming to {a} in {_1} days'\n",
        "f_strings2=f'{p_f_s} are {_2} types '\n",
        "print(f_strings)\n",
        "print(f_strings1)\n",
        "print(f_strings2)"
      ],
      "metadata": {
        "colab": {
          "base_uri": "https://localhost:8080/"
        },
        "id": "ejjfRsBgFFEK",
        "outputId": "62c0913e-582f-4bad-e786-1556421abe73"
      },
      "execution_count": 24,
      "outputs": [
        {
          "output_type": "stream",
          "name": "stdout",
          "text": [
            "welcome to hyderabad.it is nearly 4 years to see you.\n",
            "iam coming to home in 2 days\n",
            "python_format_strings are 4 types \n"
          ]
        }
      ]
    },
    {
      "cell_type": "markdown",
      "source": [
        "###dynamically"
      ],
      "metadata": {
        "id": "f3TTMm2QHBw5"
      }
    },
    {
      "cell_type": "code",
      "source": [
        "\n",
        "name=input(\"enter your name: \")\n",
        "age=int(input(\"age: \"))\n",
        "gender=input(\"gender: \")\n",
        "study=input(\"qualification: \")\n",
        "print(name)\n",
        "print(age)\n",
        "print(gender)\n",
        "print(study)\n",
        "\n"
      ],
      "metadata": {
        "colab": {
          "base_uri": "https://localhost:8080/"
        },
        "id": "Tw7ky-VuNkbQ",
        "outputId": "d6411db2-db8e-441f-9a2c-ecef73132f11"
      },
      "execution_count": 53,
      "outputs": [
        {
          "output_type": "stream",
          "name": "stdout",
          "text": [
            "enter your name: sneha\n",
            "age: 22\n",
            "gender: female\n",
            "qualification: btech\n",
            "sneha\n",
            "22\n",
            "female\n",
            "btech\n"
          ]
        }
      ]
    },
    {
      "cell_type": "code",
      "source": [
        "#%operant\n",
        "f_s3='my name is %s'%(name)\n",
        "f_s4=\"iam %d years old\"%(age)\n",
        "f_s5='i pursued  my %s from ku'%(study)\n",
        "print(f_s3)\n",
        "print(f_s4)\n",
        "print(f_s5)"
      ],
      "metadata": {
        "colab": {
          "base_uri": "https://localhost:8080/"
        },
        "id": "B8pXEnAeSx1n",
        "outputId": "532b516b-9547-45a2-e8fe-966993b4f0a4"
      },
      "execution_count": 57,
      "outputs": [
        {
          "output_type": "stream",
          "name": "stdout",
          "text": [
            "my name is sneha\n",
            "iam 22 years old\n",
            "i pursued  my btech from ku\n"
          ]
        }
      ]
    },
    {
      "cell_type": "code",
      "source": [
        "#format method{}\n",
        "\n",
        "f_m3='my name is {}'.format(name)\n",
        "f_m4=\"iam {} years old\".format(age)\n",
        "f_m5='i pursued  my {} from ku'.format(study)\n",
        "print(f_m3)\n",
        "print(f_m4)\n",
        "print(f_m5)"
      ],
      "metadata": {
        "colab": {
          "base_uri": "https://localhost:8080/"
        },
        "id": "xfenxyMnS8sH",
        "outputId": "a77cf84e-8bc2-4869-e35c-746e70613c98"
      },
      "execution_count": 58,
      "outputs": [
        {
          "output_type": "stream",
          "name": "stdout",
          "text": [
            "my name is sneha\n",
            "iam 22 years old\n",
            "i pursued  my btech from ku\n"
          ]
        }
      ]
    },
    {
      "cell_type": "code",
      "source": [
        "f_string3=f'my name is {name}'\n",
        "f_string4=f\"iam {age} years old\"\n",
        "f_string5=f'i pursued  my {study} from ku'\n",
        "print(f_string3)\n",
        "print(f_string4)\n",
        "print(f_string5)"
      ],
      "metadata": {
        "colab": {
          "base_uri": "https://localhost:8080/"
        },
        "id": "EeOFpLsVVNAc",
        "outputId": "adb18525-278f-478f-b695-e63bda3d1428"
      },
      "execution_count": 60,
      "outputs": [
        {
          "output_type": "stream",
          "name": "stdout",
          "text": [
            "my name is sneha\n",
            "iam 22 years old\n",
            "i pursued  my btech from ku\n"
          ]
        }
      ]
    },
    {
      "cell_type": "code",
      "source": [],
      "metadata": {
        "id": "Wsy4y3U-Vs4U"
      },
      "execution_count": null,
      "outputs": []
    },
    {
      "cell_type": "code",
      "source": [],
      "metadata": {
        "id": "wfuk3O4pV9Xn"
      },
      "execution_count": null,
      "outputs": []
    }
  ]
}