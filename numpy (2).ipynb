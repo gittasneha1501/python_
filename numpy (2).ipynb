{
  "cells": [
    {
      "cell_type": "code",
      "execution_count": null,
      "metadata": {
        "colab": {
          "base_uri": "https://localhost:8080/"
        },
        "id": "5tNctQKgyf3U",
        "outputId": "8654168a-b99b-4a69-c420-bc0c5def7d83"
      },
      "outputs": [
        {
          "name": "stdout",
          "output_type": "stream",
          "text": [
            "[1 3 5 7]\n",
            "[[1 2 3]\n",
            " [4 5 6]]\n",
            "[[[ 2  4  6]\n",
            "  [ 3  6  9]]\n",
            "\n",
            " [[ 5 10 15]\n",
            "  [ 4  8 12]]]\n"
          ]
        }
      ],
      "source": [
        "import numpy as np\n",
        "#creating numpy\n",
        "a=np.array([1,3,5,7])   #1D\n",
        "b=np.array([(1,2,3),(4,5,6)])   #2D\n",
        "c=np.array([[(2,4,6),(3,6,9)],[(5,10,15),(4,8,12)]])  #3D\n",
        "print(a)\n",
        "print(b)\n",
        "print(c)"
      ]
    },
    {
      "cell_type": "code",
      "execution_count": null,
      "metadata": {
        "colab": {
          "base_uri": "https://localhost:8080/"
        },
        "id": "yTxMmwj9bOlQ",
        "outputId": "e6190450-b556-44cf-98ba-f90bf989646a"
      },
      "outputs": [
        {
          "name": "stdout",
          "output_type": "stream",
          "text": [
            "[[0. 0. 0. 0.]\n",
            " [0. 0. 0. 0.]\n",
            " [0. 0. 0. 0.]\n",
            " [0. 0. 0. 0.]]\n"
          ]
        }
      ],
      "source": [
        "#initial placeholders\n",
        "x=np.zeros([4,4])\n",
        "print(x)"
      ]
    },
    {
      "cell_type": "code",
      "execution_count": null,
      "metadata": {
        "colab": {
          "base_uri": "https://localhost:8080/"
        },
        "id": "LBuqrVb8cMnm",
        "outputId": "c4f58f41-54d7-4b78-d1fb-ede8227af907"
      },
      "outputs": [
        {
          "name": "stdout",
          "output_type": "stream",
          "text": [
            "[ 1  3  5  7  9 11 13 15 17 19 21 23 25 27 29]\n"
          ]
        }
      ],
      "source": [
        "#evenly spaced values\n",
        "a=np.arange(1,30,2)#start,stop(n-1),step(n-1)\n",
        "print(a)"
      ]
    },
    {
      "cell_type": "code",
      "execution_count": null,
      "metadata": {
        "colab": {
          "base_uri": "https://localhost:8080/"
        },
        "id": "0pkOPh2IdJbK",
        "outputId": "11df0dad-1d26-4d93-b3c0-3401e7a681a6"
      },
      "outputs": [
        {
          "name": "stdout",
          "output_type": "stream",
          "text": [
            "[1.         1.28571429 1.57142857 1.85714286 2.14285714 2.42857143\n",
            " 2.71428571 3.        ]\n"
          ]
        }
      ],
      "source": [
        "#linspace\n",
        "b=np.linspace(1,3,8)#start,end,sample   #evenly spaced values\n",
        "print(b)"
      ]
    },
    {
      "cell_type": "code",
      "execution_count": null,
      "metadata": {
        "colab": {
          "base_uri": "https://localhost:8080/"
        },
        "id": "RsVvFo5teoBC",
        "outputId": "cbc5d282-3a27-4b59-c2d6-fb033fb7e4a0"
      },
      "outputs": [
        {
          "name": "stdout",
          "output_type": "stream",
          "text": [
            "[4 4 4 4 4]\n",
            "1\n",
            "[[5 5]\n",
            " [5 5]\n",
            " [5 5]]\n",
            "2\n",
            "[[[5 5]\n",
            "  [5 5]]\n",
            "\n",
            " [[5 5]\n",
            "  [5 5]]\n",
            "\n",
            " [[5 5]\n",
            "  [5 5]]]\n",
            "3\n"
          ]
        }
      ],
      "source": [
        "#constant  array\n",
        "x=np.full((5),4)#shape,fill value\n",
        "print(x)     #1D\n",
        "print(x.ndim)\n",
        "y=np.full((3,2),5)\n",
        "print(y)    #2D\n",
        "print(y.ndim)\n",
        "z=np.full((3,2,2),5)\n",
        "print(z)    #3D\n",
        "print(z.ndim)\n"
      ]
    },
    {
      "cell_type": "code",
      "execution_count": null,
      "metadata": {
        "colab": {
          "base_uri": "https://localhost:8080/"
        },
        "id": "IcJyziDFfJTm",
        "outputId": "eabd647a-abad-4b0b-f9fa-0892ee34bb2b"
      },
      "outputs": [
        {
          "name": "stdout",
          "output_type": "stream",
          "text": [
            "[[1. 0. 0. 0. 0.]\n",
            " [0. 1. 0. 0. 0.]\n",
            " [0. 0. 1. 0. 0.]\n",
            " [0. 0. 0. 1. 0.]\n",
            " [0. 0. 0. 0. 1.]]\n"
          ]
        }
      ],
      "source": [
        "#2*2 identity matrix\n",
        "p=np.eye(5)#dimension\n",
        "print(p)"
      ]
    },
    {
      "cell_type": "code",
      "execution_count": null,
      "metadata": {
        "colab": {
          "base_uri": "https://localhost:8080/"
        },
        "id": "tiQQkHhwgsHS",
        "outputId": "2d030c5d-0e06-49ee-d3e4-313814688b00"
      },
      "outputs": [
        {
          "name": "stdout",
          "output_type": "stream",
          "text": [
            "[[0.39941954 0.51511605 0.74362469]\n",
            " [0.3277285  0.31316823 0.4407275 ]\n",
            " [0.24406769 0.91541483 0.0132761 ]\n",
            " [0.77885035 0.96351902 0.45306718]\n",
            " [0.33294024 0.23538095 0.98218442]]\n"
          ]
        }
      ],
      "source": [
        "#random values\n",
        "q=np.random.random((5,3)) #rows,values between 0to1\n",
        "print(q)"
      ]
    },
    {
      "cell_type": "code",
      "execution_count": null,
      "metadata": {
        "colab": {
          "base_uri": "https://localhost:8080/"
        },
        "id": "y0moBtHUg8kw",
        "outputId": "a3d4def6-7794-407f-db1d-d1a5edd1ce9c"
      },
      "outputs": [
        {
          "name": "stdout",
          "output_type": "stream",
          "text": [
            "(2, 1, 3)\n",
            "6\n"
          ]
        },
        {
          "data": {
            "text/plain": [
              "2"
            ]
          },
          "execution_count": 51,
          "metadata": {},
          "output_type": "execute_result"
        }
      ],
      "source": [
        "#shape,size,len of array\n",
        "r=np.array([[(2,4,6)],\n",
        "  [(3,6,9)]])\n",
        "print(r.shape)\n",
        "print(r.size) #no.of elememts\n",
        "len(r) #len of rows"
      ]
    },
    {
      "cell_type": "markdown",
      "metadata": {
        "id": "TP2vDM4hjier"
      },
      "source": [
        "#math operations"
      ]
    },
    {
      "cell_type": "code",
      "execution_count": null,
      "metadata": {
        "colab": {
          "base_uri": "https://localhost:8080/"
        },
        "id": "0TD0I7qWhVf3",
        "outputId": "abc6dd30-de44-49dc-e8c8-7a760656de11"
      },
      "outputs": [
        {
          "name": "stdout",
          "output_type": "stream",
          "text": [
            "[[ 5 10 15]\n",
            " [ 5 10 15]]\n",
            "[[-1 -2 -3]\n",
            " [ 3  6  9]]\n",
            "[[ 6 24 54]\n",
            " [ 4 16 36]]\n",
            "[[0.66666667 0.66666667 0.66666667]\n",
            " [4.         4.         4.        ]]\n",
            "[[       8     4096 10077696]\n",
            " [       4       64     1728]]\n",
            "[[2 4 6]\n",
            " [0 0 0]]\n"
          ]
        }
      ],
      "source": [
        "x=([2,4,6],[4,8,12])\n",
        "y=([3,6,9],[1,2,3])\n",
        "print(np.add(x,y))\n",
        "print(np.subtract(x,y))\n",
        "print(np.multiply(x,y))\n",
        "print(np.divide(x,y))\n",
        "print(np.power(x,y))\n",
        "print(np.mod(x,y))"
      ]
    },
    {
      "cell_type": "code",
      "execution_count": null,
      "metadata": {
        "colab": {
          "base_uri": "https://localhost:8080/"
        },
        "id": "19lToIB0qgfA",
        "outputId": "03f8ba53-e0b6-4bc1-9751-8ac0cb29b7ee"
      },
      "outputs": [
        {
          "name": "stdout",
          "output_type": "stream",
          "text": [
            "6\n",
            "10\n",
            "6\n"
          ]
        }
      ],
      "source": [
        "#accesing\n",
        "x=np.array([2,4,6,8])  #1D\n",
        "print(x[2])\n",
        "print(x[0]+x[3])\n",
        "y=np.array([[3,6,9],[2,4,6]])  #2D\n",
        "print(y[1,2])    #row,index"
      ]
    },
    {
      "cell_type": "markdown",
      "metadata": {
        "id": "pBJkE4IusU3e"
      },
      "source": [
        "#Data types"
      ]
    },
    {
      "cell_type": "code",
      "execution_count": 64,
      "metadata": {
        "colab": {
          "base_uri": "https://localhost:8080/"
        },
        "id": "jU8CgfPqrATe",
        "outputId": "f93293d4-1d5e-41d7-b582-be9ab1cbc147"
      },
      "outputs": [
        {
          "output_type": "stream",
          "name": "stdout",
          "text": [
            "[ 2  4  6  8 10]\n",
            "int64\n"
          ]
        }
      ],
      "source": [
        "a=np.array([2,4,6,8,10])\n",
        "print(a)\n",
        "print(a.dtype)"
      ]
    },
    {
      "cell_type": "code",
      "source": [
        "#changing\n",
        "x=np.array([1,2,3,4,5])\n",
        "y=x.astype('f')\n",
        "print(y)\n",
        "print(y.dtype)\n"
      ],
      "metadata": {
        "colab": {
          "base_uri": "https://localhost:8080/"
        },
        "id": "Gz5mqbd-uXUz",
        "outputId": "9d5edc68-aabc-46e9-99f7-b8685a695748"
      },
      "execution_count": 90,
      "outputs": [
        {
          "output_type": "stream",
          "name": "stdout",
          "text": [
            "[1. 2. 3. 4. 5.]\n",
            "float32\n"
          ]
        }
      ]
    },
    {
      "cell_type": "code",
      "source": [
        "#methods\n",
        "x=np.array([1,2,3,4,5])\n",
        "y=x.copy()    #copy\n",
        "x[2]=0\n",
        "print(x)\n",
        "print(y)\n",
        "a=x.view()\n",
        "x[1]=23\n",
        "print(x)\n",
        "print(a)\n",
        "z=np.array([[2,3,4],[5,6,7]])  #shape(rows,colums)\n",
        "print(z.shape)\n"
      ],
      "metadata": {
        "colab": {
          "base_uri": "https://localhost:8080/"
        },
        "id": "Iu6XnXL9u0gn",
        "outputId": "0a5cc4d2-afe7-4da4-9adf-38cda10dfbcc"
      },
      "execution_count": 97,
      "outputs": [
        {
          "output_type": "stream",
          "name": "stdout",
          "text": [
            "[1 2 0 4 5]\n",
            "[1 2 3 4 5]\n",
            "[ 1 23  0  4  5]\n",
            "[ 1 23  0  4  5]\n",
            "(2, 3)\n"
          ]
        }
      ]
    },
    {
      "cell_type": "code",
      "source": [
        "#reshapping\n",
        "x=np.array([1,2,3,4,5,6,7,8])\n",
        "y=x.reshape(2,4)\n",
        "print(y)"
      ],
      "metadata": {
        "colab": {
          "base_uri": "https://localhost:8080/"
        },
        "id": "lc84qGg3wx6l",
        "outputId": "88d75515-4fea-4f9f-e730-40229f1a0403"
      },
      "execution_count": 99,
      "outputs": [
        {
          "output_type": "stream",
          "name": "stdout",
          "text": [
            "[[1 2 3 4]\n",
            " [5 6 7 8]]\n"
          ]
        }
      ]
    },
    {
      "cell_type": "code",
      "source": [
        "#sorting array\n",
        "p=np.array([2,4,6,8,10,23,13,12,32])\n",
        "print(np.sort(p))  #putting ordered"
      ],
      "metadata": {
        "colab": {
          "base_uri": "https://localhost:8080/"
        },
        "id": "mX_Dwu7vxv1Q",
        "outputId": "d41213c8-5632-4373-bbf5-560e578ed85d"
      },
      "execution_count": 100,
      "outputs": [
        {
          "output_type": "stream",
          "name": "stdout",
          "text": [
            "[ 2  4  6  8 10 12 13 23 32]\n"
          ]
        }
      ]
    },
    {
      "cell_type": "code",
      "source": [
        "#slicing\n",
        "q=np.array([3,6,9,12])\n",
        "print(q[0:2])\n",
        "print(q[-3:-1])"
      ],
      "metadata": {
        "colab": {
          "base_uri": "https://localhost:8080/"
        },
        "id": "j2PPGs23yJpP",
        "outputId": "4dbe137f-b607-4dbd-c6e2-def0d1d5b4ae"
      },
      "execution_count": 105,
      "outputs": [
        {
          "output_type": "stream",
          "name": "stdout",
          "text": [
            "[3 6]\n",
            "[6 9]\n"
          ]
        }
      ]
    },
    {
      "cell_type": "code",
      "source": [
        "#stop\n",
        "x=np.array([1,2,3,4,5,6,7,8,9])\n",
        "print(x[2:9:2]) #start,end,step"
      ],
      "metadata": {
        "colab": {
          "base_uri": "https://localhost:8080/"
        },
        "id": "V2SLaxK1yZnC",
        "outputId": "6551c99c-ea19-43c5-bdaa-17db847261a2"
      },
      "execution_count": 107,
      "outputs": [
        {
          "output_type": "stream",
          "name": "stdout",
          "text": [
            "[3 5 7 9]\n"
          ]
        }
      ]
    },
    {
      "cell_type": "code",
      "source": [
        "#slicing 2D\n",
        "z=np.array([[2,3,4],[5,6,7]])\n",
        "print(z[1,0:2]) #row,index\n"
      ],
      "metadata": {
        "colab": {
          "base_uri": "https://localhost:8080/"
        },
        "id": "EvB6M8wIzD_d",
        "outputId": "16ba0273-fd9a-4ceb-a29c-f0d85d5bb36c"
      },
      "execution_count": 108,
      "outputs": [
        {
          "output_type": "stream",
          "name": "stdout",
          "text": [
            "[5 6]\n"
          ]
        }
      ]
    },
    {
      "cell_type": "code",
      "source": [],
      "metadata": {
        "id": "BK_Bfnobz1JD"
      },
      "execution_count": null,
      "outputs": []
    }
  ],
  "metadata": {
    "colab": {
      "provenance": []
    },
    "kernelspec": {
      "display_name": "Python 3",
      "name": "python3"
    },
    "language_info": {
      "name": "python"
    }
  },
  "nbformat": 4,
  "nbformat_minor": 0
}